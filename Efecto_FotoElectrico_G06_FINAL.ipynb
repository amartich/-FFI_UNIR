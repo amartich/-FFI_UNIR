{
  "cells": [
    {
      "cell_type": "markdown",
      "source": [
        "# Ejercicio sobre el efecto fotoeléctrico\n",
        "\n",
        "Realizar de manera computacional dos ejercicios que recrean dos experimentos sobre física moderna: el movimiento de <strong>partículas cargadas en campos magnéticos y el efecto fotoeléctrico</strong>."
      ],
      "metadata": {}
    },
    {
      "cell_type": "markdown",
      "source": [
        "## Formulas a recordar: \n",
        "\n",
        "Ecuación de la recta:  $y = m⋅x+b$\n",
        "\n",
        "Constante Planck: $$m=\\frac{2\\pi h c }{ e}$$"
      ],
      "metadata": {}
    },
    {
      "cell_type": "markdown",
      "source": [
        "<strong>Ejercicio De calentamiento:</strong>"
      ],
      "metadata": {}
    },
    {
      "cell_type": "markdown",
      "source": [
        "Un <strong>ajuste a una recta</strong> (o regresión lineal) lo que persigue es hallar la ecuación de la recta que mejor pasa por una serie de puntos. Recordamos que una recta se puede definir, como mínimo, con <strong>dos puntos</strong> $x_1,y_1$ e $x_2,y_2$, de manera que cualquier otro punto de dicha recta $x,y$ ,  cumple que:  "
      ],
      "metadata": {}
    },
    {
      "cell_type": "markdown",
      "source": [
        "$$\\frac{x - x_1}{x_2 - x_1} = \\frac{y - y_1}{y_2 - y_1 } \\hspace{.2cm} es\\hspace{.1cm} equivalente \\hspace{.1cm}a: y= m \\cdot x + b $$"
      ],
      "metadata": {}
    },
    {
      "cell_type": "markdown",
      "source": [
        "Teniendo en cuenta que $m$ es la pendiente y $b$ la ordenada en el origen, entonces tendríamos:  "
      ],
      "metadata": {}
    },
    {
      "cell_type": "markdown",
      "source": [
        "$$ m=\\frac{x-x_1}{x_2-x_1}\\ ;   b=\\frac{x_1 \\cdot y_2-x_2 \\cdot y_1}{x_1-x_2}$$"
      ],
      "metadata": {}
    },
    {
      "cell_type": "markdown",
      "source": [
        "Si realizamos los cálculos correspondientes en la ecuación y despejamos a $y$, y sacamos factor común, entonces la expresión quedaría de la siguiente manera:"
      ],
      "metadata": {}
    },
    {
      "cell_type": "markdown",
      "source": [
        "\n",
        "\n",
        "$$\\frac{x - x_1}{x_2 - x_1} = \\frac{y - y_1}{y_2 - y_1 } => y= m \\cdot x + b $$\n",
        "\n",
        "$\\hspace{5.3cm}\\frac{(x - x_1)(y_2 - y_1 )}{x_2 - x_1} =y-y_1 $\n",
        "\n",
        "$\\hspace{5.3cm}\\frac{xy_2 -xy_1-x_1y_2+x_1y_1}{x_2 - x_1} =y-y_1 $\n",
        "\n",
        "$\\hspace{5.3cm}y=\\frac{xy_2 -xy_1-x_1y_2+x_1y_1}{x_2 - x_1} +y_1 $\n",
        "\n",
        "Cancelamos terminos\n",
        "\n",
        "$\\hspace{6.3cm}y=\\frac{xy_2 -xy_1-xy_2+ \\cancel{x_1y_1} + y_1x_2- \\cancel {y_1x_1}}{x_2 - x_1}$\n",
        "\n",
        "$\\hspace{6.3cm}y=\\frac{xy_2 -xy_1-xy_2 + y_1x_2- }{x_2 - x_1}$\n",
        "\n",
        "\n",
        "\n",
        "$\\hspace{6.3cm}y=\\frac{xy_2 -xy_1}{x_2 - x_1} + \\frac{-x_1y_2 +y_1x_2}{x_2 - x_1} $\n",
        "\n",
        "Multiplicando todo por (-1)\n",
        "\n",
        "\n",
        "$\\hspace{6.3cm}y=\\frac{-xy_2 +xy_1}{-x_2 + x_1} + \\frac{x_1y_2 -y_1x_2}{-x_2 + x_1} $\n",
        "\n",
        "Factor comun $x$\n",
        "\n",
        "$\\hspace{6.3cm}y= (\\frac{y_1 -y_2}{x_1 - x_2}) \\cdot x + (\\frac{x_1y_2 -x_2y_1}{x_1- x_2}) $\n",
        "\n",
        "\n",
        "$\\hspace{6.3cm} m= \\frac{y_1 -y_2}{x_1 - x_2} \\hspace{1cm} b=\\frac{x_1y_2 -x_2y_1}{x_1- x_2} $\n",
        "\n",
        "\n",
        "\n",
        "\n",
        "\n",
        "\n"
      ],
      "metadata": {}
    },
    {
      "cell_type": "markdown",
      "source": [
        "Y aquí ya podemos observar que tenemos la ecuación $ \\ y=mx + b$ también denominada ecuación explicita de la recta de pendiente m y ordenada en el origen b."
      ],
      "metadata": {}
    },
    {
      "cell_type": "markdown",
      "source": [
        "# Primer ejercicio\n",
        "\n",
        "Haz una tabla rápida con el nombre de cada color del arcoíris (azul, rojo, amarillo, etc.) en una columna, en una segunda columna escribe su longitud de onda (en metros) y en una tercera columna, su frecuencia (en Hercios). ¿Cuál es la relación matemática entre longitud de onda y frecuencia de una onda electromagnética?"
      ],
      "metadata": {}
    },
    {
      "cell_type": "markdown",
      "source": [
        "# Toma de medidas con el applet del efecto Fotoeléctrico"
      ],
      "metadata": {}
    },
    {
      "cell_type": "markdown",
      "source": [
        "### Demostración Sodio\n",
        "\n",
        "$\\hspace{6.3cm}\\begin{pmatrix}                                \n",
        "       & \\lambda & V \\\\\n",
        "Sodium & 130_{nm} & -7'20_v\\\\\n",
        "Sodium & 224_{nm} & -3'20_v \\\\\n",
        "Sodium & 293_{nm} & -1'89_v \\\\\n",
        "Sodium & 441_{nm} & -0'40_v\\\\\n",
        "\\end{pmatrix}$"
      ],
      "metadata": {}
    },
    {
      "cell_type": "markdown",
      "source": [],
      "metadata": {}
    },
    {
      "cell_type": "markdown",
      "source": [
        "\n",
        "<img src=\"https://i.imgur.com/FUqcJNX.png\" style=\"float: left; width: 35%; margin-right: 1%; margin-bottom: 0.5em;\">\n",
        "<img src=\"https://i.imgur.com/yTS47wq.png\" style=\"float: left; width: 35%; margin-right: 1%; margin-bottom: 0.5em;\">\n",
        "<img src=\"https://i.imgur.com/zhJIX3J.png\" style=\"float: left; width: 35%; margin-right: 1%; margin-bottom: 0.5em;\">\n",
        "<img src=\"https://i.imgur.com/90fcLLF.png\" style=\"float: left; width: 35%; margin-right: 1%; margin-bottom: 0.5em;\">"
      ],
      "metadata": {}
    },
    {
      "cell_type": "markdown",
      "source": [
        "Como vemos en la demostración, para los primeros 3 valores de nuestra tabla, los electrones no llegan el extremo de la placa por el contra voltaje aplicado el 3er valor casi toca la placa pero no logra cruzar. Sin embargo, para el ultimo valor, los electrones llegan a cruzar el extremo de la placa."
      ],
      "metadata": {}
    },
    {
      "cell_type": "code",
      "source": [
        "var longitudes_de_onda_medidas_sodio = [130, 224, 293, 441].map(x => x*1e-9); // para pasar a metros\n",
        "var voltajes_medidos_sodio = [-7.20, -3.20, -1.89, -0.40]; // en voltios (voltaje de frenado)\n",
        "\n",
        "console.log('Logitudes de ondas medidas Sodio= ' + longitudes_de_onda_medidas_sodio);\n",
        "\n",
        "var inversa_de_longitudes_de_onda_sodio = longitudes_de_onda_medidas_sodio.map(lambda => 1/lambda );  \n",
        "var datos_a_ajustar_sodio = voltajes_medidos_sodio.reduce((tuplas_longitud_onda_voltaje_sodio, b, i) => {\n",
        "    tuplas_longitud_onda_voltaje_sodio.push([inversa_de_longitudes_de_onda_sodio[i], b]);\n",
        "  return tuplas_longitud_onda_voltaje_sodio;\n",
        "}, []);\n",
        "console.log('Tuplas 1/lambdas= ' + datos_a_ajustar_sodio); // Verás que son tuplas de valores 1/lambda y voltajes"
      ],
      "outputs": [
        {
          "output_type": "stream",
          "name": "stdout",
          "text": [
            "Logitudes de ondas medidas Sodio= 1.3e-7,2.2400000000000002e-7,2.9300000000000004e-7,4.4100000000000004e-7\n",
            "Tuplas 1/lambdas= 7692307.692307692,-7.2,4464285.714285714,-3.2,3412969.28327645,-1.89,2267573.6961451243,-0.4\n"
          ]
        }
      ],
      "execution_count": 23,
      "metadata": {
        "inputHidden": false,
        "outputHidden": false,
        "execution": {
          "shell.execute_reply": "2020-11-23T23:30:29.754Z",
          "iopub.status.busy": "2020-11-23T23:30:29.886Z",
          "iopub.execute_input": "2020-11-23T23:30:29.895Z",
          "iopub.status.idle": "2020-11-23T23:30:29.912Z"
        }
      }
    },
    {
      "cell_type": "markdown",
      "source": [
        "### Demostración Zinc\n",
        "\n",
        "$\\hspace{6.3cm}\\begin{pmatrix}                     \n",
        "       & \\lambda &  V \\\\\n",
        "Zinc & 174_{nm} & -2'80_v \\\\\n",
        "Zinc & 230_{nm} & -1_v     \\\\\n",
        "Zinc & 243_{nm} & -0'80_v \\\\\n",
        "Zinc & 246_{nm} & -0'60_v &\\\\\n",
        "\\end{pmatrix}$\n",
        "\n"
      ],
      "metadata": {}
    },
    {
      "cell_type": "markdown",
      "source": [
        "<img src=\"https://i.imgur.com/NlErLFq.png\" style=\"float: left; width: 35%; margin-right: 1%; margin-bottom: 0.5em;\">\n",
        "<img src=\"https://i.imgur.com/7XpblBR.png\" style=\"float: left; width: 35%; margin-right: 1%; margin-bottom: 0.5em;\">\n",
        "<img src=\"https://i.imgur.com/jfF1D5m.png\" style=\"float: left; width: 35%; margin-right: 1%; margin-bottom: 0.5em;\">\n",
        "<img src=\"https://i.imgur.com/vpTJky9.png\" style=\"float: left; width: 35%; margin-right: 1%; margin-bottom: 0.5em;\">"
      ],
      "metadata": {}
    },
    {
      "cell_type": "markdown",
      "source": [
        "En el caso del Zinc, el 2do y el 4to valor llegan a cruzar el tro lado de la placa lo que quiere decir que para este metal, la corriente medida en el amperímetro es nula. Sin embargo, para el 1er y 3er valor, los electrones llegan muy cerca de la placa pero, no llegan a cruzar por el contra votaje aplicado."
      ],
      "metadata": {}
    },
    {
      "cell_type": "code",
      "source": [
        "var longitudes_de_onda_medidas_zinc = [174, 230, 243, 246].map(x => x*1e-9); // para pasar a metros\n",
        "var voltajes_medidos_zinc = [-2.80, -1, -0.80, -0.60]; // en voltios (voltaje de frenado)\n",
        "\n",
        "console.log('Logitudes de ondas medidas Zinc= ' + longitudes_de_onda_medidas_zinc);\n",
        "\n",
        "var inversa_de_longitudes_de_onda_zinc = longitudes_de_onda_medidas_zinc.map(lambda => 1/lambda );  \n",
        "var datos_a_ajustar_zinc = voltajes_medidos_zinc.reduce((tuplas_longitud_onda_voltaje_zinc, b, i) => {\n",
        "    tuplas_longitud_onda_voltaje_zinc.push([inversa_de_longitudes_de_onda_zinc[i], b]);\n",
        "  return tuplas_longitud_onda_voltaje_zinc;\n",
        "}, []);\n",
        "console.log('Tuplas 1/lambdas= ' + datos_a_ajustar_zinc); // Verás que son tuplas de valores 1/lambda y voltajes"
      ],
      "outputs": [
        {
          "output_type": "stream",
          "name": "stdout",
          "text": [
            "Logitudes de ondas medidas Zinc= 1.7400000000000002e-7,2.3000000000000002e-7,2.43e-7,2.46e-7\n",
            "Tuplas 1/lambdas= 5747126.4367816085,-2.8,4347826.0869565215,-1,4115226.3374485597,-0.8,4065040.650406504,-0.6\n"
          ]
        }
      ],
      "execution_count": 24,
      "metadata": {
        "inputHidden": false,
        "outputHidden": false,
        "execution": {
          "iopub.status.busy": "2020-11-23T23:30:29.924Z",
          "iopub.execute_input": "2020-11-23T23:30:29.934Z",
          "iopub.status.idle": "2020-11-23T23:30:29.953Z",
          "shell.execute_reply": "2020-11-23T23:30:29.764Z"
        }
      }
    },
    {
      "cell_type": "markdown",
      "source": [
        "# Ajuste de una recta\n",
        "\n",
        "A continuación ya podemos hacer el ajuste a una recta y obtener los valores $m$  y $b$. Para los metales seleccionados  y sus valores. Ver los valores en el ejercicio anterior."
      ],
      "metadata": {}
    },
    {
      "cell_type": "code",
      "source": [
        "\n",
        "var regression = require('./regression.js');\n",
        "var resultadoSodio = regression.linear(datos_a_ajustar_sodio, { precision: 15 });\n",
        "var m1 = resultadoSodio.equation[0];  // pendiente\n",
        "var b1 = resultadoSodio.equation[1];  // ordenada en origen\n",
        "console.log('Para el Sodio la pendiente es = ' + m1 + ' y la ordenada es = ' + b1);\n"
      ],
      "outputs": [
        {
          "output_type": "stream",
          "name": "stdout",
          "text": [
            "Para el Sodio la pendiente es = -0.000001250061845 y la ordenada es = 2.40188090505463\n"
          ]
        }
      ],
      "execution_count": 25,
      "metadata": {
        "execution": {
          "shell.execute_reply": "2020-11-23T23:30:29.773Z",
          "iopub.status.busy": "2020-11-23T23:30:29.963Z",
          "iopub.execute_input": "2020-11-23T23:30:29.969Z",
          "iopub.status.idle": "2020-11-23T23:30:29.981Z"
        }
      }
    },
    {
      "cell_type": "markdown",
      "source": [
        "Una  vez calculado los datos obtenemos los valores de la pendinente mediante la formula:\n",
        "$$\\hspace{5.3cm} m=\\frac{2\\pi h c }{ e}$$ y si despejamos de la formula $h$ tachada obtenemos el valor de la consntante de Planck:\n",
        "\n",
        "$$h=\\frac{ -1.250061845*10^-6*1.602*10^-19}{2*3.141592*3*10^8}= 1,054571818*10^-34\\  J*s $$"
      ],
      "metadata": {}
    },
    {
      "cell_type": "markdown",
      "source": [
        "### Hemos obtenido manualmente la constante de plank tambien probramos usando una celda de codigo y da el mismo resultado."
      ],
      "metadata": {}
    },
    {
      "cell_type": "code",
      "source": [
        "pi=3.141592\n",
        "e=-1.602e-19\n",
        "c=3e8\n",
        "h=m1*e/(2*pi*c); \n"
      ],
      "outputs": [
        {
          "output_type": "execute_result",
          "execution_count": 26,
          "data": {
            "text/plain": "1.0624120274529603e-34"
          },
          "metadata": {}
        }
      ],
      "execution_count": 26,
      "metadata": {
        "inputHidden": false,
        "outputHidden": false,
        "execution": {
          "shell.execute_reply": "2020-11-23T23:30:29.780Z",
          "iopub.status.busy": "2020-11-23T23:30:29.993Z",
          "iopub.execute_input": "2020-11-23T23:30:30.001Z",
          "iopub.status.idle": "2020-11-23T23:30:30.015Z"
        }
      }
    },
    {
      "cell_type": "code",
      "source": [
        "var resultadoZinc = regression.linear(datos_a_ajustar_zinc, { precision: 15 });\n",
        "var m2 = resultadoZinc.equation[0];  // pendiente\n",
        "var b2 = resultadoZinc.equation[1];  // ordenada en origen\n",
        "console.log('Para el Zinc la pendiente es = ' + m2 + ' y la ordenada es = ' + b2);"
      ],
      "outputs": [
        {
          "output_type": "stream",
          "name": "stdout",
          "text": [
            "Para el Zinc la pendiente es = -0.000001272258024 y la ordenada es = 4.51269866599645\n"
          ]
        }
      ],
      "execution_count": 27,
      "metadata": {
        "execution": {
          "shell.execute_reply": "2020-11-23T23:30:29.789Z",
          "iopub.status.busy": "2020-11-23T23:30:30.025Z",
          "iopub.execute_input": "2020-11-23T23:30:30.034Z",
          "iopub.status.idle": "2020-11-23T23:30:30.048Z"
        }
      }
    },
    {
      "cell_type": "markdown",
      "source": [
        "$$h=\\frac{ -0.1272258024*10^-6*1.602*10^-19}{2*3.141592*3*10^8}=1.0812762841514748e-34  J*s $$"
      ],
      "metadata": {}
    },
    {
      "cell_type": "code",
      "source": [
        "pi=3.141592\n",
        "e=-1.602e-19\n",
        "c=3e8\n",
        "h=m2*e/(2*pi*c); "
      ],
      "outputs": [
        {
          "output_type": "execute_result",
          "execution_count": 28,
          "data": {
            "text/plain": "1.0812762841514748e-34"
          },
          "metadata": {}
        }
      ],
      "execution_count": 28,
      "metadata": {
        "inputHidden": false,
        "outputHidden": false,
        "execution": {
          "shell.execute_reply": "2020-11-23T23:30:29.800Z",
          "iopub.status.busy": "2020-11-23T23:30:30.060Z",
          "iopub.execute_input": "2020-11-23T23:30:30.067Z",
          "iopub.status.idle": "2020-11-23T23:30:30.080Z"
        }
      }
    },
    {
      "cell_type": "markdown",
      "source": [
        "# Representación gráfica de los datos para cada metal"
      ],
      "metadata": {}
    },
    {
      "cell_type": "code",
      "source": [
        "function Plotly(data, layout, $$) {\n",
        "    $$ = $$ || global.$$;\n",
        "    $$.mime({ \"application/vnd.plotly.v1+json\": { data: data, layout: layout ,scrollZoom: true} });\n",
        "}"
      ],
      "outputs": [],
      "execution_count": 39,
      "metadata": {
        "execution": {
          "shell.execute_reply": "2020-11-23T23:32:39.619Z",
          "iopub.status.busy": "2020-11-23T23:32:39.584Z",
          "iopub.execute_input": "2020-11-23T23:32:39.593Z",
          "iopub.status.idle": "2020-11-23T23:32:39.607Z"
        }
      }
    },
    {
      "cell_type": "markdown",
      "source": [
        "Para dibujar la recta, tenemos que calcular los puntos $y$ (voltajes) para los mismos valores de $x$ (inversas de las longitudes de onda medidas con el applet) y con los resultados de $m$ y $b$ que hemos obtenido con el ajuste anterior. Matemáticamente: $V_{calculando} = m \\cdot \\frac 1{\\lambda} + b$. En Javascript este cálculo se puede hacer de manera muy sencilla mediante el método map sobre el array de frecuencias medidas."
      ],
      "metadata": {}
    },
    {
      "cell_type": "code",
      "source": [
        "voltajes_de_frenado_calculados_sodio = inversa_de_longitudes_de_onda_sodio.map(inversa_lambda => inversa_lambda * m1 + b1);\n",
        "\n"
      ],
      "outputs": [
        {
          "output_type": "execute_result",
          "execution_count": 30,
          "data": {
            "text/plain": "[\n  -7.213979441099216,\n  -3.1787523315525124,\n  -1.8645417741262569,\n  -0.4327264532220134\n]"
          },
          "metadata": {}
        }
      ],
      "execution_count": 30,
      "metadata": {
        "execution": {
          "shell.execute_reply": "2020-11-23T23:30:29.821Z",
          "iopub.status.busy": "2020-11-23T23:30:30.121Z",
          "iopub.execute_input": "2020-11-23T23:30:30.128Z",
          "iopub.status.idle": "2020-11-23T23:30:30.140Z"
        }
      }
    },
    {
      "cell_type": "code",
      "source": [
        "datos = [\n",
        "  { x: inversa_de_longitudes_de_onda_sodio, y: voltajes_medidos_sodio,  name: 'Datos experimentales Sodio' }, \n",
        "  { x: inversa_de_longitudes_de_onda_sodio, y: voltajes_de_frenado_calculados_sodio, name: 'Datos calculados tras ajuste' }\n",
        "\n",
        "];\n",
        "var layout = {\n",
        "  title: 'x 1/lambda 1/m',\n",
        "  xaxis: { title: 'X Longitudes',\n",
        "    titlefont: { family: 'Courier, monospace', size: 15, color: '#c8bac2' }\n",
        "  },\n",
        "  yaxis: { \n",
        "      title: 'Y= potencia voltios', \n",
        "     titlefont: { family: 'Arial', size: 15, color: '#c94c4c' }\n",
        "  }\n",
        "};\n",
        "Plotly(datos, layout);"
      ],
      "outputs": [
        {
          "output_type": "execute_result",
          "execution_count": 63,
          "data": {
            "application/vnd.plotly.v1+json": {
              "data": [
                {
                  "x": [
                    7692307.692307692,
                    4464285.714285714,
                    3412969.28327645,
                    2267573.6961451243
                  ],
                  "y": [
                    -7.2,
                    -3.2,
                    -1.89,
                    -0.4
                  ],
                  "name": "Datos experimentales Sodio"
                },
                {
                  "x": [
                    7692307.692307692,
                    4464285.714285714,
                    3412969.28327645,
                    2267573.6961451243
                  ],
                  "y": [
                    -7.213979441099216,
                    -3.1787523315525124,
                    -1.8645417741262569,
                    -0.4327264532220134
                  ],
                  "name": "Datos calculados tras ajuste"
                }
              ],
              "layout": {
                "title": "x 1/lambda 1/m",
                "xaxis": {
                  "title": "X Longitudes",
                  "titlefont": {
                    "family": "Courier, monospace",
                    "size": 15,
                    "color": "#c8bac2"
                  }
                },
                "yaxis": {
                  "title": "Y potencia voltios",
                  "titlefont": {
                    "family": "Arial",
                    "size": 15,
                    "color": "#c94c4c"
                  }
                }
              },
              "scrollZoom": true
            }
          },
          "metadata": {}
        }
      ],
      "execution_count": 63,
      "metadata": {
        "inputHidden": false,
        "outputHidden": false,
        "execution": {
          "shell.execute_reply": "2020-11-23T23:41:19.521Z",
          "iopub.status.busy": "2020-11-23T23:41:19.445Z",
          "iopub.execute_input": "2020-11-23T23:41:19.456Z",
          "iopub.status.idle": "2020-11-23T23:41:19.512Z"
        }
      }
    },
    {
      "cell_type": "code",
      "source": [
        "voltajes_de_frenado_calculados_zinc = inversa_de_longitudes_de_onda_zinc.map(inversa_lambda => inversa_lambda * m2 + b2);"
      ],
      "outputs": [
        {
          "output_type": "execute_result",
          "execution_count": 32,
          "data": {
            "text/plain": "[\n  -2.79912905814148,\n  -1.0188579600905063,\n  -0.7229310623986116,\n  -0.6590819193694033\n]"
          },
          "metadata": {}
        }
      ],
      "execution_count": 32,
      "metadata": {
        "inputHidden": false,
        "outputHidden": false,
        "execution": {
          "shell.execute_reply": "2020-11-23T23:30:29.857Z",
          "iopub.status.busy": "2020-11-23T23:30:30.211Z",
          "iopub.execute_input": "2020-11-23T23:30:30.219Z",
          "iopub.status.idle": "2020-11-23T23:30:30.232Z"
        }
      }
    },
    {
      "cell_type": "code",
      "source": [
        "datos = [\n",
        "  { x: inversa_de_longitudes_de_onda_zinc, y: voltajes_medidos_zinc,  name: 'Datos experimentales Zinc' }, \n",
        "  { x: inversa_de_longitudes_de_onda_zinc, y: voltajes_de_frenado_calculados_zinc, name: 'Datos calculados tras ajuste' }\n",
        "\n",
        "];\n",
        "var layout = {\n",
        "  title: 'x 1/lambda 1/m',\n",
        "  xaxis: { title: 'X Longitudes', titlefont: { family: 'Arial, monospace', size: 15, color: '#fbfeff'} \n",
        "  },\n",
        "  yaxis: { \n",
        "      title: 'Y potencia voltios', \n",
        "     titlefont: { family: 'Arial, monospace', size: 10, color: '#fbfeff', type: 'log', autorange: true }\n",
        "  }\n",
        "};\n",
        "Plotly(datos, layout);"
      ],
      "outputs": [
        {
          "output_type": "execute_result",
          "execution_count": 51,
          "data": {
            "application/vnd.plotly.v1+json": {
              "data": [
                {
                  "x": [
                    5747126.4367816085,
                    4347826.0869565215,
                    4115226.3374485597,
                    4065040.650406504
                  ],
                  "y": [
                    -2.8,
                    -1,
                    -0.8,
                    -0.6
                  ],
                  "name": "Datos experimentales Zinc"
                },
                {
                  "x": [
                    5747126.4367816085,
                    4347826.0869565215,
                    4115226.3374485597,
                    4065040.650406504
                  ],
                  "y": [
                    -2.79912905814148,
                    -1.0188579600905063,
                    -0.7229310623986116,
                    -0.6590819193694033
                  ],
                  "name": "Datos calculados tras ajuste"
                }
              ],
              "layout": {
                "title": "x 1/lambda 1/m",
                "xaxis": {
                  "title": "X Longitudes",
                  "titlefont": {
                    "family": "Arial, monospace",
                    "size": 15,
                    "color": "#fbfeff"
                  }
                },
                "yaxis": {
                  "title": "Y potencia voltios",
                  "titlefont": {
                    "family": "Arial, monospace",
                    "size": 10,
                    "color": "#fbfeff",
                    "type": "log",
                    "autorange": true
                  }
                }
              },
              "scrollZoom": true
            }
          },
          "metadata": {}
        }
      ],
      "execution_count": 51,
      "metadata": {
        "inputHidden": false,
        "outputHidden": false,
        "execution": {
          "shell.execute_reply": "2020-11-23T23:36:35.953Z",
          "iopub.status.busy": "2020-11-23T23:36:35.878Z",
          "iopub.execute_input": "2020-11-23T23:36:35.887Z",
          "iopub.status.idle": "2020-11-23T23:36:35.945Z"
        }
      }
    },
    {
      "cell_type": "code",
      "source": [],
      "outputs": [
        {
          "output_type": "error",
          "ename": "TypeError",
          "evalue": "Plotly.react is not a function",
          "traceback": [
            "evalmachine.<anonymous>:19",
            "Plotly.react('myDiv', data, layout);",
            "       ^",
            "",
            "TypeError: Plotly.react is not a function",
            "    at evalmachine.<anonymous>:19:8",
            "    at Script.runInThisContext (vm.js:126:20)",
            "    at Object.runInThisContext (vm.js:316:38)",
            "    at run ([eval]:1054:15)",
            "    at onRunRequest ([eval]:888:18)",
            "    at onMessage ([eval]:848:13)",
            "    at process.emit (events.js:203:13)",
            "    at emit (internal/child_process.js:876:12)",
            "    at processTicksAndRejections (internal/process/task_queues.js:77:11)"
          ]
        }
      ],
      "execution_count": 21,
      "metadata": {
        "collapsed": true,
        "jupyter": {
          "source_hidden": false,
          "outputs_hidden": false
        },
        "nteract": {
          "transient": {
            "deleting": false
          }
        },
        "execution": {
          "iopub.status.busy": "2020-11-23T23:25:11.955Z",
          "iopub.execute_input": "2020-11-23T23:25:11.963Z",
          "iopub.status.idle": "2020-11-23T23:25:11.988Z",
          "shell.execute_reply": "2020-11-23T23:25:11.999Z"
        }
      }
    },
    {
      "cell_type": "code",
      "source": [
        "# TABLA DE VALORACION\n",
        "\n",
        "Del grupo en el que estoy, solo puedo decir que de los 4 integrantes del grupo solo hemosparticipado y colaborado activamente por diferentes medios los siguentes estudiantes:\n",
        "## Anyel Martich Pulinario\n",
        "## Miguel Angel Delgado Chaves\n"
      ],
      "outputs": [
        {
          "output_type": "error",
          "ename": "SyntaxError",
          "evalue": "Invalid or unexpected token",
          "traceback": [
            "evalmachine.<anonymous>:1",
            "# TABLA DE VALORACION",
            "^",
            "",
            "SyntaxError: Invalid or unexpected token",
            "    at new Script (vm.js:86:7)",
            "    at createScript (vm.js:268:10)",
            "    at Object.runInThisContext (vm.js:316:10)",
            "    at run ([eval]:1054:15)",
            "    at onRunRequest ([eval]:888:18)",
            "    at onMessage ([eval]:848:13)",
            "    at process.emit (events.js:203:13)",
            "    at emit (internal/child_process.js:876:12)",
            "    at processTicksAndRejections (internal/process/task_queues.js:77:11)"
          ]
        }
      ],
      "execution_count": 34,
      "metadata": {
        "execution": {
          "shell.execute_reply": "2020-11-23T23:30:29.873Z",
          "iopub.status.busy": "2020-11-23T23:30:30.307Z",
          "iopub.execute_input": "2020-11-23T23:30:30.316Z",
          "iopub.status.idle": "2020-11-23T23:30:30.330Z"
        }
      }
    }
  ],
  "metadata": {
    "kernel_info": {
      "name": "node_nteract"
    },
    "kernelspec": {
      "display_name": "Javascript (Node.js)",
      "language": "javascript",
      "name": "javascript"
    },
    "language_info": {
      "name": "javascript",
      "version": "12.8.1",
      "mimetype": "application/javascript",
      "file_extension": ".js"
    },
    "nteract": {
      "version": "0.26.0"
    }
  },
  "nbformat": 4,
  "nbformat_minor": 4
}