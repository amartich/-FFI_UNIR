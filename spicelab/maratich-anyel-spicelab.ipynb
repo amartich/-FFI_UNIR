{
 "cells": [
  {
   "cell_type": "markdown",
   "metadata": {},
   "source": [
    "<img src=\"https://github.com/JaimeOro/FFI-Actividad01/blob/main/unirLogo.PNG?raw=true\" style=\"float:center; height: 175; margin-right: auto ; margin-bottom: 0.0em; width: 300px;  margin-left: auto;\">"
   ]
  },
  {
   "cell_type": "markdown",
   "metadata": {},
   "source": [
    "# Actividad #2  Laboratorio Spice"
   ]
  },
  {
   "cell_type": "markdown",
   "metadata": {},
   "source": [
    "**Autores:** \n",
    "    \n",
    "    Anyel Martich Pulinario\n",
    "    Jaime César Orozco Lombart\n",
    "    "
   ]
  },
  {
   "cell_type": "markdown",
   "metadata": {},
   "source": [
    "\n",
    " # Objetivo del laboratorio\n",
    " El objetivo de la presenta práctica es conocer el estándar de simulación de circuitos [SPICE](http://bwrcs.eecs.berkeley.edu/Classes/IcBook/SPICE) y realizar pequeñas simulaciones en corriente continua con el mismo. SPICE es una forma elegante y sencilla de codificar circuitos eléctricos de manera que puedan ser procesados por un ordenador. Mediante un sencillo lenguaje podemos definir resistencias, fuentes de alimentación, etc., las conexiones entre ellos y los resultados que deseamos obtener.\n",
    "\n",
    " # El estándar SPICE\n",
    " **SPICE** es una abreviabiación de *Simulation Program with Integrated Circtuit Emphasis*.\n",
    " Se trata básicamente de un método estándar para describir circuitos usando texto plano en\n",
    " lugar de una representación gráfica (o *esquemática*). A esta descripción en texto se\n",
    " la llama también **netlist** y básicamente se corresponde con la *lista* de los componentes del circuito y cómo estos están conectados entre sí, es decir, de los nodos de unión.\n",
    " Los ficheros netlist pueden tener extensiones `.cir`, `.net`, `.ckt`, ó `.sp` y es muy común encontrárselos con cualquiera de estas.\n",
    "\n",
    " Existen en el mercado muchas variantes (intérpretes) de Spice, aunque el original fue descrito\n",
    " en la Universidad de Berkeley. En la lista de intérpretes de Spice tenemos desde esfuerzos y proyectos comerciales hasta *open source* y regidos por distintas comunidades de usuarios y programadores.\n",
    "\n",
    "> **Pregunta:** Enumera todos los intérprete de Spice que puedas encontrar. Crea una tabla en Markdown con varias columnas (para el nombre, fabricante, versión actual, licencia y alguna característica sobresaliente). Aquí tienes un ejemplo del que puedes partir y seguir completando:\n",
    "\n",
    " \n",
    "| Intérprete  |  Licencia         | Fabricante             | Características                      |\n",
    " | :-----------| :-----------------| :----------------------| :------------------------------------|\n",
    " | Ahkab       |  GPL              | Giuseppe Venturini     | Basado en Python                     |\n",
    " | Ngspice     | BSD license       | UC Berkeley            | Soporta Simulacioón de ruido         |     \n",
    " | Spice3      | BSD license       | UC Berkeley            | MOSFET mas sofisticados Que la version SPICE2|                         \n",
    " | PySpice     | GPLv3             | Fabrice Salvaire       | Basado en Python y Ngspice           |\n",
    " | PSPICE      | OrCAD® Proprietary| PSpice technology      | Capacidad de integración con dispositivos IoT|\n",
    " | HSPICE      | Synopsys Corporate Licensing (SCL)| Thomas Quarles         | Procesadores y subsistemas integrados IP     |                           \n",
    " | XSPICE      | BSD license       | Georgia Tech Research Institute (GTRI) | Es una integracion de Spice, Xspice y Cider  |\n",
    " | LTSpice     | Freeware          | Mike Engelhardt        | LTspice XVII agragará supporte para caracteres Unicode La actual version solo soport ASCII        |                       \n",
    " | PartSim     | GPL & CC          |      N/A               | 100% en Linea                        |            \n",
    "\n",
    " \n",
    "\n",
    " > **Pregunta:** ¿Qué comparación puedes efectuar entre C y Spice como estándares (lenguajes) y sus respectivas implementaciones en software? ¿Qué implementaciones reales (compiladores) del lenguaje C conoces? \n",
    " \n",
    "<div style=\"background-color:#f9f9f9; border: 1px dotted gray;padding:2em\"> \n",
    "Para poder entender la diferencia entre C y SPICE debemos saber la diferencia entre un lenguaje compilado e interpretado.  <br>Básicamente, un compilador convierte un texto a lenguaje máquina y lo empaqueta en un archivo binario antes que el usuario o programador ejecute el programa. Un intérprete generalmente realiza esa conversión de código binario en plataformas compatibles cuando el usuario esta ejecutando el programa. \n",
    "\n",
    "Entre SPICE y C existe esta gran diferencia. SPICE es un lenguaje interpretado basado en C, principalmente utilizado para simular circuitos. Para que una computadora pueda comprender las instrucciones SPICE, se debe tener instalado un interprete del mismo (Akhab, ngpice etc). La primera versión de SPICE fue escrita en FORTRAN mientras que la versión mas reciente de SPICE está escrita en el lenguaje C. \n",
    "\n",
    "Mientras que C es mayormente compilado, a la hora de describir C no podemos decir que es un lenguaje compilado o interpretado sino mas bien, un lenguaje de programación procedural de propósito general. El punto principal aquí es que el lenguaje en sí no se compila ni se interpreta, es solo un estándar textual. Los detalles de implementación de convertir el texto en instrucciones de máquina es donde se realiza la elección de compilación o interpretación.\n",
    "\n",
    "Actualmente, muchas implementaciones de C están disponibles. Cuando se escribe un programa en C, debería funcionar igual en cualquier implementación; para que esto sea cierto en la práctica las diferentes implementaciones deben ajustarse a un estándar reconocido. Las diferentes Implementaciones de C que conozco son: **gcc, clang, msvc**\n",
    "</div>\n",
    "\n",
    "\n",
    " ## Elementos de un netlist\n",
    " Como acabamos de comentar, un netlist se corresponde con la codificación de los elementos electrónicos de un circuito y las uniones entre los mismos. Veamos con más concreción qué partes y secciones lo componen.\n",
    "\n",
    " ## Comentarios\n",
    "\n",
    " La primera línea de un netlist se corresponderá siempre con un comentario. A partir de esta línea se pueden introducir más comentarios pero tienen que ir siempre precedidos de un `*`. Ejemplo:\n",
    " \n",
    " ```spice\n",
    " Mi primer circuito\n",
    " * Otro comentario\n",
    " * más comentarios\n",
    " *\n",
    " ```\n",
    "\n",
    " ## Dispositivos básicos de un circuito\n",
    " Los elementos de un netlist son los mismos que encontramos en cualquier circuito eléctrico sencillo,\n",
    " tales como resistencias, **condensadores**, **bobinas**, **interruptores**, **hilos** y **fuentes** de alimentación.\n",
    " Para distinguir uno de otro, se reserva una letra característica: `V` para fuentes de alimentación, `R` para resistencias, `C` para condensadores y `L` para bobinas. También es posible usar estas letras en su versión en minúscula (`r`, `v`, `c`, `l`, etc.).\n",
    " Después de esta letra característica se puede sufijar cualquier texto para diferenciar un elemento de otro (números, letras, palabras, etc.). Ejemplo:\n",
    "\n",
    " ```\n",
    " * Una resistencia\n",
    " R1\n",
    " *  Otra resistencia\n",
    " R2\n",
    " * Fuente de alimentación\n",
    " V\n",
    " * Un condensador\n",
    " Cprincipal\n",
    " ```\n",
    "\n",
    " ## Conexiones\n",
    " A continuación de indicar el elemento eléctrico, tenemos que informar a Spice cuáles\n",
    " son los puntos de unión tanto a un lado como al otro del elemento.\n",
    " Así es como Spice sabe qué está conectado a qué: porque comparten un **punto**\n",
    " (o **nodo**, aunque este término se reserva sobretodo a uniones de más de dos elementos)\n",
    " que hemos señalizado correctamente. Para nombrar nodos, lo mejor es emplear una\n",
    " numeración secuencial: 0...n. **La enumeración de los puntos de unión es completamente\n",
    " a nuestro criterio**.\n",
    "\n",
    " ```\n",
    " * Una resistencia\n",
    " * entre cables 0 y 1\n",
    " R1 0 1\n",
    " ```\n",
    "\n",
    " **Sólo es necesario seguir un criterio**: en el caso de una\n",
    " fuente de alimentación, el nodo que pondremos primero será\n",
    " aquel que está más cerca del *borne* positivo. Ejemplo:\n",
    "\n",
    " ```spice\n",
    " * Para una fuente indicamos primeramente conexión a nodo positivo.\n",
    " v 2 3 type=vdc vdc=1\n",
    " ```\n",
    " \n",
    "En el *caso de LTspice* no es necesario indicar los parámetros `type=vdc` y `vdc=X`, sino que si no se especifica nada, se supone que el último valor es el del voltaje a corriente continua:\n",
    "\n",
    "```spice\n",
    "* Especificación de una fuente de alimentación de 10 V en corrient continua en el caso de LTspice\n",
    "v 0 1 10\n",
    "```\n",
    "\n",
    "Aquí tienes un ejemplo gráfico de los componentes comentados justo arriba (resistencia y voltaje):\n",
    "\n",
    "![](https://raw.githubusercontent.com/pammacdotnet/spicelab/master/resistencia%20y%20pila%20con%20nodos.svg?sanitize=true)\n",
    "\n",
    " ## Unidades en SPICE\n",
    "\n",
    " Las unidades de las magnitudes características del circuito son siempre [unidades\n",
    " del Sistema Internacional](https://en.wikipedia.org/wiki/SI_electromagnetism_units) y no es necesario indicarlo explícitamente en el netlist.\n",
    "\n",
    " La forma de especificar múltiplos de estas cantidades es añadiendo una letra.\n",
    " Básicamente las que nos interesan y las que suelen aparecer mayoritariamente son `k` para \"kilo-,\" `m` para \"mili?\" y `u` para \"micro?\".\n",
    "\n",
    " > **Pregunta:** Crea una tabla en Markdown con todos los prefijos de múltiplos que puedas, su abreviatura y su equivalencia numérica.\n",
    "\n",
    "\n",
    " | **Prefijos y unidades del SI:** |\n",
    " | :-----------|\n",
    " \n",
    " | **Prefijos SI** |  **Simbolo**  |  **Equivalencia numérica / Factor**  |  \n",
    " | :-----------| :-------  |  :-------  |\n",
    " | yotta       | Y         |  $10^{24}$ |\n",
    " | zetta       | Z         |  $10^{21}$ |\n",
    " | exa         | E         |  $10^{18}$ |\n",
    " | peta        | P         |  $10^{15}$ |\n",
    " | tera        | T         |  $10^{12}$ |\n",
    " | giga        | G         |  $10^{9}$ |\n",
    " | mega        | M         |  $10^{6}$ |\n",
    " | kilo        | k         |  $10^{3}$ |\n",
    " | hecto       | h         |  $10^{2}$ |\n",
    " | deca        | da        |  $100$ |\n",
    " | deci        | d         |  $10^{-1}$ |\n",
    " | centi       | c         |  $10^{-2}$ |\n",
    " | milli       | m         |  $10^{-3}$ |\n",
    " | micro       | u         |  $10^{-6}$ |\n",
    " | nano        | n         |  $10^{-9}$ |\n",
    " | pico        | p         |  $10^{-12}$ |\n",
    " | femto       | f         |  $10^{-15}$ |\n",
    " | atto        | a         |  $10^{-18}$ |\n",
    " | zepto       | z         |  $10^{-21}$ |\n",
    " | yocto       | y         |  $10^{-24}$ |\n",
    " \n",
    " \n",
    " En el caso de las fuentes de alimentación hemos de especificar si se trata de corriente contínua (`vdc`) o alterna (`ac`).\n",
    "\n",
    " ```\n",
    " * Una resistencia de 5 Ohmios\n",
    " R2 1 0 5\n",
    " * Una pila de 10 Voltios (continua)\n",
    " V1 1 0 type=vdc vdc=10\n",
    " * Una resistencia de 5 kΩ\n",
    " RX 2 4 5k\n",
    " ```\n",
    "\n",
    " > **Pregunta**: ¿qué unidades del Sistema Internacional relacionadas con la asignatura –y los circuitos en general– conoces? Responde aquí mismo en una celda de Markdown con una tabla.\n",
    "  \n",
    " \n",
    " \n",
    " |  Unidades Derivadas  | Simbolo   | |        \\|       |Unidades SI  |  Simbolo  | \n",
    " | :-----------| :-------  |          | :-----------  | :-----------| :-------  |\n",
    " | radiannote  |  rad      |          |        \\|        | second      | s         |\n",
    " | steradian   | sr        |          |         \\|       | metre       | m         |   \n",
    " | hertz       | Hz        |          |        \\|        | kilogram    | kg        |\n",
    " | newton      | N         |          |        \\|        | ampere      | A         |\n",
    " | pascal      | Pa        |          |        \\|        | kelvin      | K         |\n",
    " | joule       | J         |          |        \\|        | mole        | mol       |\n",
    " | watt        | W         |          |        \\|        | candela     | cd        |\n",
    " | coulomb     | C         |\n",
    " | volt        | V         |\n",
    " | farad       | F         |\n",
    " | ohm         | Ω         |\n",
    " | siemens     | S         |\n",
    " | weber       | Wb        |\n",
    " | tesla       | T         |\n",
    " | henry       | H         |\n",
    " |degreeCelsius|°C         |\n",
    " | lumen       | lm        |\n",
    " | lux         | lx        |\n",
    " | becquerel   | Bq        |\n",
    " | gray        | Gy        |\n",
    " | sievert     | Sv        |\n",
    " | katal       | kat       |\n",
    " |             |           |\n",
    " \n",
    " \n",
    "\n",
    " ## Valores iniciales\n",
    "\n",
    " Aparecen justo al final de la definición del componente (`ic`). Suelen aplicarse principalmente con condensadores.\n",
    "\n",
    " ```\n",
    " * Una condensador inicialmente no cargado\n",
    " c 1 0 1u ic=0\n",
    " ```\n",
    "\n",
    " ## Fin del circuito\n",
    "\n",
    " El fin de la descripción de un netlist se especifica mediante el\n",
    " comando `.end`.\n",
    "\n",
    " ```spice\n",
    " * Mi primer circuito\n",
    " V 1 0 vdc=10 type=vdc\n",
    " R 1 0 5\n",
    " * Fin del circuito\n",
    " .end\n",
    " ```\n",
    "\n",
    "\n",
    " ## Comandos SPICE para circuitos en corriente continua\n",
    "\n",
    " Además de la descripción del circuito, hemos de indicar al intérprete de Spice qué\n",
    " tipo de análisis queremos realizar en sobre el mismo y cómo queremos presentar\n",
    " la salida de la simulación. Los comandos en Spice empiezan por un `.` y suelen\n",
    " escribirse justo al final del circuito, pero antes del comando `.end`.\n",
    "\n",
    " ```\n",
    "  Mi primer circuito\n",
    " * Aquí van los componentes\n",
    " R 1 0 6k\n",
    " ...\n",
    " * Comandos\n",
    " .op\n",
    " ...\n",
    " * Fin del circuito\n",
    " .end\n",
    " ```\n",
    "\n",
    " > **Pregunta**: Hasta lo que has visto del lenguaje Spice, ¿dentro de qué tipo o conjunto de lenguajes encajaría? ¿Funcionales? ¿Específicos de dominio? ¿Procedurales? ¿Estructurados? ¿Orientado a Objetos ¿Funcionales? Justifica tu respuesta. \n",
    "\n",
    "  >  <div style=\"background-color:#f9f9f9; border: 1px dotted gray;padding:2em\">Un Lenguaje de dominio específico es un lenguaje de programación con un nivel superior de abstracción optimizado para una clase específica de problemas. Un DSL usa los conceptos y reglas de su campo o dominio. \n",
    "  <br><br>SPICE es un lenguaje espeficifico de dominio ya que es un lenguaje de simulación con énfasis en circuitos integrados \n",
    " <div>\n",
    "\n",
    "\n",
    "\n",
    " Veamos los principales comandos de simulación:\n",
    "\n",
    " - `.op` es el comando más sencillo que podemos emplear. Devuelve el voltaje e intensidad en cada ramal y componente del circuito. Este comando no necesita parámetros.\n",
    " - `.dc` es muy parecido al comando `.op`, pero nos permite cambiar el valor del voltaje de una fuente de alimentación en pasos consecutivos entre el valor A y el valor B.\n",
    " En el caso de que la fuente tuviera asignada ya un valor para su voltaje, este sería ignorado. Ejemplo:\n",
    "\n",
    "\n",
    " ```spice\n",
    " * Variamos el valor del voltaje\n",
    " * de la fuente \"v\" de 1 a 1000\n",
    " * en pasos de 5 voltios\n",
    " v 1 0 type=vdc vdc=10\n",
    " .dc v 1 start=1 stop=1000 step=20\n",
    " v2a 2 4 type=vdc vdc=9\n",
    " * Igual para v2a. Se ignora su voltaje de 9V\n",
    " .dc v2a start=0 stop=10 step=2\n",
    " ```\n",
    "\n",
    " - El comando `.tran` realiza un análisis en el tiempo de los parámetros del\n",
    " circuito. Si no se emplea la directiva `uic` (*use initial conditions*) o esta es igual a cero, este análisis se realiza desde el punto estable de funcionamiento del circuito hasta un tiempo `tfinal`.\n",
    " y en intervalos `tstep`. Si empleamos un varlor distinto para parámetro `uic`,\n",
    " entonces se hará uso de las condiciones iniciales definidas para cada componente\n",
    "  (típicamente `ic=X` en el caso de los condensadores, que da cuenta de la carga incial que estos pudieran tener).\n",
    "\n",
    "\n",
    " ```\n",
    " * Hacemos avanzar el tiempo entre\n",
    " * tinicial y tfinal en pasos tstep\n",
    " .tran tstart=X tstop=Y tstep=Z uic=0/1/2/3\n",
    " ```\n",
    "\n",
    " `X`, `Y` y `Z` tienen, evidentemente unidades de tiempo en el S.I. (segundos).\n",
    "\n",
    " > **Pregunta**: El parámetro `uic` puede tener varios valores y cada uno significa una cosa. Detállalo usando un celda Markdown y consultando la [documentación de Ahkab](https://buildmedia.readthedocs.org/media/pdf/ahkab/latest/ahkab.pdf).\n",
    "\n",
    "     \n",
    " > <div style=\"background-color:#f9f9f9; border: 1px dotted gray;padding:2em\"> $UIC (User Initial conditions)$: se usa para especificar el estado del circuito en el tiempo. Este posee los siguientes valores: $0$, $1$, $2$ o $3$<br>\n",
    "  <br>$* uic = 0$: Todos los voltajes y corrientes de nodo a través de las fuentes $v$ / $h$ / $e$ / estan en $t = tstart$\n",
    "  <br>$* uic = 1$: El estado en $‘t = tstart$ es el último resultado de un análisis $OP$\n",
    "  <br>$* uic = 2$: El estado en $‘t = tstart$ es el último resultado de un análisis $OP$ en el que se establecen los valores de corrientes a través de inductores y voltajes en condensadores especificados en su $ic$. Esto se hace muy aproximadamente, se recomienda verificar.\n",
    "  <br>$* uic = 3$: Cargue un $ic$ proporcionado por el usuario. Esto requiere una directiva $.ic$ en algún lugar de la lista de red y un el nombre de $.ic$ e <i>ic_label</i> deben coincidir.\n",
    "      <div>\n",
    "     \n",
    " ## Intérprete SPICE que vamos a usar: Ahkab\n",
    " Tras un estándar siempre hay una o varias implementaciones. Ahkab no deja de ser una implementación más en Python del estándar Spice.\n",
    " > **Pregunta:** Comenta las distintas implementaciones de lenguajes y estándares que conozcas. Hazlo usando una tabla en Markdown. [Aquí](https://www.markdownguide.org/extended-syntax/#tables) tienes un poco de ayuda (aunque antes ya se ha puesto el ejemplo de una tabla).\n",
    " \n",
    " > **Pregunta:** Describe brevemente este software (creador, objetivos, versiones, licencia, características principales, dependencias, etc.).\n",
    "\n",
    " | Intérprete  |  Licencia         | Fabricante             | Características                      |\n",
    " | :-----------| :-----------------| :----------------------| :------------------------------------|\n",
    " | Ahkab       |  GPL              | Giuseppe Venturini     | Basado en Python                     |\n",
    " | Ngspice     | BSD license       | UC Berkeley            | Basado en C. Soporta Simulación de ruido         |     \n",
    " | Spice3      | BSD license       | UC Berkeley            | Basado en C. MOSFET mas sofisticados Que la version SPICE2|                         \n",
    " | PySpice     | GPLv3             | Fabrice Salvaire       | Basado en Python y Ngspice           |\n",
    " | PSPICE      | OrCAD® Proprietary| PSpice technology      | Capacidad de integración con dispositivos IoT|\n",
    " | HSPICE      | Synopsys Corporate Licensing (SCL)| Thomas Quarles         | Procesadores y subsistemas integrados IP     |                           \n",
    " | XSPICE      | BSD license       | Georgia Tech Research Institute (GTRI) | Es una integracion de Spice, Xspice y Cider  |\n",
    " | LTSpice     | Freeware          | Mike Engelhardt        | LTspice XVII agragará supporte para caracteres Unicode La actual version solo soport ASCII        |                       \n",
    " | PartSim     | GPL & CC          |      N/A               | 100% en Linea                        |            \n",
    "\n",
    "          \n",
    "          \n",
    " # Trabajo práctico\n",
    " Muy bien, ahora toca definir circuitos y ejecutar simulaciones sobre los mismos gracias a Ahkab.\n",
    " ## Instalación de bibliotecas necesarias\n",
    " Si estás utilizando Anaconda, asegúrate de tener su entorno activado:\n",
    " \n",
    " ```cmd\n",
    " C:\\> conda activate base (en el caso de Windows)\n",
    " ```\n",
    " ó\n",
    "\n",
    " ```bash\n",
    " $ source /usr/local/Caskroom/miniconda/base/bin/activate (en el caso de macOS)\n",
    " ```\n",
    "\n",
    "En el caso de Windows tienes que tener en el PATH el directorio donde se encuentre el comando `conda` (visita la sección de [Environment Variables](https://superuser.com/questions/949560/how-do-i-set-system-environment-variables-in-windows-10) del [Panel de Control](https://www.digitalcitizen.life/8-ways-start-control-panel-windows-10)). Si has instalado Anaconda con [esta opción](https://docs.anaconda.com/_images/win-install-options.png) marcada, ya no tienes que preocuparte por ello. \n",
    "\n",
    "En el caso de usar Visual Studio Code, este puede encontrar automáticamente la distintas distribuciones de Python que tengamos instaladas y si abrimos un terminal, este se adaptará automáticamente al entorno Python que hayamos seleccionado. \n",
    "\n",
    "![](https://raw.githubusercontent.com/microsoft/vscode-python/main/images/InterpreterSelectionZoom.gif)\n",
    "\n",
    "Ahora ya puedes instalar Ahkab:\n",
    "\n",
    " ```\n",
    " (base) $ pip install ahkab\n",
    " ``` "
   ]
  },
  {
   "cell_type": "markdown",
   "metadata": {},
   "source": [
    "También puedes instalar Ahkab directamente desde este mismo notebook:"
   ]
  },
  {
   "cell_type": "code",
   "execution_count": 346,
   "metadata": {},
   "outputs": [
    {
     "name": "stdout",
     "output_type": "stream",
     "text": [
      "Requirement already satisfied: ahkab in c:\\users\\jaime.orozco\\anaconda3\\lib\\site-packages (0.18)\n",
      "Requirement already satisfied: scipy>=0.14.0 in c:\\users\\jaime.orozco\\anaconda3\\lib\\site-packages (from ahkab) (1.5.0)\n",
      "Requirement already satisfied: tabulate>=0.7.3 in c:\\users\\jaime.orozco\\anaconda3\\lib\\site-packages (from ahkab) (0.8.7)\n",
      "Requirement already satisfied: numpy>1.7.0 in c:\\users\\jaime.orozco\\anaconda3\\lib\\site-packages (from ahkab) (1.18.5)\n",
      "Requirement already satisfied: sympy>=0.7.6 in c:\\users\\jaime.orozco\\anaconda3\\lib\\site-packages (from ahkab) (1.6.1)\n",
      "Requirement already satisfied: mpmath>=0.19 in c:\\users\\jaime.orozco\\anaconda3\\lib\\site-packages (from sympy>=0.7.6->ahkab) (1.1.0)\n"
     ]
    }
   ],
   "source": [
    "!pip install ahkab"
   ]
  },
  {
   "cell_type": "markdown",
   "metadata": {},
   "source": [
    "\n",
    " Como siempre, una vez instalado cualquier framework para Python, ya lo podemos utilizar, tanto desde el [REPL](https://en.wikipedia.org/wiki/Read–eval–print_loop) como desde un entorno Jupyter (Jupyter, [Jupyterlab](http://jupyterlab.readthedocs.io/en/stable/), VS Code o nteract). Recuerda que para usar el kernel Python (que viene con Anaconda) desde nteract debes seguir las instrucciones que se indican en su [documentación oficial](https://nteract.io/kernels). "
   ]
  },
  {
   "cell_type": "markdown",
   "metadata": {},
   "source": [
    "Como vamos a pintar algunas gráficas, necesitamos instlar [matplotlib](https://matplotlib.org). Al igual que con Ahkab, esto lo podemos hacer directamente desde este mismo notebook. Si hemos usado Anaconda: "
   ]
  },
  {
   "cell_type": "code",
   "execution_count": 347,
   "metadata": {},
   "outputs": [
    {
     "name": "stdout",
     "output_type": "stream",
     "text": [
      "Collecting package metadata (current_repodata.json): ...working... done\n",
      "Solving environment: ...working... done\n",
      "\n",
      "# All requested packages already installed.\n",
      "\n"
     ]
    }
   ],
   "source": [
    "!conda install -y -c conda-forge matplotlib"
   ]
  },
  {
   "cell_type": "code",
   "execution_count": 348,
   "metadata": {
    "execution": {
     "iopub.execute_input": "2020-12-04T16:31:38.612Z",
     "iopub.status.busy": "2020-12-04T16:31:38.592Z",
     "iopub.status.idle": "2020-12-04T16:31:44.372Z",
     "shell.execute_reply": "2020-12-04T16:31:44.448Z"
    }
   },
   "outputs": [],
   "source": [
    "import pylab as plt\n",
    "import ahkab"
   ]
  },
  {
   "cell_type": "markdown",
   "metadata": {},
   "source": [
    " > **Pregunta:** ¿Qué es y para qué sirve PyLab?\n",
    "\n",
    ">  <div style=\"background-color:#f9f9f9; border: 1px dotted gray;padding:2em\"> Pylab es un API que permite utilizar la libreria   <a href=\"https://matplotlib.org/\">  Matplotlib   </a> de Python para crear gráficos (plots).\n",
    "    </div>\n",
    "\n",
    " ## Circuitos sencillos para trabajar con la ley de Ohm:\n",
    "\n",
    " La *mal llamada* ley de Ohm reza que el voltaje (la *energía por unidad de carga*) que se disipa en un tramo de un circuito eléctrico es equivalente a la intensidad ($I$) de la corriente (es decir, cuántos electrones circulan por unidad de tiempo) por la resistencia del material ($R$) en el que está desplazándose dicha corriente. Matemáticamente:\n",
    "\n",
    " $$\n",
    " V = I\\cdot R\n",
    " $$\n",
    "\n",
    " > **Pregunta:** comprueba que la ecuación anterior está ajustada a nivel dimensional, es decir, que la naturaleza de lo que está a ambos lados del signo igual es la misma. Realiza este ejercicio con LaTeX en una celda Markdown.\n",
    "\n",
    " > <div style=\"background-color:#f9f9f9; border: 1px dotted gray;padding:2em\"> Segun el sistema internacional sabemos que:\n",
    "   $$ V=\\frac{kg\\cdot m^2}{A\\cdot s^3} \\quad  \\Omega = \\frac{kg\\cdot m^2}{A^2\\cdot s^3}$$ Entonces, la igualdad quedaria: \n",
    "    $$\\frac{kg\\cdot m^2}{A\\cdot s^3} = \\frac {kg \\cdot m^2}{ A^2 \\cdot s^3}  \\cdot A$$ <br>Y podemos comprobar que simplificando $A$ en el lado derecho de la ecuación, entonces, nos queda la misma dimensión.\n",
    "    <div>\n",
    "\n",
    "\n",
    "\n",
    "\n",
    "\n",
    " Comencemos con el circuito más sencillo posible de todos:\n",
    "\n",
    " ![](https://raw.githubusercontent.com/pammacdotnet/spicelab/master/primer%20circuito.svg?sanitize=true)\n",
    "\n",
    " Vamos a escribir su contenido (componentes o *netlist*) en disco con el nombre `circuito sencillo.sp`. Esto lo podemos lograr directamente y en tiempo real desde una celda de Jupyter gracias a los *comandos mágicos* de este entorno de programación literaria. En concreto vamos a utilizar `%%writefile` que guarda los contenidos de una celda como un fichero. "
   ]
  },
  {
   "cell_type": "code",
   "execution_count": 349,
   "metadata": {
    "execution": {
     "iopub.execute_input": "2020-12-04T16:31:49.743Z",
     "iopub.status.busy": "2020-12-04T16:31:49.729Z",
     "iopub.status.idle": "2020-12-04T16:31:49.773Z",
     "shell.execute_reply": "2020-12-04T16:31:49.784Z"
    }
   },
   "outputs": [
    {
     "name": "stdout",
     "output_type": "stream",
     "text": [
      "Overwriting circuito sencillo.sp\n"
     ]
    }
   ],
   "source": [
    "%%writefile \"circuito sencillo.sp\"\n",
    "* Este es un circuito sencillo\n",
    "r1 1 0 100\n",
    "v1 0 1 type=vdc vdc=9\n",
    ".op\n",
    ".dc v1 start=0 stop=9 step=1\n",
    ".end\n"
   ]
  },
  {
   "cell_type": "markdown",
   "metadata": {},
   "source": [
    "Ahora vamos a leer su descripción con Ahkab, interpretar y ejecutar las simulaciones que en él estén descritas."
   ]
  },
  {
   "cell_type": "code",
   "execution_count": 350,
   "metadata": {
    "execution": {
     "iopub.execute_input": "2020-12-04T16:31:53.016Z",
     "iopub.status.busy": "2020-12-04T16:31:53.003Z",
     "iopub.status.idle": "2020-12-04T16:31:53.038Z",
     "shell.execute_reply": "2020-12-04T16:31:53.050Z"
    }
   },
   "outputs": [],
   "source": [
    "circuito_y_análisis = ahkab.netlist_parser.parse_circuit('circuito sencillo.sp')"
   ]
  },
  {
   "cell_type": "markdown",
   "metadata": {},
   "source": [
    " Separamos la información del netlist (componentes) de los análisis (uno de tipo `op` y otro de tipo `dc`):"
   ]
  },
  {
   "cell_type": "code",
   "execution_count": 351,
   "metadata": {
    "execution": {
     "iopub.execute_input": "2020-12-04T16:32:03.818Z",
     "iopub.status.busy": "2020-12-04T16:32:03.807Z",
     "iopub.status.idle": "2020-12-04T16:32:03.844Z",
     "shell.execute_reply": "2020-12-04T16:32:03.856Z"
    }
   },
   "outputs": [
    {
     "name": "stdout",
     "output_type": "stream",
     "text": [
      "[{'type': 'op', 'guess': True, 'x0': None}, {'type': 'dc', 'source': 'v1', 'start': 0.0, 'stop': 9.0, 'step': 1.0, 'sweep_type': 'LIN'}]\n"
     ]
    }
   ],
   "source": [
    "circuito = circuito_y_análisis[0]\n",
    "análisis_en_netlist = circuito_y_análisis[1]\n",
    "lista_de_análisis = ahkab.netlist_parser.parse_analysis(circuito, análisis_en_netlist)\n",
    "print(lista_de_análisis)\n"
   ]
  },
  {
   "cell_type": "markdown",
   "metadata": {},
   "source": [
    "> **Pregunta:** ¿qué tipo de estructura de Python es `lista_de_análisis`?\n",
    "\n",
    " > <div style=\"background-color:#f9f9f9; border: 1px dotted gray;padding:2em\"> La variable <i>lista_de_análisis</i> contiene una lista (vector o array) en formato JSON donde se almacena el resultado del analisis. El método <i>parse_analysis</i>  devuelve los resultados que en este caso se almacenan en la citada variable <i>lista_de_análisis</i>.</div>\n",
    " \n",
    "  Las simulaciones que implican listas de datos (`.dc`, `.tran`, etc.) necesitan de un fichero temporal (`outfile`)\n",
    " donde almacenar los resultados. Para ello tenemos que definir la propiedad `outfile`."
   ]
  },
  {
   "cell_type": "code",
   "execution_count": 352,
   "metadata": {
    "execution": {
     "iopub.execute_input": "2020-12-04T16:32:06.529Z",
     "iopub.status.busy": "2020-12-04T16:32:06.517Z",
     "iopub.status.idle": "2020-12-04T16:32:06.547Z",
     "shell.execute_reply": "2020-12-04T16:32:06.559Z"
    }
   },
   "outputs": [],
   "source": [
    "lista_de_análisis[1]['outfile'] = \"simulación dc.tsv\"\n"
   ]
  },
  {
   "cell_type": "markdown",
   "metadata": {},
   "source": [
    " > **Pregunta:** escribe el código Python necesario para identificar qué análisis de `lista_de_análisis`\n",
    " son de tipo `dc` ó `tran` y sólo añadir la propiedad `outfile` en estos casos.\n",
    "Aquí tenéis un post de Stackoverflow con algo de [ayuda](https://stackoverflow.com/questions/49194107/how-to-find-index-of-a-dictionary-key-value-within-a-list-python).\n",
    " Un poco más de ayuda: el siguiente código (sí, una única línea) devuelve el índice de la simulación que es de tipo `dc`. Para simplificar un poco el ejercicio, suponed que, como máximo, habrá un análisis de tipo `tran` y/o `dc`."
   ]
  },
  {
   "cell_type": "code",
   "execution_count": 353,
   "metadata": {},
   "outputs": [
    {
     "data": {
      "text/plain": [
       "1"
      ]
     },
     "execution_count": 353,
     "metadata": {},
     "output_type": "execute_result"
    }
   ],
   "source": [
    "[i for i, d in enumerate(lista_de_análisis) if \"dc\" in d.values()][0] "
   ]
  },
  {
   "cell_type": "markdown",
   "metadata": {},
   "source": [
    "### Posible solución:"
   ]
  },
  {
   "cell_type": "code",
   "execution_count": 358,
   "metadata": {},
   "outputs": [
    {
     "name": "stdout",
     "output_type": "stream",
     "text": [
      "0\n",
      "1\n"
     ]
    }
   ],
   "source": [
    "for item in enumerate(lista_de_análisis) :\n",
    "    if item[1]['type']=='op':\n",
    "        print (item[0])        \n",
    "    elif item[1]['type']=='dc':\n",
    "        print (item[0])\n",
    "    elif item[1]['type']=='tran':\n",
    "        print (item[0])\n",
    "         "
   ]
  },
  {
   "cell_type": "markdown",
   "metadata": {},
   "source": [
    "Una vez que ya hemos separado netlists de simulaciones, ahora ejecutamos las segundas (¡todas a la vez!) gracias al método `.run` de Ahkab: "
   ]
  },
  {
   "cell_type": "code",
   "execution_count": 359,
   "metadata": {},
   "outputs": [
    {
     "name": "stdout",
     "output_type": "stream",
     "text": [
      "Starting op analysis:\n",
      "Calculating guess: skipped. (linear circuit)\n",
      "Solving...   done.\n",
      "Solving...   done.\n",
      "Difference check within margins.\n",
      "(Voltage: er=0.001, ea=1e-06, Current: er=0.001, ea=1e-09)\n",
      "Starting DC analysis:\n",
      "Solving...  done\n"
     ]
    }
   ],
   "source": [
    "resultados = ahkab.run(circuito, lista_de_análisis)"
   ]
  },
  {
   "cell_type": "markdown",
   "metadata": {},
   "source": [
    "### Resultados de la simulación `.dc`\n",
    "Imprimimos información sobre la simulación de tipo `.dc`:"
   ]
  },
  {
   "cell_type": "code",
   "execution_count": 360,
   "metadata": {},
   "outputs": [
    {
     "name": "stdout",
     "output_type": "stream",
     "text": [
      "<DC simulation results for '* este es un circuito sencillo' (netlist circuito sencillo.sp). LIN sweep of V1 from 0 to 9 V. Run on 2021-01-04 12:51:25, data file simulación dc.tsv>\n"
     ]
    }
   ],
   "source": [
    "print(resultados['dc'])"
   ]
  },
  {
   "cell_type": "markdown",
   "metadata": {},
   "source": [
    " Veamos qué variables podemos dibujar para el caso del análisis `dc`."
   ]
  },
  {
   "cell_type": "code",
   "execution_count": 361,
   "metadata": {},
   "outputs": [
    {
     "name": "stdout",
     "output_type": "stream",
     "text": [
      "['V1', 'V1', 'I(V1)']\n"
     ]
    }
   ],
   "source": [
    "print(resultados['dc'].keys())"
   ]
  },
  {
   "cell_type": "markdown",
   "metadata": {},
   "source": [
    "Y ahora graficamos el resultado del análisis anterior. Concretamente vamos a representar el voltaje en el borne 1 (`V1`) con respecto a la intensidad del circuito (`I(V1)`)."
   ]
  },
  {
   "cell_type": "code",
   "execution_count": 362,
   "metadata": {},
   "outputs": [
    {
     "data": {
      "text/plain": [
       "[<matplotlib.lines.Line2D at 0x1883bbd0eb0>]"
      ]
     },
     "execution_count": 362,
     "metadata": {},
     "output_type": "execute_result"
    },
    {
     "data": {
      "image/png": "[encoded data removed]",
      "text/plain": [
       "<Figure size 432x288 with 1 Axes>"
      ]
     },
     "metadata": {
      "needs_background": "light"
     },
     "output_type": "display_data"
    }
   ],
   "source": [
    "figura = plt.figure()\n",
    "ax1 = figura.add_subplot(111)\n",
    "ax1.set_ylabel('voltios')\n",
    "ax1.set_xlabel('amperios')\n",
    "plt.title(\"Prueba DC\")\n",
    "plt.plot(resultados['dc']['V1'], resultados['dc']['I(V1)'], label=\"Voltaje (V1)\")"
   ]
  },
  {
   "cell_type": "markdown",
   "metadata": {},
   "source": [
    "> **Pregunta:** comenta la gráfica anterior… ¿qué estamos viendo exactamente? Etiqueta los ejes de la misma convenientemente. Así como ningún número puede *viajar* solo sin hacer referencia a su naturaleza, ninguna gráfica puede estar sin sus ejes convenientemente etiquetados. Algo de [ayuda](https://matplotlib.org/3.1.0/gallery/pyplots/fig_axes_labels_simple.html). ¿Qué biblioteca estamos usando para graficar? Una [pista](https://matplotlib.org).\n",
    "\n",
    "> <div style=\"background-color:#f9f9f9; border: 1px dotted gray;padding:2em\">Se están renderizando los valores especificados en el circuito. La intensidad de la corriente es proporcional al voltaje, por eso, va pintando una linea recta. <br><br>Los saltos se espeficican en los <i>steps</i> en el mismo circuito. Para pintar esta grafica, estamos usando <i>matplotlib</i> implementando la libreria pylab.</div>"
   ]
  },
  {
   "cell_type": "markdown",
   "metadata": {},
   "source": [
    " ### Resultados de la simulación `.op` \n",
    " El método `.results` nos devuelve un diccionario con los resultados de la simulación."
   ]
  },
  {
   "cell_type": "code",
   "execution_count": 363,
   "metadata": {},
   "outputs": [
    {
     "name": "stdout",
     "output_type": "stream",
     "text": [
      "{V1: -9.0, I(V1): -0.09}\n"
     ]
    }
   ],
   "source": [
    "print(resultados['op'].results)"
   ]
  },
  {
   "cell_type": "markdown",
   "metadata": {},
   "source": [
    " > **Pregunta:** justifica el sencillo resultado anterior (análisis `op`). Repite el cálculo con Sympy, atendiendo con mimo a las unidades y al formateo de los resultados (tal y como hemos visto en muchos otros notebooks en clase).\n",
    " \n",
    " > <div style=\"background-color:#f9f9f9; border: 1px dotted gray;padding:2em\"> El resultado de $op$ indica el voltaje e intensidad en cada ramal y componente del circuito.</div>"
   ]
  },
  {
   "cell_type": "markdown",
   "metadata": {},
   "source": [
    "## Resolución del mismo circuito pero con LTspice\n",
    "¿Cómo? ¿Es esto posible? ¿Desde Jupyter? Sí!!! Pero primero, por comodidad, deberíamos crear un alias del comando que apunte a nuestro ejecutable. Además, con un poco de inteligencia, podemos adelantarnos al hecho de si estamos en Windows o macOS:"
   ]
  },
  {
   "cell_type": "code",
   "execution_count": 364,
   "metadata": {},
   "outputs": [],
   "source": [
    "import platform    \n",
    "%alias lts /Applications/LTspice.app/Contents/MacOS/LTspice -ascii -b\n",
    "if platform.system() == \"Windows\":\n",
    "    %alias lts C:\\Program Files\\LTC\\LTspiceXVII\\XVIIx64.exe -ascii -b"
   ]
  },
  {
   "cell_type": "markdown",
   "metadata": {},
   "source": [
    "> **Pregunta**: ¿Qué significan las opciones `-b` y `-ascii`? Algo de ayuda [aquí](http://ltwiki.org/LTspiceHelp/LTspiceHelp/Command_Line_Switches.htm).\n",
    "\n",
    "> <div style=\"background-color:#f9f9f9; border: 1px dotted gray;padding:2em\">  $-b$: indica que ejecute el programa en modo batch (por lotes)<br>\n",
    "  $-ascii$: indica que se exporte en formato de texto ascii compatible. Penaliza el rendimiento del programa.\n",
    "</div>"
   ]
  },
  {
   "cell_type": "markdown",
   "metadata": {},
   "source": [
    "También tenemos que cambiar ligeramente la sintaxis. Ejecuta esta línea para que se escriba el fichero siguiente. Para LTspice, vamos a reservar la extensión `.net`:"
   ]
  },
  {
   "cell_type": "code",
   "execution_count": 365,
   "metadata": {},
   "outputs": [
    {
     "name": "stdout",
     "output_type": "stream",
     "text": [
      "Overwriting circuito sencillo.net\n"
     ]
    }
   ],
   "source": [
    "%%writefile \"circuito sencillo.net\"\n",
    "* Este es un circuito sencillo adaptado para LTspice\n",
    "r1 1 0 100\n",
    "v1 0 1 9\n",
    ".op\n",
    "* Comentamos el análisis .dc para centrarnos primero en el .op\n",
    "* .dc v1 1 10 \n",
    ".end"
   ]
  },
  {
   "cell_type": "markdown",
   "metadata": {},
   "source": [
    "Ejecutamos LTspice con el circuito (de la misma manera que antes habíamos hecho con Ahkab)."
   ]
  },
  {
   "cell_type": "code",
   "execution_count": 366,
   "metadata": {},
   "outputs": [
    {
     "name": "stderr",
     "output_type": "stream",
     "text": [
      "\"C:\\Program\" no se reconoce como un comando interno o externo,\n",
      "programa o archivo por lotes ejecutable.\n"
     ]
    }
   ],
   "source": [
    "lts \"circuito sencillo.net\""
   ]
  },
  {
   "cell_type": "markdown",
   "metadata": {},
   "source": [
    "Veamos el contenido de la simulación."
   ]
  },
  {
   "cell_type": "code",
   "execution_count": 367,
   "metadata": {},
   "outputs": [],
   "source": [
    "%pycat circuito sencillo.log"
   ]
  },
  {
   "cell_type": "markdown",
   "metadata": {},
   "source": [
    "Ahora repitamos lo mismo para el análisis `.dc`:"
   ]
  },
  {
   "cell_type": "code",
   "execution_count": 368,
   "metadata": {},
   "outputs": [
    {
     "name": "stdout",
     "output_type": "stream",
     "text": [
      "Overwriting circuito sencillo.net\n"
     ]
    }
   ],
   "source": [
    "%%writefile \"circuito sencillo.net\"\n",
    "* Este es un circuito sencillo adaptado para LTspice\n",
    "r1 1 0 100\n",
    "v1 0 1 9\n",
    "* Ahora obviamos el análisis .op\n",
    "* .op\n",
    ".dc v1 1 10 \n",
    ".end\n"
   ]
  },
  {
   "cell_type": "code",
   "execution_count": 369,
   "metadata": {},
   "outputs": [
    {
     "name": "stderr",
     "output_type": "stream",
     "text": [
      "\"C:\\Program\" no se reconoce como un comando interno o externo,\n",
      "programa o archivo por lotes ejecutable.\n"
     ]
    }
   ],
   "source": [
    "lts \"circuito sencillo.net\""
   ]
  },
  {
   "cell_type": "markdown",
   "metadata": {},
   "source": [
    "Al ejecutar esta simulación, se genera un fichero `.raw` con los resultados. Es muy parecido al `outfile` que hemos empleado antes con Ahkab. Para leer este fichero, tenemos que usar el paquete [ltspice de Python](https://github.com/DongHoonPark/ltspice_pytool), el cual podéis instalar directamente desde Jupyter:"
   ]
  },
  {
   "cell_type": "code",
   "execution_count": 370,
   "metadata": {},
   "outputs": [
    {
     "name": "stdout",
     "output_type": "stream",
     "text": [
      "Requirement already satisfied: ltspice in c:\\users\\jaime.orozco\\anaconda3\\lib\\site-packages (1.0.0)\n",
      "Requirement already satisfied: numpy in c:\\users\\jaime.orozco\\anaconda3\\lib\\site-packages (from ltspice) (1.18.5)\n",
      "Note: you may need to restart the kernel to use updated packages.\n"
     ]
    }
   ],
   "source": [
    "pip install ltspice"
   ]
  },
  {
   "cell_type": "markdown",
   "metadata": {},
   "source": [
    "Ahora ya podemos leer este fichero `.raw` y pintar una recta de voltaje muy parecida a la que obtuvimos anteriormente con Ahkab:"
   ]
  },
  {
   "cell_type": "code",
   "execution_count": 371,
   "metadata": {},
   "outputs": [
    {
     "data": {
      "text/plain": [
       "[<matplotlib.lines.Line2D at 0x1883bc23940>]"
      ]
     },
     "execution_count": 371,
     "metadata": {},
     "output_type": "execute_result"
    },
    {
     "data": {
      "image/png": "[encoded data removed]",
      "text/plain": [
       "<Figure size 432x288 with 1 Axes>"
      ]
     },
     "metadata": {
      "needs_background": "light"
     },
     "output_type": "display_data"
    }
   ],
   "source": [
    "import ltspice\n",
    "l = ltspice.Ltspice(\"circuito sencillo.raw\")\n",
    "l.parse()\n",
    "time = l.get_time()\n",
    "V1 = l.get_data('V(1)')\n",
    "plt.xlabel('amperios')\n",
    "plt.ylabel('voltios')\n",
    "plt.plot(time, V1)"
   ]
  },
  {
   "cell_type": "markdown",
   "metadata": {},
   "source": [
    "** En resumen: ** hemos usado dos *compiladores* Spice distintos para hacer el mismo ejercicio. De igual manera podríamos haber usado [Ngspice](http://ngspice.sourceforge.net) u otro. De hecho, podíamos haber usado Ahkab en modo comando. Si tenemos correctamente instalado este framework, en princpio podemos invocarlo [directamente desde línea de comandos](https://ahkab.readthedocs.io/en/latest/help/Command-Line-Help.html):"
   ]
  },
  {
   "cell_type": "code",
   "execution_count": 372,
   "metadata": {},
   "outputs": [
    {
     "name": "stdout",
     "output_type": "stream",
     "text": [
      "2021-01-04 12:52:03\n",
      "ahkab v. 0.18 (c) 2006-2015 Giuseppe Venturini\n",
      "\n",
      "Operating Point (OP) analysis\n",
      "\n",
      "Netlist: circuito sencillo.sp\n",
      "Title: * este es un circuito sencillo\n",
      "At 300.00 K\n",
      "Options:\n",
      "\tvea = 1.000000e-06\n",
      "\tver = 0.001000\n",
      "\tiea = 1.000000e-09\n",
      "\tier = 0.001000\n",
      "\tgmin = 0.000000e+00\n",
      "\n",
      "Convergence reached in 2 iterations.\n",
      "\n",
      "========\n",
      "RESULTS:\n",
      "========\n",
      "\n",
      "Variable    Units      Value        Error    %\n",
      "----------  -------  -------  -----------  ---\n",
      "V1          V          -9     9.00001e-12    0\n",
      "I(V1)       A          -0.09  0              0\n",
      "\n",
      "========================\n",
      "ELEMENTS OP INFORMATION:\n",
      "========================\n",
      "\n"
     ]
    },
    {
     "name": "stderr",
     "output_type": "stream",
     "text": [
      "W: Locale appears not set! please export LANG=\"en_US.UTF-8\" or equivalent, \n",
      "W: or ahkab's unicode support is broken.\n",
      "Traceback (most recent call last):\n",
      "  File \"c:\\users\\jaime.orozco\\anaconda3\\lib\\runpy.py\", line 194, in _run_module_as_main\n",
      "    return _run_code(code, main_globals, None,\n",
      "  File \"c:\\users\\jaime.orozco\\anaconda3\\lib\\runpy.py\", line 87, in _run_code\n",
      "    exec(code, run_globals)\n",
      "  File \"C:\\Users\\jaime.orozco\\Anaconda3\\Scripts\\ahkab.exe\\__main__.py\", line 7, in <module>\n",
      "  File \"c:\\users\\jaime.orozco\\anaconda3\\lib\\site-packages\\ahkab\\__main__.py\", line 155, in _cli\n",
      "    ahkab.main(filename=remaning_args[0],\n",
      "  File \"c:\\users\\jaime.orozco\\anaconda3\\lib\\site-packages\\ahkab\\ahkab.py\", line 953, in main\n",
      "    results.update(run(circ, [an]))\n",
      "  File \"c:\\users\\jaime.orozco\\anaconda3\\lib\\site-packages\\ahkab\\ahkab.py\", line 714, in run\n",
      "    r = analysis[an_type](circ, **an_item)\n",
      "  File \"c:\\users\\jaime.orozco\\anaconda3\\lib\\site-packages\\ahkab\\dc_analysis.py\", line 685, in op_analysis\n",
      "    opsolution.write_to_file(filename='stdout')\n",
      "  File \"c:\\users\\jaime.orozco\\anaconda3\\lib\\site-packages\\ahkab\\results.py\", line 469, in write_to_file\n",
      "    fp.write(t + '\\n\\n')\n",
      "  File \"c:\\users\\jaime.orozco\\anaconda3\\lib\\encodings\\cp1252.py\", line 19, in encode\n",
      "    return codecs.charmap_encode(input,self.errors,encoding_table)[0]\n",
      "UnicodeEncodeError: 'charmap' codec can't encode character '\\u2126' in position 16: character maps to <undefined>\n"
     ]
    }
   ],
   "source": [
    "!ahkab \"circuito sencillo.sp\""
   ]
  },
  {
   "cell_type": "markdown",
   "metadata": {},
   "source": [
    "**Ejercicio premium**: Graficar los datos anteriores con [Gnuplot](http://www.gnuplot.info). "
   ]
  },
  {
   "cell_type": "markdown",
   "metadata": {},
   "source": [
    " ## Análisis de circuito con resistencias en serie"
   ]
  },
  {
   "cell_type": "markdown",
   "metadata": {},
   "source": [
    "Vamos a resolver (en punto de operación) el siguiente circuito:\n",
    "\n",
    "![](https://raw.githubusercontent.com/pammacdotnet/spicelab/master/resistencias%20en%20serie.svg?sanitize=true)\n",
    "\n",
    "Al igual que antes, grabamos el netlist en disco desde Jupyter gracias a la *palabra mágica* [`%writefile`](https://ipython.readthedocs.io/en/stable/interactive/magics.html#cellmagic-writefile). "
   ]
  },
  {
   "cell_type": "code",
   "execution_count": 373,
   "metadata": {},
   "outputs": [
    {
     "name": "stdout",
     "output_type": "stream",
     "text": [
      "Overwriting resistencias en serie.net\n"
     ]
    }
   ],
   "source": [
    "%%writefile \"resistencias en serie.net\"\n",
    "* circuito con tres resistencias en serie\n",
    "v1 1 0 type=vdc vdc=9\n",
    "R1 0 2 3k\n",
    "R2 2 3 10k  \n",
    "R3 3 1 5k\n",
    "* análisis del circuito\n",
    ".op\n",
    ".end"
   ]
  },
  {
   "cell_type": "code",
   "execution_count": 374,
   "metadata": {},
   "outputs": [
    {
     "name": "stdout",
     "output_type": "stream",
     "text": [
      "Starting op analysis:\n",
      "Calculating guess: skipped. (linear circuit)\n",
      "Solving...   done.\n",
      "Solving...   done.\n",
      "Difference check within margins.\n",
      "(Voltage: er=0.001, ea=1e-06, Current: er=0.001, ea=1e-09)\n"
     ]
    }
   ],
   "source": [
    "circuito_y_análisis = ahkab.netlist_parser.parse_circuit('resistencias en serie.net')\n",
    "circuito = circuito_y_análisis[0]       \n",
    "análisis_en_netlist = circuito_y_análisis[1]\n",
    "lista_de_análisis = ahkab.netlist_parser.parse_analysis(circuito, análisis_en_netlist)\n",
    "resultados = ahkab.run(circuito, lista_de_análisis)"
   ]
  },
  {
   "cell_type": "markdown",
   "metadata": {},
   "source": [
    "Imprimos los resultados del análisis `.op`:"
   ]
  },
  {
   "cell_type": "code",
   "execution_count": 375,
   "metadata": {},
   "outputs": [
    {
     "name": "stdout",
     "output_type": "stream",
     "text": [
      "OP simulation results for '* circuito con tres resistencias en serie'(netlist resistencias en serie.net).\n",
      "Run on 2021-01-04 12:52:07, data file None.\n",
      "Variable    Units      Value     Error    %\n",
      "----------  -------  -------  --------  ---\n",
      "V1          V         9       -9e-12      0\n",
      "V2          V         1.5     -1.5e-12    0\n",
      "V3          V         6.5     -6.5e-12    0\n",
      "I(V1)       A        -0.0005   0          0\n"
     ]
    }
   ],
   "source": [
    "print(resultados['op'])"
   ]
  },
  {
   "cell_type": "markdown",
   "metadata": {},
   "source": [
    "Los cantidades `V1`, `V2` y `V3` hacen referencia a los distintos valores del potencial que se ha perdido en cada uno de los bornes que has elegido para describir el netlist (`1`, `2`, etc.). Por ejemplo, podemos calcular el *potencial consumido* por la resistencia `R1` y verás que coincide con el del punto `V2` devuelto por Ahkab. **Ejercicio**: compruébalo tú mismo y refléjalo por escrito."
   ]
  },
  {
   "cell_type": "markdown",
   "metadata": {},
   "source": [
    "Cargamos primero todo lo relacionado con Sympy:"
   ]
  },
  {
   "cell_type": "code",
   "execution_count": 376,
   "metadata": {},
   "outputs": [],
   "source": [
    "from sympy.physics.units import ohms, amperes, volts\n",
    "from sympy.physics.units import convert_to"
   ]
  },
  {
   "cell_type": "code",
   "execution_count": 377,
   "metadata": {},
   "outputs": [
    {
     "data": {
      "text/latex": [
       "$\\displaystyle - 1.5 \\text{V}$"
      ],
      "text/plain": [
       "-1.5*volt"
      ]
     },
     "execution_count": 377,
     "metadata": {},
     "output_type": "execute_result"
    }
   ],
   "source": [
    "r1 = 3E3*ohms\n",
    "intensidad_ahkab = resultados['op']['I(V1)'][0][0]*amperes\n",
    "v2 = convert_to(intensidad_ahkab*r1, [volts])\n",
    "v2\n"
   ]
  },
  {
   "cell_type": "code",
   "execution_count": 378,
   "metadata": {},
   "outputs": [
    {
     "data": {
      "text/latex": [
       "$\\displaystyle - 6.50000000000001 \\text{V}$"
      ],
      "text/plain": [
       "-6.50000000000001*volt"
      ]
     },
     "execution_count": 378,
     "metadata": {},
     "output_type": "execute_result"
    }
   ],
   "source": [
    "r2 = 10E3*ohms\n",
    "intensidad_ahkab2 = resultados['op']['I(V1)'][0][0]*amperes\n",
    "v3 = convert_to(intensidad_ahkab2*r2, [volts])\n",
    "v = v3 + v2\n",
    "v"
   ]
  },
  {
   "cell_type": "markdown",
   "metadata": {},
   "source": [
    " > **Pregunta**: reproduce el resto de los valores anteriores de manera *manual* mediante Sympy (es decir, aplicando la ley de Ohm, pero con un *toque computacional*). Te pongo aquí un ejemplo del que puedes partir… En él sólo calculo la corriente que circula por el circuito (sí, justo la que antes Ahkab ha devuelto de manera automática). Para ello necesito previamente computar la resistencia total (`r_total`). Faltarían el resto de resultados y convertirlos a unidades más *vistosas* (mediante la orden `convert_to` y `.n()`)."
   ]
  },
  {
   "cell_type": "code",
   "execution_count": 380,
   "metadata": {},
   "outputs": [],
   "source": [
    "from sympy.physics.units import kilo\n",
    "from sympy import solve, symbols, Eq\n",
    "\n",
    "import sympy.physics.units as u\n",
    "import sympy\n",
    "from sympy.physics.units import Dimension \n",
    "from sympy import * \n",
    "from sympy.physics.units import convert_to"
   ]
  },
  {
   "cell_type": "code",
   "execution_count": 381,
   "metadata": {},
   "outputs": [
    {
     "data": {
      "text/latex": [
       "$\\displaystyle 0.0005 \\text{A}$"
      ],
      "text/plain": [
       "0.0005*ampere"
      ]
     },
     "execution_count": 381,
     "metadata": {},
     "output_type": "execute_result"
    }
   ],
   "source": [
    "v1 = 9*volts\n",
    "r1 = 3*kilo*ohms\n",
    "r2 = 10*kilo*ohms\n",
    "r3 = 5*kilo*ohms\n",
    "r_total = r1 + r2 + r3\n",
    "intensidad = symbols('i')\n",
    "ley_ohm = Eq(v1, intensidad*r_total)\n",
    "solucion_para_intensidad = solve(ley_ohm, intensidad)\n",
    "convert_to(solucion_para_intensidad[0], [amperes]).n(2)"
   ]
  },
  {
   "cell_type": "markdown",
   "metadata": {},
   "source": [
    "### Calculo con Sympy para V2 y V3"
   ]
  },
  {
   "cell_type": "code",
   "execution_count": 384,
   "metadata": {},
   "outputs": [
    {
     "name": "stdout",
     "output_type": "stream",
     "text": [
      "1.5*volt\n"
     ]
    }
   ],
   "source": [
    "#V2\n",
    "i=0.0005*u.ampere\n",
    "v1 = 9*u.volts\n",
    "r1 = 3*u.kilo*ohms\n",
    "r2 = 10*u.kilo*ohms\n",
    "vr2 = u.Quantity('v')\n",
    "vr2.set_dimension(u.current)\n",
    "ley_ohm = Eq(vr2, i*r1)\n",
    "solucion_para_vr2 = solve(ley_ohm, vr2)\n",
    "print(convert_to(solucion_para_vr2[0], [u.volts]).n(2))"
   ]
  },
  {
   "cell_type": "code",
   "execution_count": 383,
   "metadata": {},
   "outputs": [
    {
     "name": "stdout",
     "output_type": "stream",
     "text": [
      "6.5*volt\n"
     ]
    }
   ],
   "source": [
    "#V3\n",
    "i=0.0005*u.ampere\n",
    "r1 = 3*u.kilo*u.ohms\n",
    "r2 = 10*u.kilo*u.ohms\n",
    "r_total = r1 + r2\n",
    "vr3 = u.Quantity('v')\n",
    "vr3.set_dimension(u.current)\n",
    "ley_ohm = Eq(vr3, i*r_total)\n",
    "solucion_para_vr3 = solve(ley_ohm, vr3)\n",
    "print(convert_to(solucion_para_vr3[0], [u.volts]).n(2))"
   ]
  },
  {
   "cell_type": "markdown",
   "metadata": {},
   "source": [
    "> **Pregunta**: Demuestra que se cumple la Ley de Kirchhoff de la energía en un circuito, es decir, que la suma de la energía suministrada por las fuentes (pilas) es igual a la consumida por las resistencias. Realiza la operación con Sympy.\n",
    "\n",
    "$$\n",
    "\\sum_i^N V_{\\text{fuentes}} = \\sum_j^M V_{\\text{consumido en resistencias}}\n",
    "$$\n",
    "\n",
    "Ten en cuenta que en este caso sólo hay una fuente."
   ]
  },
  {
   "cell_type": "markdown",
   "metadata": {},
   "source": [
    "## Análisis `.op` de circuitos con resistencias en paralelo\n",
    "\n",
    "Vamos a complicar un poco el trabajo añadiendo elementos en paralelo.\n",
    "\n",
    " > **Pregunta**: realiza los análisis `.op` de los siguientes circuitos.\n",
    " Para ello crea un netlist separado para cada uno donde queden correctamente descritos\n",
    " junto con la simulación (`.op`). Comenta los resultados que devuelve Ahkab (no imprimas los resultados de las simulaciones *sin más*).\n",
    "\n",
    " ![](https://raw.githubusercontent.com/pammacdotnet/spicelab/master/resistencias%20en%20paralelo.svg?sanitize=true)\n",
    "\n",
    " Aquí tienes el análisis del primer circuito, para que sirva de ejemplo:"
   ]
  },
  {
   "cell_type": "code",
   "execution_count": 385,
   "metadata": {},
   "outputs": [
    {
     "name": "stdout",
     "output_type": "stream",
     "text": [
      "Overwriting resistencias en paralelo 1.cir\n"
     ]
    }
   ],
   "source": [
    "%%writefile \"resistencias en paralelo 1.cir\"\n",
    "* resistencias en paralelo\n",
    "vdd 0 1 vdc=12 type=vdc\n",
    "r2 1 2 1k\n",
    "r3 2 3 220\n",
    "r4 3 0 1.5k\n",
    "r5 2 0 470\n",
    ".op\n",
    ".end"
   ]
  },
  {
   "cell_type": "code",
   "execution_count": 386,
   "metadata": {},
   "outputs": [
    {
     "name": "stdout",
     "output_type": "stream",
     "text": [
      "Starting op analysis:\n",
      "Calculating guess: skipped. (linear circuit)\n",
      "Solving...   done.\n",
      "Solving...   done.\n",
      "Difference check within margins.\n",
      "(Voltage: er=0.001, ea=1e-06, Current: er=0.001, ea=1e-09)\n"
     ]
    }
   ],
   "source": [
    "circuito_y_análisis = ahkab.netlist_parser.parse_circuit('resistencias en paralelo 1.cir')\n",
    "circuito = circuito_y_análisis[0]       \n",
    "análisis_en_netlist = circuito_y_análisis[1]\n",
    "lista_de_análisis = ahkab.netlist_parser.parse_analysis(circuito, análisis_en_netlist)\n",
    "resultados = ahkab.run(circuito, lista_de_análisis)"
   ]
  },
  {
   "cell_type": "markdown",
   "metadata": {},
   "source": [
    "Imprimimos los resultados del análisis `.op`. Como puedes comprobar, Ahkab sólo reporta la intensidad de corriente en las ramas en las que hay una pila (en este caso, la rama donde está la pila `VDD`)."
   ]
  },
  {
   "cell_type": "code",
   "execution_count": 387,
   "metadata": {},
   "outputs": [
    {
     "name": "stdout",
     "output_type": "stream",
     "text": [
      "OP simulation results for '* resistencias en paralelo'(netlist resistencias en paralelo 1.cir).\n",
      "Run on 2021-01-04 12:52:43, data file None.\n",
      "Variable    Units           Value        Error    %\n",
      "----------  -------  ------------  -----------  ---\n",
      "V1          V        -12           1.2e-11        0\n",
      "V2          V         -3.23533     3.23532e-12    0\n",
      "V3          V         -2.8215      2.82151e-12    0\n",
      "I(VDD)      A         -0.00876467  0              0\n"
     ]
    }
   ],
   "source": [
    "print(resultados['op'])"
   ]
  },
  {
   "cell_type": "code",
   "execution_count": 388,
   "metadata": {},
   "outputs": [
    {
     "name": "stdout",
     "output_type": "stream",
     "text": [
      "Overwriting resistencias en paralelo 2.cir\n"
     ]
    }
   ],
   "source": [
    "%%writefile \"resistencias en paralelo 2.cir\"\n",
    "* resistencias en paralelo 2\n",
    "V 1 0 type=vdc vdc=0\n",
    "V1 1 2 type=vdc vdc=0\n",
    "V2 1 3 type=vdc vdc=0\n",
    "V3 1 4 type=vdc vdc=0\n",
    "R1 2 0  10k\n",
    "R2 3 0  2k\n",
    "R3 4 0  1k\n",
    ".op\n",
    ".end"
   ]
  },
  {
   "cell_type": "code",
   "execution_count": 389,
   "metadata": {},
   "outputs": [
    {
     "name": "stdout",
     "output_type": "stream",
     "text": [
      "Starting op analysis:\n",
      "Calculating guess: skipped. (linear circuit)\n",
      "Solving...   done.\n",
      "Solving...   done.\n",
      "Difference check within margins.\n",
      "(Voltage: er=0.001, ea=1e-06, Current: er=0.001, ea=1e-09)\n"
     ]
    }
   ],
   "source": [
    "circuito_y_análisis = ahkab.netlist_parser.parse_circuit('resistencias en paralelo 2.cir')\n",
    "circuito = circuito_y_análisis[0]       \n",
    "análisis_en_netlist = circuito_y_análisis[1]\n",
    "lista_de_análisis = ahkab.netlist_parser.parse_analysis(circuito, análisis_en_netlist)\n",
    "resultados = ahkab.run(circuito, lista_de_análisis)"
   ]
  },
  {
   "cell_type": "code",
   "execution_count": 390,
   "metadata": {},
   "outputs": [
    {
     "name": "stdout",
     "output_type": "stream",
     "text": [
      "Overwriting resistencias en paralelo 3.cir\n"
     ]
    }
   ],
   "source": [
    "%%writefile \"resistencias en paralelo 3.cir\"\n",
    "* resistencias en paralelo circuito 3\n",
    "V1 0 1 type=vdc vdc=9\n",
    "V2 0 4 type=vdc vdc=1.5\n",
    "R1 1 2 47\n",
    "R2 2 3 220\n",
    "R3 2 4 180 \n",
    "R4 3 5 1000\n",
    "R5 5 0 560\n",
    ".op\n",
    "\n",
    ".end"
   ]
  },
  {
   "cell_type": "code",
   "execution_count": 270,
   "metadata": {},
   "outputs": [
    {
     "name": "stdout",
     "output_type": "stream",
     "text": [
      "Starting op analysis:\n",
      "Calculating guess: skipped. (linear circuit)\n",
      "Solving...   done.\n",
      "Solving...   done.\n",
      "Difference check within margins.\n",
      "(Voltage: er=0.001, ea=1e-06, Current: er=0.001, ea=1e-09)\n"
     ]
    }
   ],
   "source": [
    "circuito_y_análisis = ahkab.netlist_parser.parse_circuit('resistencias en paralelo 3.cir')\n",
    "circuito = circuito_y_análisis[0]       \n",
    "análisis_en_netlist = circuito_y_análisis[1]\n",
    "lista_de_análisis = ahkab.netlist_parser.parse_analysis(circuito, análisis_en_netlist)\n",
    "resultados = ahkab.run(circuito, lista_de_análisis)"
   ]
  },
  {
   "cell_type": "markdown",
   "metadata": {},
   "source": [
    "> **Pregunta:** inserta dos *pilas virtuales* de 0 voltios en el resto de ramas del circuito (`Vdummy1` en la rama donde está `R5` y `Vdummy2` en la rama donde está `R3` y `R4`) para que Ahkab nos imprima también la corriente en las mismas. Es muy parecido al tercer circuito que tienes que resolver, donde `V1`, `V2` y `V3` tienen cero voltios. Estas *pilas nulas* son, a todos los efectos, *simples cables*. Una vez que ya tienes las corrientes en todas las ramas, comprueba que se cumple la Ley de Kirchhoff para las corrientes:\n",
    "\n",
    "$$\n",
    "I_{\\text{entrante}} = \\sum_i^{N} I_{\\text{salientes}}\n",
    "$$\n",
    "\n",
    "Repite lo mismo para los otros dos circuitos. Realiza además los cálculos con Sympy (recalcula los mismos voltajes que devuelve Ahkab a partir de la corriente que sí te devuelve la simulación) y cuidando de no olvidar las unidades. Recuerda que el objeto `resultados` alberga toda la información que necesitas de manera indexada. Ya han aparecido un ejemplo más arriba. Es decir: no *copies* los números *a mano*, trabaja de manera informáticamente elegante (usando la variable `resultados`). "
   ]
  },
  {
   "cell_type": "code",
   "execution_count": 391,
   "metadata": {},
   "outputs": [
    {
     "name": "stdout",
     "output_type": "stream",
     "text": [
      "Overwriting resistencias en paralelo con pilas virtuales 1.cir\n"
     ]
    }
   ],
   "source": [
    "%%writefile \"resistencias en paralelo con pilas virtuales 1.cir\"\n",
    "* resistencias en paralelo\n",
    "vdd 0 1 vdc=12 type=vdc\n",
    "r2 1 2 1k\n",
    "r3 2 3 220\n",
    "r4 3 0 1.5k\n",
    "Vdummy2 2 3 vdc=0 type=vdc\n",
    "r5 2 0 470\n",
    "Vdummy1 2 0 vdc=0 type=vdc\n",
    ".op\n",
    ".end"
   ]
  },
  {
   "cell_type": "code",
   "execution_count": 392,
   "metadata": {},
   "outputs": [
    {
     "name": "stdout",
     "output_type": "stream",
     "text": [
      "Starting op analysis:\n",
      "Calculating guess: skipped. (linear circuit)\n",
      "Solving...   done.\n",
      "Solving...   done.\n",
      "Difference check within margins.\n",
      "(Voltage: er=0.001, ea=1e-06, Current: er=0.001, ea=1e-09)\n"
     ]
    }
   ],
   "source": [
    "circuito_y_análisis = ahkab.netlist_parser.parse_circuit('resistencias en paralelo con pilas virtuales 1.cir')\n",
    "circuito = circuito_y_análisis[0]       \n",
    "análisis_en_netlist = circuito_y_análisis[1]\n",
    "lista_de_análisis = ahkab.netlist_parser.parse_analysis(circuito, análisis_en_netlist)\n",
    "resultados = ahkab.run(circuito, lista_de_análisis)"
   ]
  },
  {
   "cell_type": "code",
   "execution_count": 393,
   "metadata": {},
   "outputs": [
    {
     "name": "stdout",
     "output_type": "stream",
     "text": [
      "Overwriting resistencias en paralelo con pilas virtuales 2.cir\n"
     ]
    }
   ],
   "source": [
    "%%writefile \"resistencias en paralelo con pilas virtuales 2.cir\"\n",
    "* resistencias en paralelo 2\n",
    "V 1 0 type=vdc vdc=0\n",
    "V1 1 2 type=vdc vdc=0\n",
    "V2 1 3 type=vdc vdc=0\n",
    "V3 1 4 type=vdc vdc=0\n",
    "R1 2 0  10k\n",
    "R2 3 0  2k\n",
    "R3 4 0  1k\n",
    "Vdummy2 5 0 vdc=0 type=vdc\n",
    ".op\n",
    ".end"
   ]
  },
  {
   "cell_type": "code",
   "execution_count": 394,
   "metadata": {},
   "outputs": [
    {
     "name": "stdout",
     "output_type": "stream",
     "text": [
      "Starting op analysis:\n",
      "Calculating guess: skipped. (linear circuit)\n",
      "Solving...   done.\n",
      "Solving...   done.\n",
      "Difference check within margins.\n",
      "(Voltage: er=0.001, ea=1e-06, Current: er=0.001, ea=1e-09)\n"
     ]
    }
   ],
   "source": [
    "circuito_y_análisis = ahkab.netlist_parser.parse_circuit('resistencias en paralelo con pilas virtuales 2.cir')\n",
    "circuito = circuito_y_análisis[0]       \n",
    "análisis_en_netlist = circuito_y_análisis[1]\n",
    "lista_de_análisis = ahkab.netlist_parser.parse_analysis(circuito, análisis_en_netlist)\n",
    "resultados = ahkab.run(circuito, lista_de_análisis)"
   ]
  },
  {
   "cell_type": "code",
   "execution_count": 395,
   "metadata": {},
   "outputs": [
    {
     "name": "stdout",
     "output_type": "stream",
     "text": [
      "Overwriting resistencias en paralelo con pilas virtuales 3.cir\n"
     ]
    }
   ],
   "source": [
    "%%writefile \"resistencias en paralelo con pilas virtuales 3.cir\"\n",
    "* resistencias en paralelo circuito 3\n",
    "V1 0 1 type=vdc vdc=9\n",
    "V2 0 4 type=vdc vdc=1.5\n",
    "R1 1 2 47\n",
    "R2 2 3 220\n",
    "R3 2 4 180 \n",
    "R4 3 5 1000\n",
    "R5 5 0 560\n",
    "Vdummy1 5 0 vdc=0 type=vdc\n",
    ".op\n",
    "\n",
    ".end"
   ]
  },
  {
   "cell_type": "code",
   "execution_count": 396,
   "metadata": {},
   "outputs": [
    {
     "name": "stdout",
     "output_type": "stream",
     "text": [
      "Starting op analysis:\n",
      "Calculating guess: skipped. (linear circuit)\n",
      "Solving...   done.\n",
      "Solving...   done.\n",
      "Difference check within margins.\n",
      "(Voltage: er=0.001, ea=1e-06, Current: er=0.001, ea=1e-09)\n"
     ]
    }
   ],
   "source": [
    "circuito_y_análisis = ahkab.netlist_parser.parse_circuit('resistencias en paralelo con pilas virtuales 3.cir')\n",
    "circuito = circuito_y_análisis[0]       \n",
    "análisis_en_netlist = circuito_y_análisis[1]\n",
    "lista_de_análisis = ahkab.netlist_parser.parse_analysis(circuito, análisis_en_netlist)\n",
    "resultados = ahkab.run(circuito, lista_de_análisis)"
   ]
  },
  {
   "cell_type": "markdown",
   "metadata": {},
   "source": [
    " # Circuitos en DC que evolucionan con el tiempo"
   ]
  },
  {
   "cell_type": "markdown",
   "metadata": {},
   "source": [
    " ## Carga de un condensador\n",
    " Vamos a ver qué le pasa a un circuito de corriente continua cuando tiene un condensador\n",
    " en serie.\n",
    "\n",
    " ![](https://raw.githubusercontent.com/pammacdotnet/spicelab/master/condensador%20en%20continua.svg?sanitize=true)\n",
    "\n",
    " Al igual que antes, primero guardamos el circuito en un netlist externo:"
   ]
  },
  {
   "cell_type": "code",
   "execution_count": 397,
   "metadata": {},
   "outputs": [
    {
     "name": "stdout",
     "output_type": "stream",
     "text": [
      "Overwriting condensador en continua.ckt\n"
     ]
    }
   ],
   "source": [
    "%%writefile \"condensador en continua.ckt\"\n",
    "* Carga condensador\n",
    "v1 0 1 type=vdc vdc=6\n",
    "r1 1 2 1k\n",
    "c1 2 0 1m ic=0\n",
    ".op\n",
    ".tran tstep=0.1 tstop=8 uic=0\n",
    ".end"
   ]
  },
  {
   "cell_type": "markdown",
   "metadata": {},
   "source": [
    "> **Pregunta:** ¿qué significa el parámetro `ic=0`? ¿qué perseguimos con un análisis de tipo `.tran`?\n",
    "\n",
    "> **Respuesta**: Según la documentacion de **ahkab**: uic = 0: se supondrá que todos los voltajes y corrientes de nodo a través de las fuentes v / h / e / son cero en t =\n",
    "Tstar <br><br>\n",
    "El analisis `.tran` realiza un análisis transitorio desde el inicio (tstart)  (cuyo valor predeterminado es 0) hasta `.tstop`', utilizando el paso proporcionado como\n",
    "paso inicial y el método especificado\n",
    "\n",
    "Leamos el circuito:"
   ]
  },
  {
   "cell_type": "code",
   "execution_count": 398,
   "metadata": {},
   "outputs": [],
   "source": [
    "circuito_y_análisis = ahkab.netlist_parser.parse_circuit(\"condensador en continua.ckt\")"
   ]
  },
  {
   "cell_type": "markdown",
   "metadata": {},
   "source": [
    " Separamos el netlist de los análisis y asignamos un fichero de almacenamiento de datos (`outfile`):"
   ]
  },
  {
   "cell_type": "code",
   "execution_count": 399,
   "metadata": {},
   "outputs": [],
   "source": [
    "circuito = circuito_y_análisis[0]\n",
    "análisis_en_netlist = circuito_y_análisis[1]\n",
    "lista_de_análisis = ahkab.netlist_parser.parse_analysis(circuito, análisis_en_netlist)\n",
    "lista_de_análisis[1]['outfile'] = \"simulación tran.tsv\""
   ]
  },
  {
   "cell_type": "markdown",
   "metadata": {},
   "source": [
    " Ejecutamos la simulación:"
   ]
  },
  {
   "cell_type": "code",
   "execution_count": 400,
   "metadata": {},
   "outputs": [
    {
     "name": "stdout",
     "output_type": "stream",
     "text": [
      "Starting op analysis:\n",
      "Calculating guess: skipped. (linear circuit)\n",
      "Solving...   done.\n",
      "Solving...   done.\n",
      "Difference check within margins.\n",
      "(Voltage: er=0.001, ea=1e-06, Current: er=0.001, ea=1e-09)\n",
      "Starting transient analysis: \n",
      "Selected method: TRAP\n",
      "Solving...  done.\n",
      "Average time step: 0.0869565\n",
      "OP simulation results for '* carga condensador'(netlist condensador en continua.ckt).\n",
      "Run on 2021-01-04 12:53:13, data file None.\n",
      "Variable    Units      Value    Error    %\n",
      "----------  -------  -------  -------  ---\n",
      "V1          V             -6    6e-12    0\n",
      "V2          V             -6    6e-12    0\n",
      "I(V1)       A              0    0        0\n"
     ]
    }
   ],
   "source": [
    "resultados = ahkab.run(circuito, lista_de_análisis)\n",
    "print(resultados['op'])\n",
    "#print(resultados['tran'].keys())"
   ]
  },
  {
   "cell_type": "markdown",
   "metadata": {},
   "source": [
    " Dibujamos la gráfica de carga del condensador con el tiempo, centrándonos en la intensidad que circula por la pila. "
   ]
  },
  {
   "cell_type": "code",
   "execution_count": 401,
   "metadata": {},
   "outputs": [
    {
     "data": {
      "text/plain": [
       "[<matplotlib.lines.Line2D at 0x1883bc939d0>]"
      ]
     },
     "execution_count": 401,
     "metadata": {},
     "output_type": "execute_result"
    },
    {
     "data": {
      "image/png": "[encoded data removed]",
      "text/plain": [
       "<Figure size 432x288 with 1 Axes>"
      ]
     },
     "metadata": {
      "needs_background": "light"
     },
     "output_type": "display_data"
    }
   ],
   "source": [
    "figura = plt.figure()\n",
    "ax1 = figura.add_subplot(111)\n",
    "ax1.set_ylabel('voltios')\n",
    "ax1.set_xlabel('tiempo')\n",
    "plt.title(\"Carga de un condensador\")\n",
    "plt.plot(resultados['tran']['T'], resultados['tran']['I(V1)'], label=\"Una etiqueta\")"
   ]
  },
  {
   "cell_type": "markdown",
   "metadata": {},
   "source": [
    "> **Pregunta:** Etiqueta los ejes convenientemente y comenta la gráfica. Dibuja otra gráfica con el voltaje en el borne `V1`. ¿Por qué son *opuestas*? ¿Qué le ocurre al voltaje a medida que evoluciona el circuito en el tiempo? Dibuja las gráficas en un formato estándar de representación vectorial (SVG, por ejemplo). Algo de ayuda [aquí](https://ipython.readthedocs.io/en/stable/api/generated/IPython.display.html#IPython.display.set_matplotlib_formats). ¿Qué valores devuelve el análisis de tipo `.op`? Justifícalo.\n"
   ]
  },
  {
   "cell_type": "code",
   "execution_count": 402,
   "metadata": {},
   "outputs": [
    {
     "data": {
      "text/plain": [
       "[<matplotlib.lines.Line2D at 0x1883bcea220>]"
      ]
     },
     "execution_count": 402,
     "metadata": {},
     "output_type": "execute_result"
    },
    {
     "data": {
      "image/png": "[encoded data removed]",
      "text/plain": [
       "<Figure size 432x288 with 1 Axes>"
      ]
     },
     "metadata": {
      "needs_background": "light"
     },
     "output_type": "display_data"
    }
   ],
   "source": [
    "figura = plt.figure()\n",
    "ax1 = figura.add_subplot(111)\n",
    "ax1.set_ylabel('voltios')\n",
    "ax1.set_xlabel('tiempo')\n",
    "plt.title(\"Carga de un condensador\")\n",
    "plt.plot(resultados['tran']['T'], resultados['tran']['v2'], label=\"Una etiqueta\")"
   ]
  },
  {
   "cell_type": "code",
   "execution_count": null,
   "metadata": {},
   "outputs": [],
   "source": []
  },
  {
   "cell_type": "markdown",
   "metadata": {},
   "source": [
    "## Carrera de condensadores\n",
    "\n",
    "Ahora tenemos un circuito con dos condensadores en paralelo: \n",
    "\n",
    "![](https://raw.githubusercontent.com/pammacdotnet/spicelab/master/condensadores%20en%20paralelo.svg?sanitize=true)\n",
    "\n",
    "> **Pregunta:** Crea el netlist de este circuito e identifica qué condensador se satura primero. Dibuja la evolución de la intensidad en ambas ramas de manera simultánea. [Aquí](https://matplotlib.org/gallery/api/two_scales.html) tienes un ejemplo de cómo se hace esto en Matplotlib. Recuerda que para que Ahkab nos devuelva la corriente en una rama, debe de estar presente una pila. Si es necesario, inserta pilas virtuales de valor nulo (cero voltios), tal y como hemos comentado antes. Grafica también los voltajes (en otra gráfica, pero que aparezcan juntos). "
   ]
  },
  {
   "cell_type": "code",
   "execution_count": 403,
   "metadata": {},
   "outputs": [
    {
     "name": "stdout",
     "output_type": "stream",
     "text": [
      "Overwriting carrera en condensadores.ckt\n"
     ]
    }
   ],
   "source": [
    "%%writefile \"carrera en condensadores.ckt\"\n",
    "* Carga condensador\n",
    "v0 0 1 type=vdc vdc=10\n",
    "r1 0 2 3k\n",
    "c1 2 3 47u ic=0\n",
    "v1dummy 3 1 type=vdc vdc=0\n",
    "c2 2 4 22u ic=0\n",
    "v2dummy 4 1 type=vdc vdc=0\n",
    ".tran tstep=0.01 tstart=6.5 tstop=7.5 uic=0\n",
    ".end"
   ]
  },
  {
   "cell_type": "code",
   "execution_count": 404,
   "metadata": {},
   "outputs": [
    {
     "name": "stdout",
     "output_type": "stream",
     "text": [
      "Starting transient analysis: \n",
      "Selected method: TRAP\n",
      "Solving...  done.\n",
      "Average time step: 0.00900901\n"
     ]
    }
   ],
   "source": [
    "circuito_y_análisis = ahkab.netlist_parser.parse_circuit(\"carrera en condensadores.ckt\")\n",
    "circuito = circuito_y_análisis[0]       \n",
    "análisis_en_netlist = circuito_y_análisis[1]\n",
    "lista_de_análisis = ahkab.netlist_parser.parse_analysis(circuito, análisis_en_netlist)\n",
    "lista_de_análisis[0]['outfile'] = \"simulación tran carrera condensadores.tsv\"\n",
    "resultados = ahkab.run(circuito, lista_de_análisis)"
   ]
  },
  {
   "cell_type": "code",
   "execution_count": 405,
   "metadata": {},
   "outputs": [
    {
     "data": {
      "text/plain": [
       "[<matplotlib.lines.Line2D at 0x1883bd4f0a0>]"
      ]
     },
     "execution_count": 405,
     "metadata": {},
     "output_type": "execute_result"
    },
    {
     "data": {
      "image/png": "[encoded data removed]",
      "text/plain": [
       "<Figure size 432x288 with 1 Axes>"
      ]
     },
     "metadata": {
      "needs_background": "light"
     },
     "output_type": "display_data"
    }
   ],
   "source": [
    "figura = plt.figure()\n",
    "ax1 = figura.add_subplot(111)\n",
    "ax1.set_ylabel('voltios')\n",
    "ax1.set_xlabel('tiempo')\n",
    "plt.title(\"Carrera de condensadores\")\n",
    "plt.xlim(6.65, 7.5)\n",
    "plt.ylim(0.0, 0.0005)\n",
    "plt.grid()\n",
    "plt.plot(resultados['tran']['T'], resultados['tran']['I(V1DUMMY)'],label=\"Intensidad en C1\")\n",
    "plt.plot(resultados['tran']['T'], resultados['tran']['I(V2DUMMY)'],label=\"Intensidad en C2\")"
   ]
  },
  {
   "cell_type": "markdown",
   "metadata": {},
   "source": [
    "## Circuitos en corriente alterna\n",
    "\n",
    "** Ejercicio **: Simula este circuito con LTspice y representa el voltaje y la intensidad en función del tiempo. Traduce este ejercicio a la versión Spice de Akhab y haz la misma representación."
   ]
  },
  {
   "cell_type": "code",
   "execution_count": 406,
   "metadata": {},
   "outputs": [
    {
     "name": "stdout",
     "output_type": "stream",
     "text": [
      "Overwriting corriente alterna.net\n"
     ]
    }
   ],
   "source": [
    "%%writefile \"corriente alterna.net\"\n",
    "* Circuito en corriente alterna\n",
    "v1 1 0 sin(0 120 60 0 0)\n",
    "r1 0 1 10k\n",
    ".tran 1\n",
    ".end"
   ]
  },
  {
   "cell_type": "code",
   "execution_count": 407,
   "metadata": {},
   "outputs": [
    {
     "data": {
      "text/plain": [
       "[<matplotlib.lines.Line2D at 0x1883bd97e50>]"
      ]
     },
     "execution_count": 407,
     "metadata": {},
     "output_type": "execute_result"
    },
    {
     "data": {
      "image/png": "[encoded data removed]",
      "text/plain": [
       "<Figure size 432x288 with 1 Axes>"
      ]
     },
     "metadata": {
      "needs_background": "light"
     },
     "output_type": "display_data"
    }
   ],
   "source": [
    "import ltspice\n",
    "l = ltspice.Ltspice(\"corriente alterna.raw\")\n",
    "l.parse()\n",
    "time = l.get_time()\n",
    "V1 = l.get_data('V(1)')\n",
    "plt.xlabel('amperios')\n",
    "plt.ylabel('voltios')\n",
    "plt.plot(time, V1)"
   ]
  },
  {
   "cell_type": "markdown",
   "metadata": {},
   "source": [
    "Vemos como la gráfica dibuja claramente una corriente alterna. "
   ]
  },
  {
   "cell_type": "markdown",
   "metadata": {},
   "source": [
    "# Resumen de lo que se pide\n",
    "Volved a realizar todos los ejercicios y demos en vuestro propio notebook, explicando con vuestras palabras cada paso, cada gráfica y respondiendo a cada pregunta. Cuidad la belleza, coherencia, narración, explicaciones y gráficas."
   ]
  }
 ],
 "metadata": {
  "file_extension": ".py",
  "kernel_info": {
   "name": "python3"
  },
  "kernelspec": {
   "display_name": "Python 3",
   "language": "python",
   "name": "python3"
  },
  "language_info": {
   "codemirror_mode": {
    "name": "ipython",
    "version": 3
   },
   "file_extension": ".py",
   "mimetype": "text/x-python",
   "name": "python",
   "nbconvert_exporter": "python",
   "pygments_lexer": "ipython3",
   "version": "3.8.3"
  },
  "mimetype": "text/x-python",
  "name": "python",
  "npconvert_exporter": "python",
  "nteract": {
   "version": "0.27.0"
  },
  "pygments_lexer": "ipython3",
  "version": 3
 },
 "nbformat": 4,
 "nbformat_minor": 2
}
