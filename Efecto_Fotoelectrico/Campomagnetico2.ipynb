{
  "cells": [
    {
      "cell_type": "markdown",
      "source": [
        "<h2><span style=\"color:#A8A8A8;\">   Actividad #02:</span></h2> \n",
        " <strong><br><br><span style=\"font-size: 3em; margin-right:2em;text-align:center\">Partícula en un campo magnético</span><br><br></strong> \n",
        " <br><br>\n",
        "<ul style=\"list-style-type:none;   float:left\">\n",
        "        <li>   Asignatura:  <strong>Fundamentos Físicos de la Informática </strong></li>\n",
        "        <li>     Profesor:  <strong>  Alberto Corbi Bellot</strong> </li>\n",
        "        <li>   Fecha:   <strong>02 de diciembre de de 2020 </strong> </li> \n",
        "        <li>    Autores: \n",
        "               <ul style=\"list-style-type:none;  padding-left:5em\">\n",
        "                        <li> <strong> Anyel Martich </strong></li>\n",
        "                        <li> <strong> Alex Sun </strong></li>\n",
        "                        <li> <strong>Joffe Pilco</strong> </li>\n",
        "                        <li>  <strong>Jaime Orozco </strong></li>\n",
        "            </ul></li></ul>"
      ],
      "metadata": {}
    },
    {
      "cell_type": "markdown",
      "source": [
        "## Enunciado"
      ],
      "metadata": {}
    },
    {
      "cell_type": "markdown",
      "source": [
        "Un electrón con una capacidad de trabajo de $72090×10^{−19}$ J orbita de manera perpendicular a un campo magnético de __3250 G__. ¿Cuál es el radio de la órbita? ¿Y su frecuencia y periodo angular? Resuelve el mismo ejercicio para un antineutrón."
      ],
      "metadata": {}
    },
    {
      "cell_type": "markdown",
      "source": [
        "<img src=\"https://raw.githubusercontent.com/Joffre-Pilco/FFI_Efecto/main/campo.gif\" style=\"float: left; width: 35%; margin-right: 1%; margin-bottom: 0.5em;\">"
      ],
      "metadata": {}
    },
    {
      "cell_type": "markdown",
      "source": [
        "## Planteamiento"
      ],
      "metadata": {}
    },
    {
      "cell_type": "markdown",
      "source": [
        "Cuando una carga atraviesa perpendicularmente un campo magnético experimenta una fuerza que le produce una desviación en la dirección, es decir, se curva la trayetoria de esa carga. \n",
        "\n",
        "La fuerza experimentada será perpendicular al vector dirección que lleva esa partícula.\n",
        "\n",
        "Hay que calcular el radio de esa curvatura.\n",
        "\n"
      ],
      "metadata": {}
    },
    {
      "cell_type": "markdown",
      "source": [
        "Inicializamos el entorno de Python para los cálculos"
      ],
      "metadata": {}
    },
    {
      "cell_type": "code",
      "source": [
        "from sympy.physics.units import Quantity\n",
        "from sympy.physics.units.systems import SI\n",
        "from sympy.physics.units import magnetic_flux_density\n",
        "from sympy.physics.units import tesla\n",
        "from sympy.physics.units import joule\n",
        "from sympy import solve, symbols, pi, Eq\n",
        "from sympy.physics.units import electronvolt\n",
        "from sympy.physics.units import volt\n",
        "from sympy.physics.units import speed_of_light as c\n",
        "from sympy.physics.units import convert_to\n",
        "from sympy.physics.units import meter\n",
        "from sympy.physics.units import second\n",
        "from sympy.physics.units import radian\n"
      ],
      "outputs": [],
      "execution_count": 36,
      "metadata": {}
    },
    {
      "cell_type": "code",
      "source": [
        "\n",
        "def f(x):\n",
        "    return x;\n"
      ],
      "outputs": [],
      "execution_count": 37,
      "metadata": {}
    },
    {
      "cell_type": "markdown",
      "source": [
        "Partimos de los datos del enunciado:"
      ],
      "metadata": {}
    },
    {
      "cell_type": "markdown",
      "source": [
        "1. De un electrón, conocemos su masa y su carga"
      ],
      "metadata": {}
    },
    {
      "cell_type": "markdown",
      "source": [
        "2. Tenemos la fuerza del campo magnético son 3250 Gauss que convertimos a Teslas, la unidad del sistema internacional"
      ],
      "metadata": {}
    },
    {
      "cell_type": "code",
      "source": [
        "Gs = Quantity(\"Gauss\",1)\n",
        "\n",
        "SI.set_quantity_dimension(Gs, magnetic_flux_density)\n",
        "\n",
        "SI.set_quantity_scale_factor(Gs, 1E-4*tesla)\n",
        "B = 3250 * Gs\n",
        "print (\"Campo Magnetico: \",B)"
      ],
      "outputs": [
        {
          "output_type": "stream",
          "name": "stdout",
          "text": [
            "Campo Magnetico:  3250*Gauss\n"
          ]
        }
      ],
      "execution_count": 38,
      "metadata": {
        "jupyter": {
          "outputs_hidden": false
        }
      }
    },
    {
      "cell_type": "markdown",
      "source": [
        "3. Tenemos la energía que produce ese electrón, en Julios"
      ],
      "metadata": {}
    },
    {
      "cell_type": "code",
      "source": [
        "E = (72090E-19 )* joule\n",
        "\n",
        "print (\"Energía\", E)\n"
      ],
      "outputs": [
        {
          "output_type": "stream",
          "name": "stdout",
          "text": [
            "Energía 7.209e-15*joule\n"
          ]
        }
      ],
      "execution_count": 39,
      "metadata": {
        "jupyter": {
          "outputs_hidden": false
        }
      }
    },
    {
      "cell_type": "markdown",
      "source": [
        "## Ecuaciones a utilizar"
      ],
      "metadata": {}
    },
    {
      "cell_type": "markdown",
      "source": [
        "* ### Ecuación de Lorenz"
      ],
      "metadata": {}
    },
    {
      "cell_type": "markdown",
      "source": [
        "$F = q_e v_e B$"
      ],
      "metadata": {}
    },
    {
      "cell_type": "markdown",
      "source": [
        "donde aplicamos que $F = \\frac {m v^2}{r}$ (ley de Newton)"
      ],
      "metadata": {}
    },
    {
      "cell_type": "markdown",
      "source": [
        "$q_e v_e B= \\frac {m_e * v_e^2}{r}$"
      ],
      "metadata": {}
    },
    {
      "cell_type": "markdown",
      "source": [
        "* ### Ecuación de Energía Cinética de un cuerpo en movimiento"
      ],
      "metadata": {}
    },
    {
      "cell_type": "markdown",
      "source": [
        "$ E_c = \\frac {1}{2}m v^2$"
      ],
      "metadata": {}
    },
    {
      "cell_type": "markdown",
      "source": [
        "Despejando en esta ecuación"
      ],
      "metadata": {}
    },
    {
      "cell_type": "markdown",
      "source": [
        "$ 2E_C = m v^2 $    y     $ v = \\frac {\\sqrt{2 E_c}} {\\sqrt{{m}} } $"
      ],
      "metadata": {}
    },
    {
      "cell_type": "markdown",
      "source": [
        "y sustituyendo en la de Lorenz tenemos que:"
      ],
      "metadata": {}
    },
    {
      "cell_type": "markdown",
      "source": [
        "$ \\frac {\\sqrt{2 E_c} B q_e} {\\sqrt{m_e}} = \\frac {2 E_c}{r}$"
      ],
      "metadata": {}
    },
    {
      "cell_type": "markdown",
      "source": [
        "y despejando el radio, que es lo que queremos calcular, tenemos la siguiente ecuación"
      ],
      "metadata": {}
    },
    {
      "cell_type": "markdown",
      "source": [
        "$r = \\frac {\\sqrt{2 E_c m}} {B q} $"
      ],
      "metadata": {}
    },
    {
      "cell_type": "markdown",
      "source": [
        "## Resolución"
      ],
      "metadata": {}
    },
    {
      "cell_type": "markdown",
      "source": [
        "Sustituyendo los valores en la ecuación anterior:"
      ],
      "metadata": {}
    },
    {
      "cell_type": "code",
      "source": [
        "r = symbols(\"r_giro\")\n",
        "v = symbols(\"v_giro\")\n",
        "\n",
        "q = 1*electronvolt/volt\n",
        "\n",
        "m = 0.5 * 1E6 * electronvolt / c**2\n",
        "eq_lorentz = Eq(q*v*B, (m*v**2)/r)\n",
        "eq_ecinetica = Eq(E, 0.5*m*v**2)\n",
        "solucion_v_r = solve([eq_ecinetica, eq_lorentz], [v, r])[1]\n",
        "radio = solucion_v_r[1]\n",
        "\n",
        "\n",
        "radio = convert_to(radio, [meter]).n(2)\n",
        "print(\"Radio: \",radio)\n"
      ],
      "outputs": [
        {
          "output_type": "stream",
          "name": "stdout",
          "text": [
            "Radio:  0.0022*meter\n"
          ]
        }
      ],
      "execution_count": 40,
      "metadata": {
        "jupyter": {
          "outputs_hidden": false
        }
      }
    },
    {
      "cell_type": "markdown",
      "source": [
        "## Calculando frecuencia y periodo angular"
      ],
      "metadata": {}
    },
    {
      "cell_type": "markdown",
      "source": [
        "Si, además, queremos calcular la frecuencia y el periodo angular debemos saber que:\n",
        "* Frecuencia (f) => Número de vueltas por segundo. Medido en Hertzios (Hz)\n",
        "* Periodo    (T) => Tiempo que se tarda en dar una vuelta completa"
      ],
      "metadata": {}
    },
    {
      "cell_type": "markdown",
      "source": [
        "Dado que el periodo es la inversa de la frecuencia $T = \\frac {1} {f} $"
      ],
      "metadata": {}
    },
    {
      "cell_type": "markdown",
      "source": [
        "Y sabemos que el periodo angular es $T = \\frac {2 \\pi r } {v} = \\frac {2 \\pi m} {q B} $\n"
      ],
      "metadata": {}
    },
    {
      "cell_type": "markdown",
      "source": [
        "Por tanto, podemos calcular frecuencia y periodo angular:"
      ],
      "metadata": {}
    },
    {
      "cell_type": "code",
      "source": [
        "T = (2 * pi * m /(B*q))\n",
        "T = convert_to(T, [second]).n(2)\n",
        "f = 1 / T\n",
        "print (\"Periodo (T): \", T)\n",
        "print (\"Frecuencia (f): \", f)"
      ],
      "outputs": [
        {
          "output_type": "stream",
          "name": "stdout",
          "text": [
            "Periodo (T):  1.1e-10*second\n",
            "Frecuencia (f):  9.3e+9/second\n"
          ]
        }
      ],
      "execution_count": 41,
      "metadata": {
        "jupyter": {
          "outputs_hidden": false
        },
        "scrolled": true
      }
    },
    {
      "cell_type": "markdown",
      "source": [
        "Si verificamos los cálculos utilizando la velocidad angular $\\omega$:"
      ],
      "metadata": {}
    },
    {
      "cell_type": "markdown",
      "source": [
        "Sabiendo que la velocidad velocidad angular es:"
      ],
      "metadata": {}
    },
    {
      "cell_type": "markdown",
      "source": [
        "$ \\omega = \\frac {q B} {m}$"
      ],
      "metadata": {}
    },
    {
      "cell_type": "markdown",
      "source": [
        "La Frecuencia angular $f$:"
      ],
      "metadata": {}
    },
    {
      "cell_type": "markdown",
      "source": [
        "$f = \\frac {\\omega} {2 \\pi} $"
      ],
      "metadata": {}
    },
    {
      "cell_type": "markdown",
      "source": [
        "Y el Periodo angular $T$:"
      ],
      "metadata": {}
    },
    {
      "cell_type": "markdown",
      "source": [
        "$T = \\frac {2 \\pi} {\\omega} $\n"
      ],
      "metadata": {}
    },
    {
      "cell_type": "code",
      "source": [
        "v_a = (B*q) / m\n",
        "v_a = convert_to(v_a, [radian/second]).n(2)\n",
        "T_a = (2 * pi) / v_a\n",
        "T_a = convert_to(T_a, [second]).n(2)\n",
        "f_a = v_a / (2 * pi)\n",
        "\n",
        "print (\"Velocidad angular: \", v_a)\n",
        "print (\"Periodo: \", T_a)\n",
        "print (\"Frecuencia: \", f_a)"
      ],
      "outputs": [
        {
          "output_type": "stream",
          "name": "stdout",
          "text": [
            "Velocidad angular:  5.8e+10*radian/second\n",
            "Periodo:  1.1e-10*second\n",
            "Frecuencia:  2.9e+10*radian/(pi*second)\n"
          ]
        }
      ],
      "execution_count": 42,
      "metadata": {
        "jupyter": {
          "outputs_hidden": false
        }
      }
    },
    {
      "cell_type": "markdown",
      "source": [
        "## Cálculos para un antineutrón"
      ],
      "metadata": {}
    },
    {
      "cell_type": "markdown",
      "source": [
        "Un antineutrón es la antipartícula de un neutrón. Tiene la misma masa que éste y no tiene carga eléctrica, por tanto, no se verá afectado por un campo magnético."
      ],
      "metadata": {}
    },
    {
      "cell_type": "markdown",
      "source": [
        "# Preguntas\n",
        "\n",
        "## ¿Por qué indicamos que las dimensiones de la unidad gauss (definida por nosotros) son de densidad de flujo magnético (magnetic_flux_density)?\n",
        "El flujo magnético es una medida del campo magnético total que pasa a través de un área dada. Es una herramienta útil para describir los efectos de la fuerza magnética en algún objeto que ocupa un área dada. La medición del campo magnético está atada al área particular de elección. Podemos escoger como queramos el tamaño del área y su orientación relativa al campo magnético.Como estamos haciendo los calculos sobre una particula no podemos depender del area que esta ocupa, por lo que es necesario establecer esta unidad.volt\n",
        "\n",
        "## ¿Por qué la carga del electrón se ha definido como electronvolt/volt?\n",
        "La carga del electrón se ha definido como electronvolt/volt porque es la programación que utiliza SymPy, que es una biblioteca de Python, es decir un sistema de álgebra computacional con sus funciones.\n",
        "\n"
      ],
      "metadata": {}
    },
    {
      "cell_type": "markdown",
      "source": [
        "# Tabla de valoración individual\n",
        "\n",
        "|   |         Sí | No        |    A veces |\n",
        "| ---------- | ---------- |---------- | ---------- |\n",
        "| Todos los miembros se han integrado al trabajo del grupo   | X   |     |   |\n",
        "| Todos los miembros participan activamente   | x   |        |     |    \n",
        "| Todos los miembros respetan otras ideas aportadas   | x   |        |     |    \n",
        "| Todos los miembros participan en la elaboración del informe   | x   |        |     |    \n",
        "| Me he preocupado por realizar un trabajo cooperativo con mis compañeros  | x   |        |     |    \n",
        "| Señala si consideras que algún aspecto del trabajo en grupo no ha sido adecuado   |    |        |     |     |\n",
        "\n",
        "\n",
        "\n",
        "\n",
        "\n",
        " \n"
      ],
      "metadata": {}
    },
    {
      "cell_type": "code",
      "source": [],
      "outputs": [],
      "execution_count": null,
      "metadata": {}
    }
  ],
  "metadata": {
    "kernelspec": {
      "display_name": "Python 3",
      "language": "python",
      "name": "python3"
    },
    "language_info": {
      "codemirror_mode": {
        "name": "ipython",
        "version": 3
      },
      "file_extension": ".py",
      "mimetype": "text/x-python",
      "name": "python",
      "nbconvert_exporter": "python",
      "pygments_lexer": "ipython3",
      "version": "3.7.4-final"
    },
    "nteract": {
      "version": "0.27.0"
    }
  },
  "nbformat": 4,
  "nbformat_minor": 4
}