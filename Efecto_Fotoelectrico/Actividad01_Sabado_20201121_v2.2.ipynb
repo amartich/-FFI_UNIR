{
  "cells": [
    {
      "cell_type": "markdown",
      "source": [
        "<div style=\"width:100%; height:3em\">  </div>"
      ],
      "metadata": {}
    },
    {
      "cell_type": "markdown",
      "source": [
        " \n",
        "<h2><span style=\"color:#A8A8A8;\">   Actividad #01:</span></h2> \n",
        " <strong><br><br><span style=\"font-size: 4em; margin-left:2em;text-align:center\">El Efecto Fotoeléctrico</span><br><br></strong> \n",
        " <br><br><br>\n",
        "<ul style=\"list-style-type:none;   float:left\">\n",
        "        <li>   Asignatura:  <strong>Fundamentos Físicos de la Informática </strong></li>\n",
        "        <li>     Profesor:  <strong>  Alberto Corbi Bellot</strong> </li>\n",
        "        <li>   Fecha:   <strong>02 de diciembre de de 2020 </strong> </li> \n",
        "        <li>    Autores: \n",
        "               <ul style=\"list-style-type:none;  padding-left:5em\">\n",
        "                        <li> <strong> Anyel Martich </strong></li>\n",
        "                        <li> <strong> Alex Sun </strong></li>\n",
        "                        <li> <strong>Joffe Pilco</strong> </li>\n",
        "                        <li>  <strong>Jaime Orozco </strong></li>\n",
        "            </ul></li></ul>\n",
        "       \n",
        "            "
      ],
      "metadata": {}
    },
    {
      "cell_type": "markdown",
      "source": [
        "   <br><br><br><br><br>   \n",
        "### Índice\n",
        " <ul style=\"list-style-type:none; margin-left:3%; margin-top:2em\">    \n",
        "     <li><a style=\"text-decoration: none;\" href=\"#calentamiento\">1.- Ejercicio de calentamiento</a></li>    \n",
        "     <li style=\"margin-top:1em;\"><a  style=\"text-decoration: none;\" href=\"#ejercicio1\">2.- Primer Ejercicio: Laboratorio virtual</a></li>         \n",
        "    <ul style=\"list-style-type:none;\">\n",
        "        <li  style=\"margin-top:1em\"><a style=\"text-decoration: none;\" href=\"#sheep\">2.1.- ¿Qué hace CheepJ?</a></li>\n",
        "        <li  style=\"margin-top:1em\"><a style=\"text-decoration: none;\" href=\"#relacionmm\">2.2.- Relación matemática entre longitud de onda y frecuencia de una onda electromagnética</a></li>\n",
        "        <li  style=\"margin-top:1em\"><a style=\"text-decoration: none;\" href=\"#cheepweb\">2.2- ¿En qué estándares Web se basa?</a></li>\n",
        "         <li  style=\"margin-top:1em\"><a style=\"text-decoration: none;\" href=\"#tabla\">2.3- Tabla: [Color-Longitud de onda - frecuencia]</a></li>\n",
        "     </ul>\n",
        "    </li>    \n",
        "     <li  style=\"margin-top:1em\"><a style=\"text-decoration: none;\" href=\"#ejercicio2\">3.- Segundo Ejercicio: Ajuste a una recta </a></li>\n",
        "      <li  style=\"margin-top:1em\"><a style=\"text-decoration: none;\" href=\"#ejercicio3\">4.- Tercer Ejercicio: Representación gráfica de los datos</a></li>\n",
        "      <li  style=\"margin-top:1em\"><a style=\"text-decoration: none;\"  href=\"#premium\">5.- Ejercicio \"Premium\": Intensidad de corriente en función de la intensidad de la luz</a></li>\n",
        "    <li  style=\"margin-top:1em\"><a style=\"text-decoration: none;\" href=\"#historia\">6.- Historia en torno al efecto fotoeléctrico</a></li>\n",
        "     <li  style=\"margin-top:1em\"><a style=\"text-decoration: none;\" href=\"#valoraciongrupo\">7.- Tabla de valoración individual</a></li>\n",
        "     <li  style=\"margin-top:1em\"><a style=\"text-decoration: none;\" href=\"#bibliografia\">8.- Bibliografía</a></li>\n",
        "     \n",
        "  </ul>\n",
        "   <br><br><br><br><br>"
      ],
      "metadata": {}
    },
    {
      "cell_type": "markdown",
      "source": [
        "##    <a id=\"calentamiento\"></a>Ejercicio de calentamiento"
      ],
      "metadata": {}
    },
    {
      "cell_type": "markdown",
      "source": [
        "#### Demostrar la siguiente afirmación:"
      ],
      "metadata": {}
    },
    {
      "cell_type": "markdown",
      "source": [
        "$$\\frac{x - x_1}{x_2 - x_1} = \\frac{y - y_1}{y_2 - y_1 } \\equiv y= m \\cdot x + b $$"
      ],
      "metadata": {}
    },
    {
      "cell_type": "markdown",
      "source": [
        "Un <strong>ajuste a una recta</strong> (o regresión lineal) lo que persigue es hallar la ecuación de la recta que mejor pasa por una serie de puntos. Recordamos que una recta se puede definir, como mínimo, con <strong>dos puntos</strong> $x_1,y_1$ y $x_2,y_2$, de manera que cualquier otro punto de dicha recta $x,y$ ,  cumple que: "
      ],
      "metadata": {}
    },
    {
      "cell_type": "markdown",
      "source": [
        "$$\\frac{x - x_1}{x_2 - x_1} = \\frac{y - y_1}{y_2 - y_1 }$$"
      ],
      "metadata": {}
    },
    {
      "cell_type": "markdown",
      "source": [
        "Esta igualdad también se puede expresar como: $ y= m \\cdot x + b $ donde $ m=\\frac{y_1-y_2}{x_1-x_2}\\  \\hspace{.2cm}y\\hspace{.2cm}   b=\\frac{x_1y_2-x_2y_1}{x_1-x_2}$\n",
        "\n",
        "#### Demostración: \n",
        "<br>\n",
        "<div style=\"float:left\"> \n",
        "Despejando:\n",
        "    <br> <br>\n",
        "$$\\hspace{0,6cm}\\frac{x - x_1}{x_2 - x_1} = \\frac{y - y_1}{y_2 - y_1 };      \n",
        "\\hspace{0.6cm}y-y_1=\\frac{(x - x_1)(y_2 - y_1 )}{x_2 - x_1}; \n",
        "\\hspace{0.6cm}y-y_1=\\frac{xy_2 -xy_1-x_1y_2+x_1y_1}{x_2 - x_1};$$\n",
        "<br>\n",
        "Pasamos término $ y_1 $ a la fracción: \n",
        "<br><br>\n",
        "$$\\hspace{0,6cm}y=\\frac{xy_2 -xy_1-x_1y_2+x_1y_1}{x_2 - x_1} + y_1;\n",
        "\\hspace{0.6cm}y=\\frac{xy_2 -xy_1-x_1y_2+x_1y_1+y_1({x_2 - x_1})}{x_2 - x_1};$$\n",
        "   \n",
        "<br>\n",
        "Operamos y cancelamos el termino $ x_1y_1 $  con $  -y_1x_1 $ : \n",
        "<br><br>\n",
        "      \n",
        "$$\\hspace{0.6cm}y=\\frac{xy_2 -xy_1-x_1y_2+ {x_1y_1}+y_1x_2 - {y_1x_1}}{x_2 - x_1};\n",
        "\\hspace{0.6cm}y=\\frac{xy_2 -xy_1-x_1y_2+y_1x_2}{x_2 - x_1};$$\n",
        "<br>\n",
        "Factor común a $ x $ y multiplicamos arriba y abajo de los quebrados por $ -1 $: \n",
        "<br><br>\n",
        "          \n",
        "$$\\hspace{0.6cm}y=\\frac{y_2 -y_1}{x_2 - x_1} x -\\frac{x_1y_2+y_1x_2}{x_2 - x_1};\n",
        "\\hspace{0.6cm}y=\\frac{-1\\cdot (y_2 -y_1)}{-1\\cdot (x_2 - x_1)} x -\\frac{-1\\cdot(x_1y_2+y_1x_2)}{-1\\cdot(x_2 - x_1)};$$\n",
        "<br> \n",
        "    \n",
        "Resultado: \n",
        "<br><br>\n",
        "$$\\hspace{0.6cm}y= \\underbrace{\\frac{y_1 -y_2}{x_1 - x_2}}_{m}\\cdot x + \\underbrace{\\frac{x_1y_2 -x_2y_1}{x_1- x_2}}_{b} $$\n",
        "</div>"
      ],
      "metadata": {}
    },
    {
      "cell_type": "markdown",
      "source": [
        "<a id='ejercicio1'></a><h4><br><br><span style=\"font-size:3em; margin-left:2em; text-align:center\">Laboratorio virtual</span><h4>\n"
      ],
      "metadata": {}
    },
    {
      "cell_type": "markdown",
      "source": [
        "###  <a id=\"sheep\"></a>¿Qué hace CheepJ tras el telón y en qué estándares Web se basa?"
      ],
      "metadata": {}
    },
    {
      "cell_type": "markdown",
      "source": [
        "### <a id=\"relacionmm\"></a> ¿Cuál es la relación matemática entre longitud de onda y frecuencia de una onda electromagnética?"
      ],
      "metadata": {}
    },
    {
      "cell_type": "markdown",
      "source": [
        "# Toma de medidas con el applet del efecto Fotoeléctrico"
      ],
      "metadata": {}
    },
    {
      "cell_type": "markdown",
      "source": [
        "## Primer ejercicio. \n",
        "\n",
        "Haced una tabla rápida con el nombre de cada color del arcoíris (azul, rojo, amarillo, etc.) en una columna, en una segunda columna escribe su longitud de onda (en metros) y en una tercera columna, su frecuencia (en Hercios). ¿Cuál es la relación matemática entre longitud de onda y frecuencia de una onda electromagnética?"
      ],
      "metadata": {}
    },
    {
      "cell_type": "markdown",
      "source": [
        "#### Experimentación Sodio\n",
        "\n",
        "Color | $ \\lambda = $ Longitud de<br>onda | $ V = $ Potenciale de<br>Frenado | Observaciones\n",
        ":------: | :------: |:----------: | :---------- |\n",
        "Rojo     | $665{nm}$| $ 0.00_V $  | La frecuencia de la luz roja es menor que la frecuencia de <br>umbral del metal, por    lo tanto no emite ningún  fotón. |\n",
        "         |          |             |             |\n",
        "Azul     | $441{nm}$| $  -0.40_V $ | El voltaje de frenado para el Azul en Sodio, es cualquier valor < 0.60 Voltios.<br> Para este voltaje, llegan algnos fotones pero no lo sufuciente para generar corriente.     |  \n",
        "         |          |             |             |\n",
        "Verde | $510{nm}$   |$  0.00_V $ |Aunque no haya potencial de frenado, no emite suficientes electrones para generar corriente.            |\n",
        "         |          |             |             | \n",
        "Violeta  |$400{nm}$ |$  -0.8_V $ | Para el violeta, el potencial de frenado o voltage<br> debe ser un poco mayor que en las demas longitudes de ondas              |"
      ],
      "metadata": {}
    },
    {
      "cell_type": "markdown",
      "source": [
        "<img src=\"https://raw.githubusercontent.com/amartich/FFI_UNIR/main/Efecto_Fotoelectrico/rojo-Sodio.gif\" style=\"float: left; width: 35%; margin-right: 1%; margin-bottom: 0.5em;\">\n",
        "\n",
        "<img src=\"https://raw.githubusercontent.com/amartich/FFI_UNIR/main/Efecto_Fotoelectrico/azul-sodio_.gif\" style=\"float: left; width: 35%; margin-right: 1%; margin-top: -1.5em;\">\n"
      ],
      "metadata": {}
    },
    {
      "cell_type": "markdown",
      "source": [
        "<img src=\"https://raw.githubusercontent.com/amartich/FFI_UNIR/main/Efecto_Fotoelectrico/verde-sodio_.gif\" style=\"float: left; width: 35%; margin-right: 1%; margin-bottom: 0.5em;\"><br>\n",
        "<img src=\"https://raw.githubusercontent.com/amartich/FFI_UNIR/main/Efecto_Fotoelectrico/violeta-sodio.gif\" style=\"float: left; width: 35%; margin-left: 1%; margin-top: -1.5em;\">"
      ],
      "metadata": {}
    },
    {
      "cell_type": "code",
      "source": [
        "var longitudes_de_onda_medidas_sodio = [400, 441, 510, 665].map(x => x*1e-9);  // para pasar a metros\n",
        "var voltajes_medidos_sodio = [-0.80, -0.40, -0.10, -0.8];  // en voltios (voltaje de frenado)\n",
        "\n",
        "console.log('Logitudes de ondas medidas Sodio= ' + longitudes_de_onda_medidas_sodio);\n",
        "\n",
        "var inversa_de_longitudes_de_onda_sodio = longitudes_de_onda_medidas_sodio.map(lambda => 1/lambda );  \n",
        "var datos_a_ajustar_sodio = voltajes_medidos_sodio.reduce((tuplas_longitud_onda_voltaje_sodio, b, i) => {\n",
        "    tuplas_longitud_onda_voltaje_sodio.push([inversa_de_longitudes_de_onda_sodio[i], b]);\n",
        "  return tuplas_longitud_onda_voltaje_sodio;\n",
        "}, []);\n",
        "console.log('Tuplas 1/lambdas= ' + datos_a_ajustar_sodio); // Verás que son tuplas de valores 1/lambda y voltajes"
      ],
      "outputs": [
        {
          "output_type": "stream",
          "name": "stdout",
          "text": [
            "Logitudes de ondas medidas Sodio= 4.0000000000000003e-7,4.4100000000000004e-7,5.1e-7,6.650000000000001e-7\n",
            "Tuplas 1/lambdas= 2500000,-0.8,2267573.6961451243,-0.4,1960784.3137254904,-0.1,1503759.3984962404,-0.8\n"
          ]
        }
      ],
      "execution_count": 1,
      "metadata": {
        "execution": {
          "iopub.status.busy": "2020-11-22T14:13:36.145Z",
          "iopub.execute_input": "2020-11-22T14:13:36.152Z",
          "iopub.status.idle": "2020-11-22T14:13:36.170Z",
          "shell.execute_reply": "2020-11-22T14:13:36.094Z"
        }
      }
    },
    {
      "cell_type": "markdown",
      "source": [
        "#### Experimentación Zinc\n",
        "\n",
        "Color | $ \\lambda = $ Longitud de<br>onda | $ V = $ Potenciale de<br>Frenado | Observaciones\n",
        ":------: | :------: |:----------: | :---------- |\n",
        "UV       | $251{nm}$| $ -0.60_V $ |El voltaje de frenado para el UV en Zinc, es cualquier valor < 0.60 Voltios.<br>Para este voltaje, llegan algunos fotones pero no lo suficiente para generar corriente|\n",
        "         |          |             |             |\n",
        "Azul     | $444{nm}$| $  0.00_V $ | Independientemente del valor del voltaje, no se emiten electrones.      |  \n",
        "         |          |             |             |\n",
        "Verde | $510{nm}$   |$  -0.00_V $ |Independientemente del valor del voltaje, no se emiten electrones.            |\n",
        "         |          |             |             | \n",
        "UV  |$150{nm}$ |$  -4.00_V $ |El voltaje de frejado en este caso del UV es de -4v y llegan algunos fotones<br> pero no lo suficiente para generar corriente"
      ],
      "metadata": {}
    },
    {
      "cell_type": "markdown",
      "source": [
        "<img src=\"https://raw.githubusercontent.com/amartich/FFI_UNIR/main/Efecto_Fotoelectrico/uv-zinc_.gif\" style=\"float: left; width: 35%; margin-left: 1%; margin-top: -1.5em;\">\n",
        "\n",
        "<img src=\"https://raw.githubusercontent.com/amartich/FFI_UNIR/main/Efecto_Fotoelectrico/azul-zinc.gif\" style=\"float: left; width: 35%; margin-left: 1%; margin-top: -1.5em;\">"
      ],
      "metadata": {}
    },
    {
      "cell_type": "markdown",
      "source": [
        "<img src=\"https://raw.githubusercontent.com/amartich/FFI_UNIR/main/Efecto_Fotoelectrico/verde-zinc.gif\" style=\"float: left; width: 35%; margin-left: 1%; margin-top: -1.5em;\">\n",
        "\n",
        "<img src=\"https://raw.githubusercontent.com/amartich/FFI_UNIR/main/Efecto_Fotoelectrico/violeta-zinc.gif\" style=\"float: left; width: 35%; margin-left: 1%; margin-top: -1.5em;\">"
      ],
      "metadata": {}
    },
    {
      "cell_type": "code",
      "source": [
        "var longitudes_de_onda_medidas_zinc = [251, 400, 444, 510].map(x => x*1e-9);  // para pasar a metros\n",
        "var voltajes_medidos_zinc = [-0.60, -0.10, -0.80, -4.00];  // en voltios (voltaje de frenado)\n",
        "\n",
        "\n",
        "console.log('Logitudes de ondas medidas Zinc= ' + longitudes_de_onda_medidas_zinc);\n",
        "\n",
        "var inversa_de_longitudes_de_onda_zinc = longitudes_de_onda_medidas_zinc.map(lambda => 1/lambda );  \n",
        "var datos_a_ajustar_zinc = voltajes_medidos_zinc.reduce((tuplas_longitud_onda_voltaje_zinc, b, i) => {\n",
        "    tuplas_longitud_onda_voltaje_zinc.push([inversa_de_longitudes_de_onda_zinc[i], b]);\n",
        "  return tuplas_longitud_onda_voltaje_zinc;\n",
        "}, []);\n",
        "console.log('Tuplas 1/lambdas= ' + datos_a_ajustar_zinc); // Verás que son tuplas de valores 1/lambda y voltajes\n",
        "\n",
        "\n"
      ],
      "outputs": [
        {
          "output_type": "stream",
          "name": "stdout",
          "text": [
            "Logitudes de ondas medidas Zinc= 2.51e-7,4.0000000000000003e-7,4.44e-7,5.1e-7\n",
            "Tuplas 1/lambdas= 3984063.74501992,-0.6,2500000,-0.1,2252252.2522522523,-0.8,1960784.3137254904,-4\n"
          ]
        }
      ],
      "execution_count": 2,
      "metadata": {
        "execution": {
          "iopub.status.busy": "2020-11-22T14:13:36.181Z",
          "iopub.execute_input": "2020-11-22T14:13:36.190Z",
          "iopub.status.idle": "2020-11-22T14:13:36.206Z",
          "shell.execute_reply": "2020-11-22T14:13:36.102Z"
        }
      }
    },
    {
      "cell_type": "markdown",
      "source": [
        "# Ajuste a una recta "
      ],
      "metadata": {}
    },
    {
      "cell_type": "markdown",
      "source": [
        "### Realizamo el ajuste de la recta y calculamos los valores de $ m $ y $b$"
      ],
      "metadata": {}
    },
    {
      "cell_type": "markdown",
      "source": [
        "### Regresión Sodio"
      ],
      "metadata": {}
    },
    {
      "cell_type": "code",
      "source": [
        "var regression = require('./regression.js');\n",
        "var result = regression.linear(datos_a_ajustar_sodio, { precision: 15 });\n",
        "var m = result.equation[0];  // pendiente\n",
        "var b = result.equation[1];  // ordenada en origen\n",
        "console.log('la pendiente es = ' + m + ' y la ordenada es = ' + b);"
      ],
      "outputs": [
        {
          "output_type": "stream",
          "name": "stdout",
          "text": [
            "la pendiente es = 2.8324666e-8 y la ordenada es = -0.583292994016194\n"
          ]
        }
      ],
      "execution_count": 3,
      "metadata": {
        "execution": {
          "iopub.status.busy": "2020-11-22T14:13:36.215Z",
          "iopub.execute_input": "2020-11-22T14:13:36.223Z",
          "iopub.status.idle": "2020-11-22T14:13:36.234Z",
          "shell.execute_reply": "2020-11-22T14:13:36.110Z"
        }
      }
    },
    {
      "cell_type": "markdown",
      "source": [
        "Una  vez calculado los datos obtenemos los valores de la pendinente mediante la formula:\n",
        "$$\\hspace{5.3cm} m=\\frac{2\\pi h c }{ e}$$ y si despejamos de la formula $h$ obtenemos el valor de la consntante de Planck:\n",
        "\n",
        "$$h=\\frac{ -7.86795414*10^-7*1.602*10^-19}{2*3.141592*3*10^8}= 1,054571818*10^-34\\  J*s $$"
      ],
      "metadata": {}
    },
    {
      "cell_type": "code",
      "source": [
        "pi=3.141592\n",
        "e=-1.602e-19\n",
        "c=3e8\n",
        "h=m*e/(2*pi*c); "
      ],
      "outputs": [
        {
          "output_type": "execute_result",
          "execution_count": 4,
          "data": {
            "text/plain": "-2.4072781640645886e-36"
          },
          "metadata": {}
        }
      ],
      "execution_count": 4,
      "metadata": {
        "collapsed": true,
        "jupyter": {
          "source_hidden": false,
          "outputs_hidden": false
        },
        "nteract": {
          "transient": {
            "deleting": false
          }
        },
        "execution": {
          "iopub.status.busy": "2020-11-22T14:13:36.245Z",
          "iopub.execute_input": "2020-11-22T14:13:36.252Z",
          "iopub.status.idle": "2020-11-22T14:13:36.263Z",
          "shell.execute_reply": "2020-11-22T14:13:36.118Z"
        }
      }
    },
    {
      "cell_type": "markdown",
      "source": [
        "### Regresión Zinc"
      ],
      "metadata": {}
    },
    {
      "cell_type": "code",
      "source": [
        "var regression = require('./regression.js');\n",
        "var result = regression.linear(datos_a_ajustar_zinc, { precision: 15 });\n",
        "var m = result.equation[0];  // pendiente\n",
        "var b = result.equation[1];  // ordenada en origen\n",
        "console.log('la pendiente es = ' + m + ' y la ordenada es = ' + b);"
      ],
      "outputs": [
        {
          "output_type": "stream",
          "name": "stdout",
          "text": [
            "la pendiente es = 9.9590855e-7 y la ordenada es = -4.038333414982558\n"
          ]
        }
      ],
      "execution_count": 5,
      "metadata": {
        "execution": {
          "iopub.status.busy": "2020-11-22T14:13:36.274Z",
          "iopub.execute_input": "2020-11-22T14:13:36.281Z",
          "iopub.status.idle": "2020-11-22T14:13:36.294Z",
          "shell.execute_reply": "2020-11-22T14:13:36.125Z"
        }
      }
    },
    {
      "cell_type": "markdown",
      "source": [
        "###  <a id=\"premium\"></a>Intensidad de corriente en función de la intensidad de la luz"
      ],
      "metadata": {}
    },
    {
      "cell_type": "markdown",
      "source": [
        "Realizamos el experimento:"
      ],
      "metadata": {}
    },
    {
      "cell_type": "markdown",
      "source": [
        "\n",
        "\n",
        "\n",
        "<img src=\"https://raw.githubusercontent.com/amartich/FFI_UNIR/main/Efecto_Fotoelectrico/premium2.gif\" style=\"width: 65%; margin-left: 16%; margin-top: -1.5em;\">"
      ],
      "metadata": {}
    },
    {
      "cell_type": "markdown",
      "source": [
        "Comprobamos en este experimento que al aumentar la intensidad de la luz, aumenta la intensidad de la corriente fotoelectrica.<br>\n",
        "Observamos además en los datos que ésta relación es proporcional. \n",
        "\n",
        "Metal: Zinc<br>\n",
        "$ \\lambda = $ 100nm\n",
        "\n",
        " | Intensidad de la luz<br>en banco de pruebas | Intensidad de corriente | Observaciones\n",
        " :------: |:----------: | :---------- |\n",
        "       0%| $ 0.00A $ |Si la intensidad de la luz es 0, no hay emisión de fotones|\n",
        "         |          |             |             |\n",
        "      50%| $  0.441A $ | A un 50% de intensidad la corriente es de 0.441A \n",
        "      100%| $  0.882A $ | A un 100% de intensidad de la luz, vemos que la corriente es proporcional a la intensidad de la luz.<br> $ \\frac{100}{50} = \\frac{0.882}{0.441} = 2  $\n",
        "\n"
      ],
      "metadata": {}
    },
    {
      "cell_type": "code",
      "source": [],
      "outputs": [],
      "execution_count": null,
      "metadata": {}
    },
    {
      "cell_type": "markdown",
      "source": [
        "##    <a id=\"historia\"></a>Historia en torno al Efecto Fotoeléctrico\n"
      ],
      "metadata": {}
    },
    {
      "cell_type": "markdown",
      "source": [
        "<span style=\"float: left; width:100%;\"> \n",
        "  <br>\n",
        "     <p>En 1864, James Clerk Maxwell consiguió la unificación de la electricidad y el magnetismo a través de un conjunto de ecuaciones matemáticas que describían el comportamiento del fenómeno que denominó electromagnetismo. En 1887, H. Hertz experimentó la existencia de las ondas electromagnéticas, pero no fue capaz de esbozar ninguna teoría, ya que ni siquiera conocía la existencia del electrón;  fue dos años después de descubrir el electrón, en 1899, cuando Thomson sostuvo que las partículas emitidas en el efecto fotoeléctrico producido por la luz ultravioleta eran electrones, siendo tal afirmación  aceptada por la comunidad de físicos, asumiendo además, la denominación de fotoelectrones y  aceptando que su generación podía deberse tanto a la luz ultravioleta como a radiación de cualquier otra frecuencia.  En 1902, Philipp Lenard, ayudante de Hertz, experimentó el efecto fotoeléctrico entre dos placas metálicas colocadas en un tubo donde se había hecho el vacío, donde observó cómo al colocar una batería se detectaba corriente eléctrica debido a la emisión de fotoelectrones desde la placa iluminada con luz ultravioleta. Por tanto, antes de 1905 se habían establecido experimentalmente tres hechos empíricos asociados al efecto fotoeléctrico, que son la existencia de una frecuencia umbral de la luz incidente por debajo de la cual no se observa la emisión de fotoelectrones, la energía de los fotoelectrones aumenta con la frecuencia de la luz incidente y la ausencia de tiempo de retardo en la emisión de fotoelectrones. En este mismo año, 1905,  Einstein explicó el efecto fotoeléctrico introduciendo la teoría cuántica de la luz, pero admitió que su teoría también era incompleta porque no podía justificar fenómenos tales como la interferencia, difracción y polarización, mientras que la teoría ondulatoria de Lenard y antecesores sí era capaz de interpretar; debido a esto en 1909, Einstein habló de la fusión de ambas teorías. No fue hasta 1923 que los experimentos de P. Debye y Compton hicieron que la mayoría de los físicos se convencieron en adoptar la teoría cuántica de la luz de Einstein. Ese mismo año Louis Victor Pierre Raymond de Broglie dio un paso más y generalizó la dualidad onda-corpúsculo al caso de las partículas materiales y en concreto de los electrones asignándoles una “onda asociada ficticia”, es decir, en 1923 se generalizó la naturaleza híbrida de los cuantos, dotada al mismo tiempo de características corpusculares y ondulatorias (dualidad onda-corpúsculo). Einstein advirtió de este fenómeno casi 20 años antes y le concedieron, no sin polémica, el Premio Nobel de 1921 por el descubrimiento de la ley del efecto fotoeléctrico.</p>\n",
        "\n"
      ],
      "metadata": {}
    },
    {
      "cell_type": "markdown",
      "source": [
        "\n",
        "\n",
        " "
      ],
      "metadata": {}
    },
    {
      "cell_type": "code",
      "source": [],
      "outputs": [],
      "execution_count": null,
      "metadata": {}
    }
  ],
  "metadata": {
    "kernelspec": {
      "display_name": "Javascript (Node.js)",
      "language": "javascript",
      "name": "javascript"
    },
    "language_info": {
      "name": "javascript",
      "version": "12.8.1",
      "mimetype": "application/javascript",
      "file_extension": ".js"
    },
    "nteract": {
      "version": "0.26.0"
    }
  },
  "nbformat": 4,
  "nbformat_minor": 4
}