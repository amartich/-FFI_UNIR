{
 "cells": [
  {
   "cell_type": "markdown",
   "metadata": {},
   "source": [
    "<div style=\"width:100%; height:3em\">  </div>"
   ]
  },
  {
   "cell_type": "markdown",
   "metadata": {},
   "source": [
    " \n",
    "<h2><span style=\"color:#A8A8A8;\">   Actividad #01:</span></h2> \n",
    " <strong><br><br><span style=\"font-size: 4em; margin-left:2em;text-align:center\">El Efecto Fotoeléctrico</span><br><br></strong> \n",
    " <br><br><br>\n",
    "<ul style=\"list-style-type:none;   float:left\">\n",
    "        <li>   Asignatura:  <strong>Fundamentos Físicos de la Informática </strong></li>\n",
    "        <li>     Profesor:  <strong>  Alberto Corbi Bellot</strong> </li>\n",
    "        <li>   Fecha:   <strong>02 de diciembre de de 2020 </strong> </li> \n",
    "        <li>    Autores: \n",
    "               <ul style=\"list-style-type:none;  padding-left:5em\">\n",
    "                        <li> <strong> Anyel Martich </strong></li>\n",
    "                        <li> <strong> Alex Sun </strong></li>\n",
    "                        <li> <strong>Joffe Pilco</strong> </li>\n",
    "                        <li>  <strong>Jaime Orozco </strong></li>\n",
    "            </ul></li></ul>\n",
    "       \n",
    "            "
   ]
  },
  {
   "cell_type": "markdown",
   "metadata": {},
   "source": [
    "   <br><br><br><br><br>   \n",
    "### Índice\n",
    " <ul style=\"list-style-type:none; margin-left:3%; margin-top:2em\">    \n",
    "     <li><a style=\"text-decoration: none;\" href=\"#calentamiento\">1.- Ejercicio de calentamiento</a></li>    \n",
    "     <li style=\"margin-top:1em;\"><a  style=\"text-decoration: none;\" href=\"#ejercicio1\">2.- Primer Ejercicio: Laboratorio virtual</a></li>         \n",
    "    <ul style=\"list-style-type:none;\">\n",
    "        <li  style=\"margin-top:1em\"><a style=\"text-decoration: none;\" href=\"#sheep\">2.1.- ¿Qué hace CheepJ?</a></li>\n",
    "        <li  style=\"margin-top:1em\"><a style=\"text-decoration: none;\" href=\"#relacionmm\">2.2.- Relación matemática entre longitud de onda y frecuencia de una onda electromagnética</a></li>\n",
    "        <li  style=\"margin-top:1em\"><a style=\"text-decoration: none;\" href=\"#cheepweb\">2.2- ¿En qué estándares Web se basa?</a></li>\n",
    "         <li  style=\"margin-top:1em\"><a style=\"text-decoration: none;\" href=\"#tabla\">2.3- Tabla: [Color-Longitud de onda - frecuencia]</a></li>\n",
    "     </ul>\n",
    "    </li>    \n",
    "     <li  style=\"margin-top:1em\"><a style=\"text-decoration: none;\" href=\"#ejercicio2\">3.- Segundo Ejercicio: Ajuste a una recta </a></li>\n",
    "      <li  style=\"margin-top:1em\"><a style=\"text-decoration: none;\" href=\"#ejercicio3\">4.- Tercer Ejercicio: Representación gráfica de los datos</a></li>\n",
    "      <li  style=\"margin-top:1em\"><a style=\"text-decoration: none;\"  href=\"#ejercicio4\">5.- Ejercicio \"Premium\": Intensidad de corriente en función de la intensidad de la luz</a></li>\n",
    "    <li  style=\"margin-top:1em\"><a style=\"text-decoration: none;\" href=\"#historia\">6.- Historia en torno al efecto fotoeléctrico</a></li>\n",
    "     <li  style=\"margin-top:1em\"><a style=\"text-decoration: none;\" href=\"#valoraciongrupo\">7.- Tabla de valoración individual</a></li>\n",
    "     <li  style=\"margin-top:1em\"><a style=\"text-decoration: none;\" href=\"#bibliografia\">8.- Bibliografía</a></li>\n",
    "     \n",
    "  </ul>\n",
    "   <br><br><br><br><br>"
   ]
  },
  {
   "cell_type": "markdown",
   "metadata": {},
   "source": [
    "##    <a id=\"calentamiento\"></a>Ejercicio de calentamiento"
   ]
  },
  {
   "cell_type": "markdown",
   "metadata": {},
   "source": [
    "#### Demostrar la siguiente afirmación:"
   ]
  },
  {
   "cell_type": "markdown",
   "metadata": {},
   "source": [
    "$$\\frac{x - x_1}{x_2 - x_1} = \\frac{y - y_1}{y_2 - y_1 } \\equiv y= m \\cdot x + b $$"
   ]
  },
  {
   "cell_type": "markdown",
   "metadata": {},
   "source": [
    "Un <strong>ajuste a una recta</strong> (o regresión lineal) lo que persigue es hallar la ecuación de la recta que mejor pasa por una serie de puntos. Recordamos que una recta se puede definir, como mínimo, con <strong>dos puntos</strong> $x_1,y_1$ y $x_2,y_2$, de manera que cualquier otro punto de dicha recta $x,y$ ,  cumple que: "
   ]
  },
  {
   "cell_type": "markdown",
   "metadata": {},
   "source": [
    "$$\\frac{x - x_1}{x_2 - x_1} = \\frac{y - y_1}{y_2 - y_1 }$$"
   ]
  },
  {
   "cell_type": "markdown",
   "metadata": {},
   "source": [
    "Esta igualdad también se puede expresar como: $ y= m \\cdot x + b $ donde $ m=\\frac{y_1-y_2}{x_1-x_2}\\  \\hspace{.2cm}y\\hspace{.2cm}   b=\\frac{x_1y_2-x_2y_1}{x_1-x_2}$\n",
    "\n",
    "#### Demostración: \n",
    "<br>\n",
    "<div style=\"float:left\"> \n",
    "Despejando:\n",
    "    <br> <br>\n",
    "$$\\hspace{0,6cm}\\frac{x - x_1}{x_2 - x_1} = \\frac{y - y_1}{y_2 - y_1 };      \n",
    "\\hspace{0.6cm}y-y_1=\\frac{(x - x_1)(y_2 - y_1 )}{x_2 - x_1}; \n",
    "\\hspace{0.6cm}y-y_1=\\frac{xy_2 -xy_1-x_1y_2+x_1y_1}{x_2 - x_1};$$\n",
    "<br>\n",
    "Pasamos término $ y_1 $ a la fracción: \n",
    "<br><br>\n",
    "$$\\hspace{0,6cm}y=\\frac{xy_2 -xy_1-x_1y_2+x_1y_1}{x_2 - x_1} + y_1;\n",
    "\\hspace{0.6cm}y=\\frac{xy_2 -xy_1-x_1y_2+x_1y_1+y_1({x_2 - x_1})}{x_2 - x_1};$$\n",
    "   \n",
    "<br>\n",
    "Operamos y cancelamos el termino $ x_1y_1 $  con $  -y_1x_1 $ : \n",
    "<br><br>\n",
    "      \n",
    "$$\\hspace{0.6cm}y=\\frac{xy_2 -xy_1-x_1y_2+ {x_1y_1}+y_1x_2 - {y_1x_1}}{x_2 - x_1};\n",
    "\\hspace{0.6cm}y=\\frac{xy_2 -xy_1-x_1y_2+y_1x_2}{x_2 - x_1};$$\n",
    "<br>\n",
    "Factor común a $ x $ y multiplicamos arriba y abajo de los quebrados por $ -1 $: \n",
    "<br><br>\n",
    "          \n",
    "$$\\hspace{0.6cm}y=\\frac{y_2 -y_1}{x_2 - x_1} x -\\frac{x_1y_2+y_1x_2}{x_2 - x_1};\n",
    "\\hspace{0.6cm}y=\\frac{-1\\cdot (y_2 -y_1)}{-1\\cdot (x_2 - x_1)} x -\\frac{-1\\cdot(x_1y_2+y_1x_2)}{-1\\cdot(x_2 - x_1)};$$\n",
    "<br> \n",
    "    \n",
    "Resultado: \n",
    "<br><br>\n",
    "$$\\hspace{0.6cm}y= \\underbrace{\\frac{y_1 -y_2}{x_1 - x_2}}_{m}\\cdot x + \\underbrace{\\frac{x_1y_2 -x_2y_1}{x_1- x_2}}_{b} $$\n",
    "</div>"
   ]
  },
  {
   "cell_type": "markdown",
   "metadata": {},
   "source": [
    "<a id='ejercicio1'></a><h4><br><br><span style=\"font-size:3em; margin-left:2em; text-align:center\">Laboratorio virtual</span><h4>\n"
   ]
  },
  {
   "cell_type": "markdown",
   "metadata": {},
   "source": [
    "###  <a id=\"sheep\"></a>¿Qué hace CheepJ tras el telón y en qué estándares Web se basa?"
   ]
  },
  {
   "cell_type": "markdown",
   "metadata": {},
   "source": [
    "### <a id=\"relacionmm\"></a> ¿Cuál es la relación matemática entre longitud de onda y frecuencia de una onda electromagnética?"
   ]
  },
  {
   "cell_type": "markdown",
   "metadata": {},
   "source": [
    "## Primer ejercicio. \n",
    "\n",
    "Haced una tabla rápida con el nombre de cada color del arcoíris (azul, rojo, amarillo, etc.) en una columna, en una segunda columna escribe su longitud de onda (en metros) y en una tercera columna, su frecuencia (en Hercios). ¿Cuál es la relación matemática entre longitud de onda y frecuencia de una onda electromagnética?"
   ]
  },
  {
   "cell_type": "markdown",
   "metadata": {},
   "source": [
    "#### Experimentación Sodio\n",
    "\n",
    "Color | $ \\lambda = $ Longitud de<br>onda | $ V = $ Potenciale de<br>Frenado | Observaciones\n",
    ":------: | :------: |:----------: | :---------- |\n",
    "Rojo     | $665{nm}$| $ -8_V $  | La frecuencia de la luz roja es menor que la frecuencia de <br>umbral del metal, por    lo tanto no emite ningún  fotón. |\n",
    "         |          |             |             |\n",
    "Azul     | $441{nm}$| $  -0.40_V $ | El voltaje de frenado para el Azul en Sodio, es cualquier valor < 0.60 Voltios.<br> Para este voltaje, llegan algnos fotones pero no lo sufuciente para generar corriente.     |  \n",
    "         |          |             |             |\n",
    "Verde | $510{nm}$   |$  0.00_V $ |Aunque no haya potencial de frenado, no emite suficientes electrones para generar corriente.            |\n",
    "         |          |             |             | \n",
    "Violeta  |$400{nm}$ |$  -0.8_V $ | Para el violeta, el potencial de frenado o voltage<br> debe ser un poco mayor que en las demas longitudes de ondas              |"
   ]
  },
  {
   "cell_type": "markdown",
   "metadata": {},
   "source": [
    "<img src=\"https://raw.githubusercontent.com/amartich/FFI_UNIR/main/Efecto_Fotoelectrico/rojo-Sodio.gif\" style=\"float: left; width: 35%; margin-right: 1%; margin-bottom: 0.5em;\">\n",
    "\n",
    "<img src=\"https://raw.githubusercontent.com/amartich/FFI_UNIR/main/Efecto_Fotoelectrico/azul-sodio_.gif\" style=\"float: left; width: 35%; margin-right: 1%; margin-top: -1.5em;\">\n"
   ]
  },
  {
   "cell_type": "markdown",
   "metadata": {},
   "source": [
    "<img src=\"https://raw.githubusercontent.com/amartich/FFI_UNIR/main/Efecto_Fotoelectrico/verde-sodio_.gif\" style=\"float: left; width: 35%; margin-right: 1%; margin-bottom: 0.5em;\"><br>\n",
    "<img src=\"https://raw.githubusercontent.com/amartich/FFI_UNIR/main/Efecto_Fotoelectrico/violeta-sodio.gif\" style=\"float: left; width: 35%; margin-left: 1%; margin-top: -1.5em;\">"
   ]
  },
  {
   "cell_type": "markdown",
   "metadata": {},
   "source": [
    "#### Experimentación Zinc\n",
    "\n",
    "Color | $ \\lambda = $ Longitud de<br>onda | $ V = $ Potenciale de<br>Frenado | Observaciones\n",
    ":------: | :------: |:----------: | :---------- |\n",
    "UV       | $251{nm}$| $ -0.60_V $ |El voltaje de frenado para el UV en Zinc, es cualquier valor < 0.60 Voltios.<br>Para este voltaje, llegan algunos fotones pero no lo suficiente para generar corriente|\n",
    "         |          |             |             |\n",
    "Azul     | $444{nm}$| $  0.00_V $ | Independientemente del valor del voltaje, no se emiten electrones.      |  \n",
    "         |          |             |             |\n",
    "Verde | $510{nm}$   |$  -0.00_V $ |Independientemente del valor del voltaje, no se emiten electrones.            |\n",
    "         |          |             |             | \n",
    "Violeta  |$400{nm}$ |$  -0.00_V $ |Independientemente del valor del voltaje, no se emiten electrones."
   ]
  },
  {
   "cell_type": "markdown",
   "metadata": {},
   "source": [
    "<img src=\"https://raw.githubusercontent.com/amartich/FFI_UNIR/main/Efecto_Fotoelectrico/uv-zinc_.gif\" style=\"float: left; width: 35%; margin-left: 1%; margin-top: -1.5em;\">\n",
    "\n",
    "<img src=\"https://raw.githubusercontent.com/amartich/FFI_UNIR/main/Efecto_Fotoelectrico/azul-zinc.gif\" style=\"float: left; width: 35%; margin-left: 1%; margin-top: -1.5em;\">"
   ]
  },
  {
   "cell_type": "markdown",
   "metadata": {},
   "source": [
    "<img src=\"https://raw.githubusercontent.com/amartich/FFI_UNIR/main/Efecto_Fotoelectrico/verde-zinc.gif\" style=\"float: left; width: 35%; margin-left: 1%; margin-top: -1.5em;\">\n",
    "\n",
    "<img src=\"https://raw.githubusercontent.com/amartich/FFI_UNIR/main/Efecto_Fotoelectrico/violeta-zinc.gif\" style=\"float: left; width: 35%; margin-left: 1%; margin-top: -1.5em;\">"
   ]
  },
  {
   "cell_type": "markdown",
   "metadata": {},
   "source": [
    "##    <a id=\"historia\"></a>Historia en torno al Efecto Fotoeléctrico\n"
   ]
  },
  {
   "cell_type": "markdown",
   "metadata": {},
   "source": [
    "<span style=\"float: left; width:100%;\"> \n",
    "  <br>\n",
    "     <p>En 1864, James Clerk Maxwell consiguió la unificación de la electricidad y el magnetismo a través de un conjunto de ecuaciones matemáticas que describían el comportamiento del fenómeno que denominó electromagnetismo. En 1887, H. Hertz experimentó la existencia de las ondas electromagnéticas, pero no fue capaz de esbozar ninguna teoría, ya que ni siquiera conocía la existencia del electrón;  fue dos años después de descubrir el electrón, en 1899, cuando Thomson sostuvo que las partículas emitidas en el efecto fotoeléctrico producido por la luz ultravioleta eran electrones, siendo tal afirmación  aceptada por la comunidad de físicos, asumiendo además, la denominación de fotoelectrones y  aceptando que su generación podía deberse tanto a la luz ultravioleta como a radiación de cualquier otra frecuencia.  En 1902, Philipp Lenard, ayudante de Hertz, experimentó el efecto fotoeléctrico entre dos placas metálicas colocadas en un tubo donde se había hecho el vacío, donde observó cómo al colocar una batería se detectaba corriente eléctrica debido a la emisión de fotoelectrones desde la placa iluminada con luz ultravioleta. Por tanto, antes de 1905 se habían establecido experimentalmente tres hechos empíricos asociados al efecto fotoeléctrico, que son la existencia de una frecuencia umbral de la luz incidente por debajo de la cual no se observa la emisión de fotoelectrones, la energía de los fotoelectrones aumenta con la frecuencia de la luz incidente y la ausencia de tiempo de retardo en la emisión de fotoelectrones. En este mismo año, 1905,  Einstein explicó el efecto fotoeléctrico introduciendo la teoría cuántica de la luz, pero admitió que su teoría también era incompleta porque no podía justificar fenómenos tales como la interferencia, difracción y polarización, mientras que la teoría ondulatoria de Lenard y antecesores sí era capaz de interpretar; debido a esto en 1909, Einstein habló de la fusión de ambas teorías. No fue hasta 1923 que los experimentos de P. Debye y Compton hicieron que la mayoría de los físicos se convencieron en adoptar la teoría cuántica de la luz de Einstein. Ese mismo año Louis Victor Pierre Raymond de Broglie dio un paso más y generalizó la dualidad onda-corpúsculo al caso de las partículas materiales y en concreto de los electrones asignándoles una “onda asociada ficticia”, es decir, en 1923 se generalizó la naturaleza híbrida de los cuantos, dotada al mismo tiempo de características corpusculares y ondulatorias (dualidad onda-corpúsculo). Einstein advirtió de este fenómeno casi 20 años antes y le concedieron, no sin polémica, el Premio Nobel de 1921 por el descubrimiento de la ley del efecto fotoeléctrico.</p>\n",
    "\n"
   ]
  },
  {
   "cell_type": "markdown",
   "metadata": {},
   "source": [
    "\n",
    "\n",
    " "
   ]
  },
  {
   "cell_type": "code",
   "execution_count": null,
   "metadata": {},
   "outputs": [],
   "source": []
  }
 ],
 "metadata": {
  "kernelspec": {
   "display_name": "Python 3",
   "language": "python",
   "name": "python3"
  },
  "language_info": {
   "codemirror_mode": {
    "name": "ipython",
    "version": 3
   },
   "file_extension": ".py",
   "mimetype": "text/x-python",
   "name": "python",
   "nbconvert_exporter": "python",
   "pygments_lexer": "ipython3",
   "version": "3.7.7"
  }
 },
 "nbformat": 4,
 "nbformat_minor": 4
}
