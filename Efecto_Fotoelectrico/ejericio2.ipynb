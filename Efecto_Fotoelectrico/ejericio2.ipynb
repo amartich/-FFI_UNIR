{
  "cells": [
    {
      "cell_type": "code",
      "source": [
        "from sympy.physics.units import Quantity\n",
        "Gs = Quantity(\"Gauss\")\n",
        "from sympy.physics.units.systems import SI\n",
        "from sympy.physics.units.system\n",
        "from sympy.physics.units import magnetic_flux_density\n",
        "SI.set_quantity_dimension(Gs, magnetic_flux_density)\n",
        "from sympy.physics.units import tesla\n",
        "SI.set_quantity_scale_factor(Gs, 1E-4*tesla)\n",
        "B = 3250 * Gs\n",
        "from sympy.physics.units import joule\n",
        "E = 72090E-19 * joule\n",
        "from sympy import solve, symbols, pi, Eq\n",
        "r = symbols(\"r_giro\")\n",
        "v = symbols(\"v_giro\")\n",
        "from sympy.physics.units import electronvolt\n",
        "from sympy.physics.units import volt\n",
        "q = 1*electronvolt/volt\n",
        "from sympy.physics.units import speed_of_light as c\n",
        "m = 0.5 * 1E6 * electronvolt / c**2\n",
        "eq_lorentz = Eq(q*v*B, (m*v**2)/r)\n",
        "eq_ecinetica = Eq(E, 0.5*m*v**2)\n",
        "solucion_v_r = solve([eq_ecinetica, eq_lorentz], [v, r])[1]\n",
        "radio = solucion_v_r[1]\n",
        "\n",
        "from sympy.physics.units import convert_to\n",
        "from sympy.physics.units import meter\n",
        "radio = convert_to(radio, [meter]).n(2)\n",
        "print(radio)"
      ],
      "outputs": [
        {
          "output_type": "error",
          "ename": "SyntaxError",
          "evalue": "invalid syntax (<ipython-input-1-dbdabc9c2b68>, line 4)",
          "traceback": [
            "\u001b[0;36m  File \u001b[0;32m\"<ipython-input-1-dbdabc9c2b68>\"\u001b[0;36m, line \u001b[0;32m4\u001b[0m\n\u001b[0;31m    from sympy.physics.units.system\u001b[0m\n\u001b[0m                                   ^\u001b[0m\n\u001b[0;31mSyntaxError\u001b[0m\u001b[0;31m:\u001b[0m invalid syntax\n"
          ]
        }
      ],
      "execution_count": 1,
      "metadata": {
        "collapsed": true,
        "jupyter": {
          "source_hidden": false,
          "outputs_hidden": false
        },
        "nteract": {
          "transient": {
            "deleting": false
          }
        },
        "execution": {
          "iopub.status.busy": "2020-11-28T09:37:12.409Z",
          "iopub.execute_input": "2020-11-28T09:37:12.418Z",
          "iopub.status.idle": "2020-11-28T09:37:12.430Z",
          "shell.execute_reply": "2020-11-28T09:37:12.439Z"
        }
      }
    },
    {
      "cell_type": "markdown",
      "source": [
        " En el código anterior: ¿por qué indicamos que las dimensiones de la unidad gauss (definida por nosotros) son de densidad de flujo magnético (magnetic_flux_density)? ¿Por qué la carga del electrón se ha definido como electronvolt/volt?"
      ],
      "metadata": {
        "nteract": {
          "transient": {
            "deleting": false
          }
        }
      }
    },
    {
      "cell_type": "code",
      "source": [
        "const mjs = require('./math.js');\n",
        "mjs.createUnit('gauss', '0.0001 T')\n",
        "B = mjs.unit(3250, 'gauss')\n",
        "B.to('T')\n",
        "q = mjs.elementaryCharge\n",
        "m = mjs.electronMass\n",
        "E = mjs.unit(72090E-19, 'J')\n",
        "E.toJSON()\n",
        "v = mjs.sqrt(mjs.multiply(2, mjs.divide(E,m)))\n",
        "x = mjs.divide(mjs.multiply(m, mjs.pow(v, 2)), mjs.multiply(q, v, B))\n",
        "x.toString()"
      ],
      "outputs": [
        {
          "output_type": "execute_result",
          "execution_count": 1,
          "data": {
            "text/plain": "'0.002200914915865607 m'"
          },
          "metadata": {}
        }
      ],
      "execution_count": 1,
      "metadata": {
        "collapsed": true,
        "jupyter": {
          "source_hidden": false,
          "outputs_hidden": false
        },
        "nteract": {
          "transient": {
            "deleting": false
          }
        },
        "execution": {
          "iopub.status.busy": "2020-11-25T20:59:37.125Z",
          "iopub.execute_input": "2020-11-25T20:59:37.128Z",
          "iopub.status.idle": "2020-11-25T20:59:37.243Z",
          "shell.execute_reply": "2020-11-25T20:59:37.235Z"
        }
      }
    }
  ],
  "metadata": {
    "kernel_info": {
      "name": "python3"
    },
    "language_info": {
      "name": "python",
      "version": "3.7.7",
      "mimetype": "text/x-python",
      "codemirror_mode": {
        "name": "ipython",
        "version": 3
      },
      "pygments_lexer": "ipython3",
      "nbconvert_exporter": "python",
      "file_extension": ".py"
    },
    "kernelspec": {
      "argv": [
        "/Users/amartich/opt/anaconda3/bin/python",
        "-m",
        "ipykernel_launcher",
        "-f",
        "{connection_file}"
      ],
      "display_name": "Python 3",
      "language": "python",
      "name": "python3"
    },
    "nteract": {
      "version": "0.26.0"
    }
  },
  "nbformat": 4,
  "nbformat_minor": 0
}