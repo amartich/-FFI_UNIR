{
  "cells": [
    {
      "cell_type": "markdown",
      "source": [
        "<div style=\"width:100%; height:3em\">  </div>\n",
        "\n",
        "\n"
      ],
      "metadata": {}
    },
    {
      "cell_type": "markdown",
      "source": [
        " \n",
        "<h2><span style=\"color:#A8A8A8;\">   Actividad #01:</span></h2> \n",
        " <strong><br><br><span style=\"font-size: 4em; margin-left:2em;text-align:center\">El Efecto Fotoeléctrico</span><br><br></strong> \n",
        " <br><br><br>\n",
        "<ul style=\"list-style-type:none;   float:left\">\n",
        "        <li>   Asignatura:  <strong>Fundamentos Físicos de la Informática </strong></li>\n",
        "        <li>     Profesor:  <strong>  Alberto Corbi Bellot</strong> </li>\n",
        "        <li>   Fecha:   <strong>02 de diciembre de de 2020 </strong> </li> \n",
        "        <li>    Autores: \n",
        "               <ul style=\"list-style-type:none;  padding-left:5em\">\n",
        "                        <li> <strong> Anyel Martich </strong></li>\n",
        "                        <li> <strong> Alex Sun </strong></li>\n",
        "                        <li> <strong>Joffe Pilco</strong> </li>\n",
        "                        <li>  <strong>Jaime Orozco </strong></li>\n",
        "            </ul></li></ul>\n",
        "       \n",
        "            "
      ],
      "metadata": {}
    },
    {
      "cell_type": "markdown",
      "source": [
        "   <br><br><br><br><br>   \n",
        "### Índice\n",
        " <ul style=\"list-style-type:none; margin-left:3%; margin-top:2em\">    \n",
        "     <li><a style=\"text-decoration: none;\" href=\"#calentamiento\">1.- Ejercicio de calentamiento</a></li>    \n",
        "     <li style=\"margin-top:1em;\"><a  style=\"text-decoration: none;\" href=\"#ejercicio1\">2.- Primer Ejercicio: Laboratorio virtual</a></li>         \n",
        "    <ul style=\"list-style-type:none;\">\n",
        "        <li  style=\"margin-top:1em\"><a style=\"text-decoration: none;\" href=\"#sheep\">2.1.- ¿Qué hace CheepJ?</a></li>\n",
        "        <li  style=\"margin-top:1em\"><a style=\"text-decoration: none;\" href=\"#relacionmm\">2.2.- Relación matemática entre longitud de onda y frecuencia de una onda electromagnética</a></li>\n",
        "        <li  style=\"margin-top:1em\"><a style=\"text-decoration: none;\" href=\"#cheepweb\">2.2- ¿En qué estándares Web se basa?</a></li>\n",
        "         <li  style=\"margin-top:1em\"><a style=\"text-decoration: none;\" href=\"#tabla\">2.3- Tabla: [Color-Longitud de onda - frecuencia]</a></li>\n",
        "     </ul>\n",
        "    </li>    \n",
        "     <li  style=\"margin-top:1em\"><a style=\"text-decoration: none;\" href=\"#ejercicio2\">3.- Segundo Ejercicio: Ajuste a una recta </a></li>\n",
        "      <li  style=\"margin-top:1em\"><a style=\"text-decoration: none;\" href=\"#ejercicio3\">4.- Tercer Ejercicio: Representación gráfica de los datos</a></li>\n",
        "      <li  style=\"margin-top:1em\"><a style=\"text-decoration: none;\"  href=\"#premium\">5.- Ejercicio \"Premium\": Intensidad de corriente en función de la intensidad de la luz</a></li>\n",
        "    <li  style=\"margin-top:1em\"><a style=\"text-decoration: none;\" href=\"#historia\">6.- Historia en torno al efecto fotoeléctrico</a></li>\n",
        "     <li  style=\"margin-top:1em\"><a style=\"text-decoration: none;\" href=\"#valoraciongrupo\">7.- Tabla de valoración individual</a></li>\n",
        "     <li  style=\"margin-top:1em\"><a style=\"text-decoration: none;\" href=\"#bibliografia\">8.- Bibliografía</a></li>\n",
        "     \n",
        "  </ul>\n",
        "   <br><br><br><br><br>"
      ],
      "metadata": {}
    },
    {
      "cell_type": "markdown",
      "source": [
        "##    <a id=\"calentamiento\"></a>Ejercicio de calentamiento"
      ],
      "metadata": {}
    },
    {
      "cell_type": "markdown",
      "source": [
        "#### Demostrar la siguiente afirmación:"
      ],
      "metadata": {}
    },
    {
      "cell_type": "markdown",
      "source": [
        "$$\\frac{x - x_1}{x_2 - x_1} = \\frac{y - y_1}{y_2 - y_1 } \\equiv y= m \\cdot x + b $$"
      ],
      "metadata": {}
    },
    {
      "cell_type": "markdown",
      "source": [
        "Un <strong>ajuste a una recta</strong> (o regresión lineal) lo que persigue es hallar la ecuación de la recta que mejor pasa por una serie de puntos. Recordamos que una recta se puede definir, como mínimo, con <strong>dos puntos</strong> $x_1,y_1$ y $x_2,y_2$, de manera que cualquier otro punto de dicha recta $x,y$ ,  cumple que: "
      ],
      "metadata": {}
    },
    {
      "cell_type": "markdown",
      "source": [
        "$$\\frac{x - x_1}{x_2 - x_1} = \\frac{y - y_1}{y_2 - y_1 }$$"
      ],
      "metadata": {}
    },
    {
      "cell_type": "markdown",
      "source": [
        "Esta igualdad también se puede expresar como: $ y= m \\cdot x + b $ donde $ m=\\frac{y_1-y_2}{x_1-x_2}\\  \\hspace{.2cm}y\\hspace{.2cm}   b=\\frac{x_1y_2-x_2y_1}{x_1-x_2}$\n",
        "\n",
        "#### Demostración: \n",
        "<br>\n",
        "<div style=\"float:left\"> \n",
        "Despejando:\n",
        "\n",
        "$$\\hspace{0,6cm}\\frac{x - x_1}{x_2 - x_1} = \\frac{y - y_1}{y_2 - y_1 }; \\hspace{0.6cm}y-y_1=\\frac{(x - x_1)(y_2 - y_1 )}{x_2 - x_1}; \\hspace{0.6cm}y-y_1=\\frac{xy_2 -xy_1-x_1y_2+x_1y_1}{x_2 - x_1};$$\n",
        "Pasamos término $ y_1 $ a la fracción:\n",
        "\n",
        "$$\\hspace{0,6cm}y=\\frac{xy_2 -xy_1-x_1y_2+x_1y_1}{x_2 - x_1} + y_1; \\hspace{0.6cm}y=\\frac{xy_2 -xy_1-x_1y_2+x_1y_1+y_1({x_2 - x_1})}{x_2 - x_1};$$\n",
        "Operamos y cancelamos el termino $ x_1y_1 $ con $ -y_1x_1 $ :\n",
        "\n",
        "$$\\hspace{0.6cm}y=\\frac{xy_2 -xy_1-x_1y_2+ {x_1y_1}+y_1x_2 - {y_1x_1}}{x_2 - x_1}; \\hspace{0.6cm}y=\\frac{xy_2 -xy_1-x_1y_2+y_1x_2}{x_2 - x_1};$$\n",
        "Factor común a $ x $ y multiplicamos arriba y abajo de los quebrados por $ -1 $:\n",
        "\n",
        "$$\\hspace{0.6cm}y=\\frac{y_2 -y_1}{x_2 - x_1} x -\\frac{x_1y_2+y_1x_2}{x_2 - x_1}; \\hspace{0.6cm}y=\\frac{-1\\cdot (y_2 -y_1)}{-1\\cdot (x_2 - x_1)} x -\\frac{-1\\cdot(x_1y_2+y_1x_2)}{-1\\cdot(x_2 - x_1)};$$\n",
        "Resultado:\n",
        "\n",
        "$$\\hspace{0.6cm}y= \\underbrace{\\frac{y_1 -y_2}{x_1 - x_2}}_{m}\\cdot x + \\underbrace{\\frac{x_1y_2 -x_2y_1}{x_1- x_2}}_{b} $$"
      ],
      "metadata": {
        "nteract": {
          "transient": {
            "deleting": false
          }
        }
      }
    },
    {
      "cell_type": "markdown",
      "source": [
        "<a id='ejercicio1'></a><h4><span style=\"font-size:2.2em;\"><u>Laboratorio virtual:</u></span><h4>"
      ],
      "metadata": {}
    },
    {
      "cell_type": "markdown",
      "source": [
        "###  <a id=\"sheep\"></a>¿Qué hace CheepJ tras el telón y en qué estándares Web se basa?"
      ],
      "metadata": {}
    },
    {
      "cell_type": "markdown",
      "source": [
        "# Toma de medidas con el applet del efecto Fotoeléctrico"
      ],
      "metadata": {}
    },
    {
      "cell_type": "markdown",
      "source": [
        "## Primer ejercicio. \n",
        "\n",
        "Haced una tabla rápida con el nombre de cada color del arcoíris (azul, rojo, amarillo, etc.) en una columna, en una segunda columna escribe su longitud de onda (en metros) y en una tercera columna, su frecuencia (en Hercios). "
      ],
      "metadata": {}
    },
    {
      "cell_type": "markdown",
      "source": [
        "### <a id=\"relacionmm\"></a> ¿Cuál es la relación matemática entre longitud de onda y frecuencia de una onda electromagnética?"
      ],
      "metadata": {}
    },
    {
      "cell_type": "markdown",
      "source": [
        "#### Experimentando con Sodio\n",
        "  $ \\lambda = $ Longitud de onda | $ V = $ Potenciale de Frenado \n",
        " :------: |:----------: \n",
        " $331{nm}$| $ -1.40_V $  \n",
        "         |          |             |             |\n",
        " $368{nm}$| $  -1.00_V $   \n",
        "         |          |             |             |\n",
        " $415{nm}$   |$  -0.60_V $ \n",
        "         |          |             |             | \n",
        "$466{nm}$ |$  -0.20_V $ \n",
        "  "
      ],
      "metadata": {}
    },
    {
      "cell_type": "markdown",
      "source": [
        "Sodio: $\\lambda = 331{nm} $ ;  $ V = -1.40_V $ \n",
        "\n",
        "<table>\n",
        "\n",
        " <tr><td style=\"text-align:left;\">\n",
        "Sodio: $\\lambda = 331{nm} $ ;  $ V = -1.40_V $ \n",
        "\n",
        "</td>\n",
        "<td style=\"text-align:left;\">\n",
        "Sodio  $ \\lambda = 368{nm} ;  $ V = -1.00_V $ \n",
        "\n",
        "</td></tr>\n",
        "    <tr><td>\n",
        " \n",
        "<img src=\"https://github.com/JaimeOro/FFI-Actividad01/blob/main/sodio-331-140.gif?raw=true\" \n",
        "     style=\"height: 320px; margin-right: 1% ; margin-bottom: 0.0em\">\n",
        "</td> \n",
        "\n",
        "<td>\n",
        "\n",
        "<img src=\"https://github.com/JaimeOro/FFI-Actividad01/blob/main/sodio-368-100.gif?raw=true\" \n",
        "     style=\" height: 320px; margin-right: 1%; margin-top: 0.0em;\">\n",
        "</td></tr>\n",
        "</table>"
      ],
      "metadata": {}
    },
    {
      "cell_type": "markdown",
      "source": [
        "<table>\n",
        " <tr><td style=\"text-align:left;\">\n",
        "Sodio  $ \\lambda = 415{nm}$;  $ V = -0.60_V $ \n",
        "\n",
        "</td>\n",
        "<td style=\"text-align:left;\">\n",
        "Sodio  $ \\lambda = 466{nm}$;  $ V = -0.20_V $ \n",
        "\n",
        "</td></tr>\n",
        "    <tr><td>\n",
        " \n",
        "<img src=\"https://github.com/JaimeOro/FFI-Actividad01/blob/main/sodio-415-060.gif?raw=true\" \n",
        "     style=\"float:left; height: 320px; margin-right: 1% ; margin-bottom: 0.0em\">\n",
        "</td> \n",
        "\n",
        "<td>\n",
        "\n",
        "<img src=\"https://github.com/JaimeOro/FFI-Actividad01/blob/main/sodio-466-020.gif?raw=true\" \n",
        "     style=\"float:right; height: 320px; margin-right: 1%; margin-top: 0.0em;\">\n",
        "</td></tr>\n",
        "</table>"
      ],
      "metadata": {}
    },
    {
      "cell_type": "code",
      "source": [
        "var longitudes_de_onda_medidas_sodio = [331, 368, 415, 466].map(x => x*1e-9);  // para pasar a metros\n",
        "var voltajes_medidos_sodio = [-1.40, -1.00, -0.60, -0.20];  // en voltios (voltaje de frenado)\n",
        "\n",
        "console.log('Logitudes de ondas medidas Sodio= ' + longitudes_de_onda_medidas_sodio);\n",
        "\n",
        "var inversa_de_longitudes_de_onda_sodio = longitudes_de_onda_medidas_sodio.map(lambda => 1/lambda );  \n",
        "var datos_a_ajustar_sodio = voltajes_medidos_sodio.reduce((tuplas_longitud_onda_voltaje_sodio, b, i) => {\n",
        "    tuplas_longitud_onda_voltaje_sodio.push([inversa_de_longitudes_de_onda_sodio[i], b]);\n",
        "  return tuplas_longitud_onda_voltaje_sodio;\n",
        "}, []);\n",
        "console.log('Tuplas 1/lambdas= ' + datos_a_ajustar_sodio); // Verás que son tuplas de valores 1/lambda y voltajes"
      ],
      "outputs": [
        {
          "output_type": "stream",
          "name": "stdout",
          "text": [
            "Logitudes de ondas medidas Sodio= 3.3100000000000004e-7,3.68e-7,4.1500000000000005e-7,4.66e-7\n",
            "Tuplas 1/lambdas= 3021148.036253776,-1.4,2717391.304347826,-1,2409638.5542168673,-0.6,2145922.746781116,-0.2\n"
          ]
        }
      ],
      "execution_count": 1,
      "metadata": {
        "execution": {
          "iopub.execute_input": "2020-11-23T22:52:19.387Z",
          "iopub.status.busy": "2020-11-23T22:52:19.378Z",
          "iopub.status.idle": "2020-11-23T22:52:19.406Z",
          "shell.execute_reply": "2020-11-23T22:52:19.272Z"
        }
      }
    },
    {
      "cell_type": "markdown",
      "source": [
        "#### Experimentando con  Zinc\n",
        "  $ \\lambda = $ Longitud de onda | $ V = $ Potenciale de Frenado \n",
        " :------: |:----------: \n",
        " $215{nm}$| $ -1.40_V $  \n",
        "         |          |             |             |\n",
        " $230{nm}$| $  -1.00_V $   \n",
        "         |          |             |             |\n",
        " $246{nm}$   |$  -0.60_V $ \n",
        "         |          |             |             | \n",
        "$262{nm}$ |$  -0.20_V $ "
      ],
      "metadata": {}
    },
    {
      "cell_type": "markdown",
      "source": [
        "<table>\n",
        " <tr><td style=\"text-align:left;\">Sodio  $ \\lambda = 215{nm}$;  $ V = -1.40_V $ \n",
        "</td>\n",
        "<td style=\"text-align:left;\">Sodio  $ \\lambda = 230{nm}$;  $ V = -1.00_V $ \n",
        "</td></tr>\n",
        "    <tr><td>\n",
        " \n",
        "<img src=\"https://github.com/JaimeOro/FFI-Actividad01/blob/main/zinc-215-140.gif?raw=true\" \n",
        "     style=\"height: 320px; margin-right: 1% ; margin-bottom: 0.0em\">\n",
        "</td> \n",
        "\n",
        "<td>\n",
        "\n",
        "<img src=\"https://github.com/JaimeOro/FFI-Actividad01/blob/main/zinc-230-100.gif?raw=true\" \n",
        "     style=\" height: 320px; margin-right: 1%; margin-top: 0.0em;\">\n",
        "</td></tr>\n",
        "</table>"
      ],
      "metadata": {}
    },
    {
      "cell_type": "markdown",
      "source": [
        "<table>\n",
        " <tr><td style=\"text-align:left;\">\n",
        "Sodio  $ \\lambda = 246{nm}$;  $ V = -0.60_V $ \n",
        "</td>\n",
        "<td style=\"text-align:left;\">Sodio  $ \\lambda = 262{nm}$;  $ V = -0.20_V $ \n",
        "</td></tr>\n",
        "    <tr><td>\n",
        " \n",
        "<img src=\"https://github.com/JaimeOro/FFI-Actividad01/blob/main/zinc-246-060.gif?raw=true\" \n",
        "     style=\"float:left; height: 320px; margin-right: 1% ; margin-bottom: 0.0em\">\n",
        "</td> \n",
        "\n",
        "<td>\n",
        "\n",
        "<img src=\"https://github.com/JaimeOro/FFI-Actividad01/blob/main/zinc-262-020.gif?raw=true\" \n",
        "     style=\"float:right; height: 320px; margin-right: 1%; margin-top: 0.0em;\">\n",
        "</td></tr>\n",
        "</table>"
      ],
      "metadata": {}
    },
    {
      "cell_type": "code",
      "source": [
        "var longitudes_de_onda_medidas_zinc = [215, 230, 246, 262].map(x => x*1e-9);  // para pasar a metros\n",
        "var voltajes_medidos_zinc = [-1.40, -1.00, -0.60, -0.20];  // en voltios (voltaje de frenado)\n",
        "\n",
        "\n",
        "console.log('Logitudes de ondas medidas Zinc= ' + longitudes_de_onda_medidas_zinc);\n",
        "\n",
        "var inversa_de_longitudes_de_onda_zinc = longitudes_de_onda_medidas_zinc.map(lambda => 1/lambda );  \n",
        "var datos_a_ajustar_zinc = voltajes_medidos_zinc.reduce((tuplas_longitud_onda_voltaje_zinc, b, i) => {\n",
        "    tuplas_longitud_onda_voltaje_zinc.push([inversa_de_longitudes_de_onda_zinc[i], b]);\n",
        "  return tuplas_longitud_onda_voltaje_zinc;\n",
        "}, []);\n",
        "console.log('Tuplas 1/lambdas= ' + datos_a_ajustar_zinc); // Verás que son tuplas de valores 1/lambda y voltajes\n",
        "\n",
        "\n"
      ],
      "outputs": [
        {
          "output_type": "stream",
          "name": "stdout",
          "text": [
            "Logitudes de ondas medidas Zinc= 2.15e-7,2.3000000000000002e-7,2.46e-7,2.62e-7\n",
            "Tuplas 1/lambdas= 4651162.790697674,-1.4,4347826.0869565215,-1,4065040.650406504,-0.6,3816793.893129771,-0.2\n"
          ]
        }
      ],
      "execution_count": 2,
      "metadata": {
        "execution": {
          "iopub.execute_input": "2020-11-23T22:52:19.427Z",
          "iopub.status.busy": "2020-11-23T22:52:19.419Z",
          "iopub.status.idle": "2020-11-23T22:52:19.443Z",
          "shell.execute_reply": "2020-11-23T22:52:19.283Z"
        }
      }
    },
    {
      "cell_type": "markdown",
      "source": [
        "## <a id='ejercicio2'></a> Ejercicio 2: Ajuste a una recta "
      ],
      "metadata": {}
    },
    {
      "cell_type": "markdown",
      "source": [
        "### Realizamo el ajuste de la recta y calculamos los valores de $ m $ y $b$"
      ],
      "metadata": {}
    },
    {
      "cell_type": "markdown",
      "source": [
        "**Constantes:**<br>\n",
        "$\\pi=3.141592 $<br>\n",
        "$ e=-1.602  x  10^{-19}$<br>\n",
        "$ c=3 x 10^{8}$<br>"
      ],
      "metadata": {}
    },
    {
      "cell_type": "code",
      "source": [
        "pi=3.141592\n",
        "e=-1.602e-19\n",
        "c=3e8"
      ],
      "outputs": [
        {
          "output_type": "execute_result",
          "execution_count": 3,
          "data": {
            "text/plain": "300000000"
          },
          "metadata": {}
        }
      ],
      "execution_count": 3,
      "metadata": {
        "collapsed": true,
        "jupyter": {
          "source_hidden": false,
          "outputs_hidden": false
        },
        "nteract": {
          "transient": {
            "deleting": false
          }
        },
        "execution": {
          "iopub.status.busy": "2020-11-23T22:52:19.455Z",
          "iopub.execute_input": "2020-11-23T22:52:19.464Z",
          "iopub.status.idle": "2020-11-23T22:52:19.479Z",
          "shell.execute_reply": "2020-11-23T22:52:19.295Z"
        }
      }
    },
    {
      "cell_type": "markdown",
      "source": [
        "### Regresión Sodio"
      ],
      "metadata": {}
    },
    {
      "cell_type": "code",
      "source": [
        "var regression = require('./regression.js');\n",
        "var result = regression.linear(datos_a_ajustar_sodio, { precision: 15 });\n",
        "var m = result.equation[0];  // pendiente\n",
        "var b = result.equation[1];  // ordenada al origen\n",
        "console.log('Pendiente m = ' + m);\n",
        "console.log('Ordenada b = ' + b);\n",
        "\n",
        "//var h=(m * 1.602e-19)/(2 * 3.141592 * 3e8);\n",
        "var h=(m * e)/(2*pi * c)\n",
        "console.log('h = ' + h + \" j*s\");"
      ],
      "outputs": [
        {
          "output_type": "stream",
          "name": "stdout",
          "text": [
            "Pendiente m = -0.000001361958109\n",
            "Ordenada b = 2.705033460922165\n",
            "h = 1.157511271683274e-34 j*s\n"
          ]
        }
      ],
      "execution_count": 4,
      "metadata": {
        "execution": {
          "iopub.execute_input": "2020-11-23T22:52:19.504Z",
          "iopub.status.busy": "2020-11-23T22:52:19.493Z",
          "iopub.status.idle": "2020-11-23T22:52:19.531Z",
          "shell.execute_reply": "2020-11-23T22:52:19.305Z"
        }
      }
    },
    {
      "cell_type": "markdown",
      "source": [
        "Una  vez calculado los datos obtenemos los valores de la pendinente mediante la formula:\n",
        "$$\\hspace{5.3cm} m=\\frac{2\\pi h c }{ e}$$ y si despejamos de la formula $h$ obtenemos el valor de la consntante de Planck:\n",
        "\n",
        "$$ h = \\frac{m*e}{2*\\pi*c};   \\hspace{1.5em}   h=\\frac{ -0.000001361958109*1.602*10^-19}{2*3.141592*3*10^8}= -1.157511271683274*10^-34\\  J*s $$</pre>"
      ],
      "metadata": {}
    },
    {
      "cell_type": "markdown",
      "source": [
        "### Regresión Zinc"
      ],
      "metadata": {}
    },
    {
      "cell_type": "code",
      "source": [
        "var regression = require('./regression.js');\n",
        "var result = regression.linear(datos_a_ajustar_zinc, { precision: 15 });\n",
        "var m = result.equation[0];  // pendiente\n",
        "var b = result.equation[1];  // ordenada al origen\n",
        "console.log('Pendiente m = ' + m);\n",
        "console.log('Ordenada b = ' + b);\n",
        "//var h=(m * 1.602e-19)/(2 * 3.141592 * 3e8)\n",
        "var h=(m * e)/(2*pi * c)\n",
        "console.log('h = ' + h + \" j*s\");"
      ],
      "outputs": [
        {
          "output_type": "stream",
          "name": "stdout",
          "text": [
            "Pendiente m = -0.000001432967943\n",
            "Ordenada b = 5.247419703502382\n",
            "h = 1.2178616471553278e-34 j*s\n"
          ]
        }
      ],
      "execution_count": 5,
      "metadata": {
        "execution": {
          "iopub.execute_input": "2020-11-23T22:52:19.558Z",
          "iopub.status.busy": "2020-11-23T22:52:19.547Z",
          "iopub.status.idle": "2020-11-23T22:52:19.600Z",
          "shell.execute_reply": "2020-11-23T22:52:19.315Z"
        }
      }
    },
    {
      "cell_type": "markdown",
      "source": [
        "Una  vez calculado los datos obtenemos los valores de la pendinente mediante la formula:\n",
        "$$\\hspace{5.3cm} m=\\frac{2\\pi h c }{ e}$$ y si despejamos de la formula $h$ obtenemos el valor de la consntante de Planck:\n",
        "\n",
        "$$ h = \\frac{m*e}{2*\\pi*c};   \\hspace{1.5em}  h=\\frac{ -0.000001432967943*1.602*10^-19}{2*3.141592*3*10^8}= -1.2178616471553278*10^-34\\  J*s $$"
      ],
      "metadata": {}
    },
    {
      "cell_type": "markdown",
      "source": [
        "# Representación gráfica de los datos\n"
      ],
      "metadata": {
        "nteract": {
          "transient": {
            "deleting": false
          }
        }
      }
    },
    {
      "cell_type": "code",
      "source": [
        "function Plotly(data, layout, $$) {\n",
        "    $$ = $$ || global.$$;\n",
        "    $$.mime({ \"application/vnd.plotly.v1+json\": { data: data,  layout: layout } });\n",
        "}"
      ],
      "outputs": [],
      "execution_count": 6,
      "metadata": {
        "collapsed": true,
        "jupyter": {
          "source_hidden": false,
          "outputs_hidden": false
        },
        "nteract": {
          "transient": {
            "deleting": false
          }
        },
        "execution": {
          "shell.execute_reply": "2020-11-23T22:52:19.324Z",
          "iopub.status.busy": "2020-11-23T22:52:19.613Z",
          "iopub.execute_input": "2020-11-23T22:52:19.622Z",
          "iopub.status.idle": "2020-11-23T22:52:19.632Z"
        }
      }
    },
    {
      "cell_type": "markdown",
      "source": [
        "Para dibujar la recta, tenemos que calcular los puntos $y$ (voltajes) para los mismos valores de $x$ (inversas de las longitudes de onda medidas con el applet) y con los resultados de $m$ y $b$ que hemos obtenido con el ajuste anterior. Matemáticamente: $V_{calculando} = m \\cdot \\frac 1{\\lambda} + b$. \n"
      ],
      "metadata": {
        "nteract": {
          "transient": {
            "deleting": false
          }
        }
      }
    },
    {
      "cell_type": "markdown",
      "source": [
        "En Javascript este cálculo se puede hacer de manera muy sencilla mediante el método $map$ sobre el array de frecuencias medidas, como se ve en el codigo siguiente."
      ],
      "metadata": {
        "nteract": {
          "transient": {
            "deleting": false
          }
        }
      }
    },
    {
      "cell_type": "code",
      "source": [
        "voltajes_de_frenado_calculados_sodio = inversa_de_longitudes_de_onda_sodio.map(inversa_lambda => inversa_lambda * m + b);\n"
      ],
      "outputs": [
        {
          "output_type": "execute_result",
          "execution_count": 7,
          "data": {
            "text/plain": "[\n  0.9182114164933202,\n  1.3534850757849912,\n  1.7944849010927442,\n  2.172381199210537\n]"
          },
          "metadata": {}
        }
      ],
      "execution_count": 7,
      "metadata": {
        "collapsed": true,
        "jupyter": {
          "source_hidden": false,
          "outputs_hidden": false
        },
        "nteract": {
          "transient": {
            "deleting": false
          }
        },
        "execution": {
          "shell.execute_reply": "2020-11-23T22:52:19.334Z",
          "iopub.status.busy": "2020-11-23T22:52:19.642Z",
          "iopub.execute_input": "2020-11-23T22:52:19.651Z",
          "iopub.status.idle": "2020-11-23T22:52:19.665Z"
        }
      }
    },
    {
      "cell_type": "code",
      "source": [
        "voltajes_de_frenado_calculados_zinc = inversa_de_longitudes_de_onda_zinc.map(inversa_lambda => inversa_lambda * m + b);"
      ],
      "outputs": [
        {
          "output_type": "execute_result",
          "execution_count": 8,
          "data": {
            "text/plain": "[\n  -1.417547473241803,\n  -0.982875700845443,\n  -0.5776532355220079,\n  -0.22192359039074727\n]"
          },
          "metadata": {}
        }
      ],
      "execution_count": 8,
      "metadata": {
        "collapsed": true,
        "jupyter": {
          "source_hidden": false,
          "outputs_hidden": false
        },
        "nteract": {
          "transient": {
            "deleting": false
          }
        },
        "execution": {
          "iopub.status.busy": "2020-11-23T22:52:19.679Z",
          "iopub.execute_input": "2020-11-23T22:52:19.687Z",
          "iopub.status.idle": "2020-11-23T22:52:19.703Z",
          "shell.execute_reply": "2020-11-23T22:52:19.343Z"
        }
      }
    },
    {
      "cell_type": "code",
      "source": [
        "datos = [\n",
        "  { x: inversa_de_longitudes_de_onda_sodio, y: voltajes_medidos_sodio, name: 'Datos experimentales' }, \n",
        "  { x: inversa_de_longitudes_de_onda_sodio, y: voltajes_de_frenado_calculados_sodio, name: 'Datos calculados tras ajuste' },\n",
        "];\n",
        "\n",
        "var layout = {\n",
        "  title: 'Regresión Sodio<br>x=1/lambda*1/m ',\n",
        "  xaxis: { title: 'x = Inversa de longitudes',\n",
        "    titlefont: { family: 'Arial, monospace', size: 15, color: '#c94c4c' , type: 'scatter', autorange: true, uirevision:'true' }\n",
        "  },\n",
        "  yaxis: {\n",
        "    title: 'y= Potencia en Voltage', titlefont: {\n",
        "      family: 'Arial, monospace ', size: 15, color: '#c94c4c' , type: 'scatter', autorange: true, uirevision:'true' }\n",
        "  }\n",
        "};\n",
        "Plotly(datos, layout);"
      ],
      "outputs": [
        {
          "output_type": "execute_result",
          "execution_count": 58,
          "data": {
            "application/vnd.plotly.v1+json": {
              "data": [
                {
                  "x": [
                    3021148.036253776,
                    2717391.304347826,
                    2409638.5542168673,
                    2145922.746781116
                  ],
                  "y": [
                    -1.4,
                    -1,
                    -0.6,
                    -0.2
                  ],
                  "name": "Datos experimentales"
                },
                {
                  "x": [
                    3021148.036253776,
                    2717391.304347826,
                    2409638.5542168673,
                    2145922.746781116
                  ],
                  "y": [
                    0.9182114164933202,
                    1.3534850757849912,
                    1.7944849010927442,
                    2.172381199210537
                  ],
                  "name": "Datos calculados tras ajuste"
                }
              ],
              "layout": {
                "title": "Regresión Sodio<br>x=1/lambda*1/m ",
                "xaxis": {
                  "title": "x = Inversa de longitudes",
                  "titlefont": {
                    "family": "Arial, monospace",
                    "size": 15,
                    "color": "#c94c4c",
                    "type": "scatter",
                    "autorange": true,
                    "uirevision": "true"
                  }
                },
                "yaxis": {
                  "title": "y= Potencia en Voltage",
                  "titlefont": {
                    "family": "Arial, monospace ",
                    "size": 15,
                    "color": "#c94c4c",
                    "type": "scatter",
                    "autorange": true,
                    "uirevision": "true"
                  }
                }
              }
            }
          },
          "metadata": {}
        }
      ],
      "execution_count": 58,
      "metadata": {
        "collapsed": true,
        "jupyter": {
          "source_hidden": false,
          "outputs_hidden": false
        },
        "nteract": {
          "transient": {
            "deleting": false
          }
        },
        "execution": {
          "iopub.status.busy": "2020-11-23T23:51:44.679Z",
          "iopub.execute_input": "2020-11-23T23:51:44.695Z",
          "iopub.status.idle": "2020-11-23T23:51:44.818Z",
          "shell.execute_reply": "2020-11-23T23:51:44.827Z"
        }
      }
    },
    {
      "cell_type": "code",
      "source": [
        "datos = [\n",
        "  { x: inversa_de_longitudes_de_onda_zinc, y: voltajes_medidos_zinc, name: 'Datos experimentales' }, \n",
        "  { x: inversa_de_longitudes_de_onda_zinc, y: voltajes_de_frenado_calculados_zinc, name: 'Datos calculados tras ajuste' },\n",
        "];\n",
        "\n",
        "\n",
        "var layout = {\n",
        "  title: 'Regresión Zinc<br>x=1/lambda*1/m ',\n",
        "  xaxis: { title: 'x = Inversa de longitudes',\n",
        "    titlefont: { family: 'Arial, monospace', size: 15, color: '#c94c4c' , type: 'scatter', autorange: true, uirevision:'true' }\n",
        "  },\n",
        "  yaxis: {\n",
        "    title: 'y= Potencia en Voltage', titlefont: {\n",
        "      family: 'Arial, monospace ', size: 15, color: '#c94c4c' , type: 'scatter', autorange: true, uirevision:'true' }\n",
        "  }\n",
        "};\n",
        "Plotly(datos, layout);"
      ],
      "outputs": [
        {
          "output_type": "execute_result",
          "execution_count": 57,
          "data": {
            "application/vnd.plotly.v1+json": {
              "data": [
                {
                  "x": [
                    4651162.790697674,
                    4347826.0869565215,
                    4065040.650406504,
                    3816793.893129771
                  ],
                  "y": [
                    -1.4,
                    -1,
                    -0.6,
                    -0.2
                  ],
                  "name": "Datos experimentales"
                },
                {
                  "x": [
                    4651162.790697674,
                    4347826.0869565215,
                    4065040.650406504,
                    3816793.893129771
                  ],
                  "y": [
                    -1.417547473241803,
                    -0.982875700845443,
                    -0.5776532355220079,
                    -0.22192359039074727
                  ],
                  "name": "Datos calculados tras ajuste"
                }
              ],
              "layout": {
                "title": "Regresión Zinc<br>x=1/lambda*1/m ",
                "xaxis": {
                  "title": "x = Inversa de longitudes",
                  "titlefont": {
                    "family": "Arial, monospace",
                    "size": 15,
                    "color": "#c94c4c",
                    "type": "scatter",
                    "autorange": true,
                    "uirevision": "true"
                  }
                },
                "yaxis": {
                  "title": "y= Potencia en Voltage",
                  "titlefont": {
                    "family": "Arial, monospace ",
                    "size": 15,
                    "color": "#c94c4c",
                    "type": "scatter",
                    "autorange": true,
                    "uirevision": "true"
                  }
                }
              }
            }
          },
          "metadata": {}
        }
      ],
      "execution_count": 57,
      "metadata": {
        "collapsed": true,
        "jupyter": {
          "source_hidden": false,
          "outputs_hidden": false
        },
        "nteract": {
          "transient": {
            "deleting": false
          }
        },
        "execution": {
          "iopub.status.busy": "2020-11-23T23:50:42.036Z",
          "iopub.execute_input": "2020-11-23T23:50:42.045Z",
          "iopub.status.idle": "2020-11-23T23:50:42.106Z",
          "shell.execute_reply": "2020-11-23T23:50:42.123Z"
        }
      }
    },
    {
      "cell_type": "markdown",
      "source": [
        "###  <a id=\"premium\"></a>Intensidad de corriente en función de la intensidad de la luz"
      ],
      "metadata": {}
    },
    {
      "cell_type": "markdown",
      "source": [
        "Realizamos el experimento:"
      ],
      "metadata": {}
    },
    {
      "cell_type": "markdown",
      "source": [
        "\n",
        "\n",
        "\n",
        "<img src=\"https://raw.githubusercontent.com/amartich/FFI_UNIR/main/Efecto_Fotoelectrico/premium2.gif\" style=\"width: 65%; margin-left: 16%; margin-top: -1.5em;\">"
      ],
      "metadata": {}
    },
    {
      "cell_type": "markdown",
      "source": [
        "Comprobamos en este experimento que al aumentar la intensidad de la luz, aumenta la intensidad de la corriente fotoelectrica.<br>\n",
        "Observamos además en los datos que ésta relación es proporcional. \n",
        "\n",
        "Metal: Zinc<br>\n",
        "$ \\lambda = $ 100nm\n",
        "\n",
        " | Intensidad de la luz<br>en banco de pruebas | Intensidad de corriente | Observaciones\n",
        " :------: |:----------: | :---------- |\n",
        "       0%| $ 0.00A $ |Si la intensidad de la luz es 0, no hay emisión de fotones|\n",
        "         |          |             |             |\n",
        "      50%| $  0.441A $ | A un 50% de intensidad la corriente es de 0.441A \n",
        "      100%| $  0.882A $ | A un 100% de intensidad de la luz, vemos que la corriente es proporcional a la intensidad de la luz.<br> $ \\frac{100}{50} = \\frac{0.882}{0.441} = 2  $\n",
        "\n"
      ],
      "metadata": {}
    },
    {
      "cell_type": "markdown",
      "source": [
        "##    <a id=\"historia\"></a>Historia en torno al Efecto Fotoeléctrico\n"
      ],
      "metadata": {}
    },
    {
      "cell_type": "markdown",
      "source": [
        "<span style=\"float: left; width:100%;\"> \n",
        "  <br>\n",
        "     <p>En 1864, James Clerk Maxwell consiguió la unificación de la electricidad y el magnetismo a través de un conjunto de ecuaciones matemáticas que describían el comportamiento del fenómeno que denominó electromagnetismo. En 1887, H. Hertz experimentó la existencia de las ondas electromagnéticas, pero no fue capaz de esbozar ninguna teoría, ya que ni siquiera conocía la existencia del electrón;  fue dos años después de descubrir el electrón, en 1899, cuando Thomson sostuvo que las partículas emitidas en el efecto fotoeléctrico producido por la luz ultravioleta eran electrones, siendo tal afirmación  aceptada por la comunidad de físicos, asumiendo además, la denominación de fotoelectrones y  aceptando que su generación podía deberse tanto a la luz ultravioleta como a radiación de cualquier otra frecuencia.  En 1902, Philipp Lenard, ayudante de Hertz, experimentó el efecto fotoeléctrico entre dos placas metálicas colocadas en un tubo donde se había hecho el vacío, donde observó cómo al colocar una batería se detectaba corriente eléctrica debido a la emisión de fotoelectrones desde la placa iluminada con luz ultravioleta. Por tanto, antes de 1905 se habían establecido experimentalmente tres hechos empíricos asociados al efecto fotoeléctrico, que son la existencia de una frecuencia umbral de la luz incidente por debajo de la cual no se observa la emisión de fotoelectrones, la energía de los fotoelectrones aumenta con la frecuencia de la luz incidente y la ausencia de tiempo de retardo en la emisión de fotoelectrones. En este mismo año, 1905,  Einstein explicó el efecto fotoeléctrico introduciendo la teoría cuántica de la luz, pero admitió que su teoría también era incompleta porque no podía justificar fenómenos tales como la interferencia, difracción y polarización, mientras que la teoría ondulatoria de Lenard y antecesores sí era capaz de interpretar; debido a esto en 1909, Einstein habló de la fusión de ambas teorías. No fue hasta 1923 que los experimentos de P. Debye y Compton hicieron que la mayoría de los físicos se convencieron en adoptar la teoría cuántica de la luz de Einstein. Ese mismo año Louis Victor Pierre Raymond de Broglie dio un paso más y generalizó la dualidad onda-corpúsculo al caso de las partículas materiales y en concreto de los electrones asignándoles una “onda asociada ficticia”, es decir, en 1923 se generalizó la naturaleza híbrida de los cuantos, dotada al mismo tiempo de características corpusculares y ondulatorias (dualidad onda-corpúsculo). Einstein advirtió de este fenómeno casi 20 años antes y le concedieron, no sin polémica, el Premio Nobel de 1921 por el descubrimiento de la ley del efecto fotoeléctrico.</p>\n",
        "\n"
      ],
      "metadata": {}
    },
    {
      "cell_type": "markdown",
      "source": [
        "\n",
        "\n",
        " "
      ],
      "metadata": {}
    },
    {
      "cell_type": "code",
      "source": [],
      "outputs": [],
      "execution_count": null,
      "metadata": {}
    }
  ],
  "metadata": {
    "kernelspec": {
      "display_name": "Python 3",
      "language": "python",
      "name": "python3"
    },
    "language_info": {
      "name": "javascript",
      "version": "12.8.1",
      "mimetype": "application/javascript",
      "file_extension": ".js"
    },
    "nteract": {
      "version": "0.26.0"
    },
    "gist_id": "a30bad4928a669ce7709623dec921bb2"
  },
  "nbformat": 4,
  "nbformat_minor": 4
}