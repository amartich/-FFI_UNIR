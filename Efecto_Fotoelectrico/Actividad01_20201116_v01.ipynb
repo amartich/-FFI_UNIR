{
 "cells": [
  {
   "cell_type": "markdown",
   "metadata": {},
   "source": [
    "<div style=\"width:100%; height:3em\">  </div>"
   ]
  },
  {
   "cell_type": "markdown",
   "metadata": {},
   "source": [
    " \n",
    "<h2><span style=\"color:#A8A8A8;\">   Actividad #01:</span></h2> \n",
    " <strong><br><br><span style=\"font-size: 4em; margin-left:2em;text-align:center\">El Efecto Fotoeléctrico</span><br><br></strong> \n",
    " <br><br><br>\n",
    "<ul style=\"list-style-type:none;   float:left\">\n",
    "        <li>   Asignatura:  <strong>Fundamentos Físicos de la Informática </strong></li>\n",
    "        <li>     Profesor:  <strong>  Alberto Corbi Bellot</strong> </li>\n",
    "        <li>   Fecha:   <strong>02 de diciembre de de 2020 </strong> </li> \n",
    "        <li>    Autores: \n",
    "               <ul style=\"list-style-type:none;  padding-left:5em\">\n",
    "                        <li> <strong> Anyel Martich </strong></li>\n",
    "                        <li> <strong> Alex Sun </strong></li>\n",
    "                        <li> <strong>Joffe Pilco</strong> </li>\n",
    "                        <li>  <strong>Jaime Orozco </strong></li>\n",
    "            </ul></li></ul>\n",
    "       \n",
    "            "
   ]
  },
  {
   "cell_type": "markdown",
   "metadata": {},
   "source": [
    "   <br><br><br><br><br>   \n",
    "### Índice\n",
    " <ul style=\"list-style-type:none; margin-left:3%; margin-top:2em\">    \n",
    "     <li><a style=\"text-decoration: none;\" href=\"#calentamiento\">1.- Ejercicio de calentamiento</a></li>    \n",
    "     <li style=\"margin-top:1em;\"><a  style=\"text-decoration: none;\" href=\"#ejercicio1\">2.- Primer Ejercicio: Laboratorio virtual</a>         \n",
    "    <ul style=\"list-style-type:none;\">\n",
    "        <li  style=\"margin-top:1em\"><a style=\"text-decoration: none;\" href=\"#sheep\">2.1.- ¿Qué hace CheepJ?</a></li>\n",
    "        <li  style=\"margin-top:1em\"><a style=\"text-decoration: none;\" href=\"#cheepweb\">2.2- ¿En qué estándares Web se basa?</a></li>\n",
    "         <li  style=\"margin-top:1em\"><a style=\"text-decoration: none;\" href=\"#tabla\">2.3- Tabla: [Color-Longitud de onda - frecuencia]</a></li>\n",
    "     </ul>\n",
    "    </li>    \n",
    "     <li  style=\"margin-top:1em\"><a style=\"text-decoration: none;\" href=\"#ejercicio2\">3.- Segundo Ejercicio: Ajuste a una recta </a></li>\n",
    "      <li  style=\"margin-top:1em\"><a style=\"text-decoration: none;\" href=\"#ejercicio3\">4.- Tercer Ejercicio: Representación gráfica de los datos</a></li>\n",
    "      <li  style=\"margin-top:1em\"><a style=\"text-decoration: none;\"  href=\"#ejercicio4\">5.- Ejercicio \"Premium\": Intensidad de corriente en función de la intensidad de la luz</a></li>\n",
    "    <li  style=\"margin-top:1em\"><a style=\"text-decoration: none;\" href=\"#historia\">6.- Historia en torno al efecto fotoeléctrico</a></li>\n",
    "     <li  style=\"margin-top:1em\"><a style=\"text-decoration: none;\" href=\"#valoraciongrupo\">7.- Tabla de valoración individual</a></li>\n",
    "     <li  style=\"margin-top:1em\"><a style=\"text-decoration: none;\" href=\"#bibliografia\">8.- Bibliografía</a></li>\n",
    "     \n",
    "  </ul>\n",
    "   <br><br><br><br><br>"
   ]
  },
  {
   "cell_type": "markdown",
   "metadata": {},
   "source": [
    "##    <a id=\"calentamiento\"></a>Ejercicio de calentamiento"
   ]
  },
  {
   "cell_type": "markdown",
   "metadata": {},
   "source": [
    "Demostrar la siguiente afirmación:"
   ]
  },
  {
   "cell_type": "markdown",
   "metadata": {},
   "source": [
    "$$\\frac{x - x_1}{x_2 - x_1} = \\frac{y - y_1}{y_2 - y_1 } \\hspace{.2cm} es\\hspace{.1cm} equivalente \\hspace{.1cm}a: y= m \\cdot x + b $$"
   ]
  },
  {
   "cell_type": "code",
   "execution_count": null,
   "metadata": {},
   "outputs": [],
   "source": []
  },
  {
   "cell_type": "markdown",
   "metadata": {},
   "source": [
    "##    <a id=\"historia\"></a>Historia en torno al Efecto Fotoeléctrico\n"
   ]
  },
  {
   "cell_type": "markdown",
   "metadata": {
    "nteract": {
     "transient": {
      "deleting": false
     }
    }
   },
   "source": [
    "<span style=\"float: left; width:100%;\">\n",
    "    <br>\n",
    "     En 1864, James Clerk Maxwell consiguió la unificación de la electricidad y el magnetismo a través de un conjunto de ecuaciones matemáticas que describían el comportamiento del fenómeno que denominó electromagnetismo. En 1887, H. Hertz experimentó la existencia de las ondas electromagnéticas, pero no fue capaz de esbozar ninguna teoría, ya que ni siquiera conocía la existencia del electrón;  fue dos años después de descubrir el electrón, en 1899, cuando Thomson sostuvo que las partículas emitidas en el efecto fotoeléctrico producido por la luz ultravioleta eran electrones, siendo tal afirmación  aceptada por y la comunidad de físicos asumiendo además la denominación de fotoelectrones y  aceptando que su generación podía deberse tanto a la luz ultravioleta como a radiación de cualquier otra frecuencia.  En 1902, Philipp Lenard, ayudante de Hertz, experimentó el efecto fotoeléctrico entre dos placas metálicas colocadas en un tubo donde se había hecho el vacío, donde observó cómo al colocar una batería se detectaba corriente eléctrica debido a la emisión de fotoelectrones desde la placa iluminada con luz ultravioleta. Por tanto,  1905 se habían establecido experimentalmente tres hechos empíricos asociados al efecto fotoeléctrico, que son la existencia de una frecuencia umbral de la luz incidente por debajo de la cual no se observa la emisión de fotoelectrones, la energía de los fotoelectrones aumenta con la frecuencia de la luz incidente y la ausencia de tiempo de retardo en la emisión de fotoelectrones. En este mismo año, 1905,  Einstein explicó el efecto fotoeléctrico introduciendo la teoría cuántica de la luz, pero admitió que su teoría también era incompleta porque no podía justificar fenómenos tales como la interferencia, difracción y polarización mientras que la teoría ondulatoria de Lenard y antecesores sí era capaz de interpretar; por eso en 1909 Einstein habló de la fusión de ambas teorías. No fue hasta 1923 que los experimentos de P. Debye y Compton hicieron que la mayoría de los físicos se convencieron en adoptar la teoría cuántica de la luz que Einstein. Ese mismo año Louis Victor Pierre Raymond de Broglie dio un paso más y generalizó la dualidad onda-corpúsculo al caso de las partículas materiales y en concreto de los electrones asignándoles una “onda asociada ficticia”, es decir, en 1923 se generalizó la naturaleza híbrida de los cuantos, dotada al mismo tiempo de características corpusculares y ondulatorias (dualidad onda-corpúsculo), para dar una explicación teórica. Einstein advirtió de este fenómeno casi 20 años antes.\n",
    "\n"
   ]
  },
  {
   "cell_type": "markdown",
   "metadata": {},
   "source": [
    "\n",
    "\n",
    " "
   ]
  },
  {
   "cell_type": "code",
   "execution_count": null,
   "metadata": {},
   "outputs": [],
   "source": []
  },
  {
   "cell_type": "code",
   "execution_count": null,
   "metadata": {},
   "outputs": [],
   "source": []
  }
 ],
 "metadata": {
  "kernelspec": {
   "display_name": "Python 3",
   "language": "python",
   "name": "python3"
  },
  "language_info": {
   "codemirror_mode": {
    "name": "ipython",
    "version": 3
   },
   "file_extension": ".py",
   "mimetype": "text/x-python",
   "name": "python",
   "nbconvert_exporter": "python",
   "pygments_lexer": "ipython3",
   "version": "3.7.7"
  },
  "nteract": {
   "version": "0.26.0"
  }
 },
 "nbformat": 4,
 "nbformat_minor": 4
}
